{
 "cells": [
  {
   "cell_type": "markdown",
   "metadata": {},
   "source": [
    "# Przewidywanie dostępności stacjonarnego internetu szerokopasmowego na podstawie lokalizacji\n",
    "\n",
    "autor: Tomasz Taraś\n",
    "\n",
    "## Wstęp\n",
    "\n",
    "Celem pracy jest przygotowanie modelu, który determinował będzie dostępność internetu na podstawie lokalizacji przestrzennej.\n",
    "\n",
    "Publicznie dostępne są dane na temat tego na jakie (prędkość, technologia) połączenie do internetu możemy liczyć w danej lokalizacji. Dane te zbierane są corocznie w pierwszym kwartale roku według stanu na 31 grudnia roku poprzedniego. Zbiera je Urząd Komunikacji Elektronicznej od przedsiębiorców telekomunikacyjnych. Dane te jednak zbierane są \"do adresu\" czyli jako lokalizacja jest adres lub jego współrzędne, a rejestry adresowe w Polsce są średniej jakości z różnych względów. Przedsiębiorca nie ma możliwości podawania zasięgu swojej sieci w postaci np. poligonów określających przestrzennie skrawek terenu gdzie dany operator może świadczyć usługi. Dodatkowo rozporządzenie określające jakiego rodzaju dane przedsiębiorcy mają podawać w sprawozdaniu do Urzędu jest dość skomplikowane i budzi sporo wątpliwości wśród sprawozdających się.\n",
    "\n",
    "Te dwa czynniki powodują, że jakość danych nie jest idealna. Model stworzony w ramach tej pracy mogłby służyć jako imputer uzupełniający brakujące dane przy innych analizach lub do wykrywania anomalii, czyli obszarów, które dane wskazują jako pozbawione dostępu do szybkiego internetu, które według modelu powinny być w zasięgu sieci lub odwrotnie.\n",
    "\n",
    "Praca skupi się głównie na zebraniu i przygotowaniu danych co jest tutaj głównym wyzwaniem. Część danych, które mogłyby być przydatne do tego zadania jest niedostępna lub płatna i trzeba kreatywnie wykorzystać te zbiory, które są dostępne. Dodatkowym wyzwaniem, będzie rozmiar wykorzystywanych danych jako, że model powinien móc objąć działaniem całą Polskę, która ma ponad 7,4 mln adresów, ponad 14 mln budynków i ponad 311 tys. km2 powierzchni.\n",
    "\n",
    "## Zbiory danych wykorzystane w pracy\n",
    "\n",
    "W pracy wykorzystano następujące zbiory danych:\n",
    "\n",
    "#### Dane o infrastrukturze szerokopasmowej i zasięgach (SIIS)\n",
    "__podmiot__: Urząd Komunikacji Elektronicznej  \n",
    "__link__: [dane.gov.pl](https://dane.gov.pl/dataset/588,system-informacyjny-o-infrastrukturze-szerokopasmowej-api?page=1&per_page=50&sort=-title)  \n",
    "__rozmiar__: spakowane ok. 1GB, rozpakowane pliki CSV ok. 8GB  \n",
    "__opis__: Zbiór zawiera dane o infrastrukturze szerokopasmowej oraz o \"zasięgach\", czyli dostępności usługi dostępu do internetu. Dane przekazywane przez przedsiębiorców telekomunikacyjnych w ramach corocznej inwentaryzacji.\n",
    "\n",
    "#### Dane o adresach z Państwowego Rejestru Granic (PRG)\n",
    "__podmiot__: Główny Urząd Geodezji i Kartografii  \n",
    "__link__: [gugik.gov.pl](http://www.gugik.gov.pl/pzgik/dane-bez-oplat/dane-z-panstwowego-rejestru-granic-i-powierzchni-jednostek-podzialow-terytorialnych-kraju-prg)  \n",
    "__rozmiar__: spakowane ok. 1GB, rozpakowane pliki XML ok. 18GB  \n",
    "__opis__: Zbiór zawiera listę adresów dla całęgo kraju zgodnie z tym co przekazane zostało do urzędu przez samorządy (gminy).\n",
    "\n",
    "#### Modele 3D budynków (LOD1)\n",
    "__podmiot__: Główny Urząd Geodezji i Kartografii  \n",
    "__link__: [linki w geoportalu krajowym](https://mapy.geoportal.gov.pl/imap/Imgp_2.html?locale=pl&gui=new&sessionID=4857706), [opis](https://integracja.gugik.gov.pl/Budynki3D/budynki3d_opis.pdf)  \n",
    "__rozmiar__: spakowane ok. GB  \n",
    "__opis__: Zbiór zawiera modele 3D budynków o dokładności LOD1 dla całego kraju. Modele te zostały wykorzystane do utworzenia warstwy obrysów budynków 2D. To pozwoliło policzyć przybliżoną powierzchnię budynku dla adresu.  \n",
    "Informacje wymagane do podania zgodnie z licenją:  \n",
    "* Źródło: www.geoportal.gov.pl\n",
    "* Dysponent: Główny Geodeta Kraju\n",
    "* Data pobrania zbioru: 2019-11-10\n",
    "* Zakres przetworzenia: Geometria budynków została spłaszczona do 2D oraz wyekstrahowana została część poligonowa wykorzystana dalej jako obrys budynku.\n",
    "* Informacja: Modele 3D budynków nie stanowią rejestru publicznego ani elementu treści takiego rejestru. W konsekwencji czego mają wartość jedynie poglądową. Niezgodność Modeli 3D budynków ze stanem faktycznym lub prawnym, tak w postaci nieprzetworzonej jak i po ich ewentualnym przetworzeniu w procesie ponownego wykorzystania, nie może stanowić podstawy odpowiedzialności Głównego Geodety Kraju z jakiegokolwiek tytułu wobec jakiegokolwiek podmiotu.\n",
    "* Licencja: https://integracja.gugik.gov.pl/Budynki3D/GUGiK_Licencja_na_Budynki3D.pdf\n",
    "\n",
    "#### Numeryczny Model Terenu (NMT)\n",
    "__podmiot__: Główny Urząd Geodezji i Kartografii  \n",
    "__link__: [gugik.gov.pl](http://www.gugik.gov.pl/pzgik/dane-bez-oplat/dane-dotyczace-numerycznego-modelu-terenu-o-interwale-siatki-co-najmniej-100-m-nmt_100)  \n",
    "__rozmiar__: spakowane ok. MB, rozpakowane pliki txt ok. MB  \n",
    "__opis__: Zbiór zawiera punkty pomiarowe (co 100m) wysokości terenu nad poziomem morza. Zostanie wykorzystany do określenia ukształtowania terenu dla punktu.\n",
    "\n",
    "#### Dane o nazwach urzędowych jednostek administracyjnych, miejscowości i ulic (rejestr TERYT)\n",
    "__podmiot__: Główny Urząd Statystyczny  \n",
    "__link__: [eteryt.stat.gov.pl](http://eteryt.stat.gov.pl/eTeryt/rejestr_teryt/udostepnianie_danych/baza_teryt/uzytkownicy_indywidualni/pobieranie/pliki_pelne.aspx)  \n",
    "__rozmiar__: spakowane ok. 7MB, rozpakowane pliki CSV ok. 20MB  \n",
    "__opis__: Zbiór zawiera oficjalną listę nazw jednostek administracyjnych, miejscowości i ulic kompilowaną przez GUS na podstawie rozporządzeń (jednostki, miejscowości) oraz uchwał samorządowych (ulice). Zbiór wykorzystany do walidacj danych adresowych PRG.\n",
    "\n",
    "Wszystkie zbiory należą do danych publicznych udostępnianych przez urzędy na podstawie odpowiednich przepisów.\n",
    "\n",
    "## Przygotowanie danych o infrastrukturze szerokopasmowej\n",
    "\n",
    "Po pobraniu archiwum z najnowszymi dostępnymi danymi ze strony: i rozpakowaniu go, ładujemy biblioteki i ścieżki do plików z danymi, żeby móc wstępnie przetowrzyć dane w Pythonie.\n",
    "\n",
    "Archiwum zawiera kilka plików CSV:\n",
    "* networkendpoint_view.csv - plik zawiera tzw. \"zakończenia sieci\" w praktyce oznacza to \"zasięg\" sieci w postaci listy adresów lub współrzędnych z informacją w jakiej technologii i o jakiej maksymalnej prędkości dostawca internetu może świadczyć usługę w danym budynku;\n",
    "* users_entity_view.csv - plik zawiera listę przedsiębiorców telekomunikacyjnych z id, służy głównie jako lookup table dla pozostałych plików, jeżeli interesuje nas który przedsiębiorca świadczy usługę lub posiada dany kawałek infrastruktury\n",
    "* infrastructure_node_view.csv - plik zawiera informacje o węzłach telekomunikacyjnych, są to adresy lub współrzędne miejsc, gdzie jest infrastruktura telekomunikacyjna taka jak routery, switche itp;\n",
    "* infrastructure_nodeinterface_view.csv - plik zawiera informacje o interfejsach w węzłach, czyli sprzęt jakich technologii znajduje się w węźle\n",
    "* infrastructure_noderangeradio_view.csv - plik zawiera informacje o zasięgach anten radiowych, na cele tej analizy nie będzie to nam potrzebne"
   ]
  },
  {
   "cell_type": "code",
   "execution_count": 1,
   "metadata": {},
   "outputs": [],
   "source": [
    "import os\n",
    "import pandas as pd\n",
    "import numpy as np\n",
    "\n",
    "folder = r'C:\\Users\\ttaras\\jupyter\\2018'\n",
    "path_nodes = os.path.join(folder, 'infrastructure_node_view.csv')\n",
    "path_node_interfaces = os.path.join(folder, 'infrastructure_nodeinterface_view.csv')\n",
    "path_node_range_radio = os.path.join(folder, 'infrastructure_noderangeradio_view.csv')\n",
    "path_companies = os.path.join(folder, 'users_entity_view.csv')\n",
    "path_endpoints = os.path.join(folder, 'networkendpoint_view.csv')\n"
   ]
  },
  {
   "cell_type": "markdown",
   "metadata": {},
   "source": [
    "Dalej przygotujemy oddzielnie dane dla zasięgów oraz dane dla węzłów.\n",
    "\n",
    "### Zasięgi\n",
    "\n",
    "Ładujemy dane o zasięgach z pliku CSV. Pomijamy od razu część kolumn i nadajemy odpowiednie typy."
   ]
  },
  {
   "cell_type": "code",
   "execution_count": 2,
   "metadata": {},
   "outputs": [],
   "source": [
    "endpoints_df = pd.read_csv(\n",
    "    path_endpoints, \n",
    "    usecols=[\n",
    "        'municipality_code_value',\n",
    "        'city_code_value',\n",
    "        'city_name',\n",
    "        'street_code_value',\n",
    "        'street_name',\n",
    "        'house_no',\n",
    "        'latitude',\n",
    "        'longitude',\n",
    "        'medium',\n",
    "        'stationary_bandwidth_name'\n",
    "    ],\n",
    "    dtype={\n",
    "        'municipality_code_value': 'category',\n",
    "        'city_code_value': 'category',\n",
    "        'city_name': str,\n",
    "        'street_code_value': 'category',\n",
    "        'street_name': str,\n",
    "        'house_no': str,\n",
    "        'latitude': np.float64,\n",
    "        'longitude': np.float64,\n",
    "        'medium': 'category',\n",
    "        'stationary_bandwidth_name': np.float32\n",
    "    }\n",
    ")"
   ]
  },
  {
   "cell_type": "markdown",
   "metadata": {},
   "source": [
    "Tak wygląda DataFrame po załadowaniu"
   ]
  },
  {
   "cell_type": "code",
   "execution_count": 3,
   "metadata": {},
   "outputs": [
    {
     "data": {
      "text/html": [
       "<div>\n",
       "<style scoped>\n",
       "    .dataframe tbody tr th:only-of-type {\n",
       "        vertical-align: middle;\n",
       "    }\n",
       "\n",
       "    .dataframe tbody tr th {\n",
       "        vertical-align: top;\n",
       "    }\n",
       "\n",
       "    .dataframe thead th {\n",
       "        text-align: right;\n",
       "    }\n",
       "</style>\n",
       "<table border=\"1\" class=\"dataframe\">\n",
       "  <thead>\n",
       "    <tr style=\"text-align: right;\">\n",
       "      <th></th>\n",
       "      <th>municipality_code_value</th>\n",
       "      <th>city_code_value</th>\n",
       "      <th>city_name</th>\n",
       "      <th>street_code_value</th>\n",
       "      <th>street_name</th>\n",
       "      <th>house_no</th>\n",
       "      <th>latitude</th>\n",
       "      <th>longitude</th>\n",
       "      <th>medium</th>\n",
       "      <th>stationary_bandwidth_name</th>\n",
       "    </tr>\n",
       "  </thead>\n",
       "  <tbody>\n",
       "    <tr>\n",
       "      <th>0</th>\n",
       "      <td>1418044</td>\n",
       "      <td>0921438</td>\n",
       "      <td>Piaseczno</td>\n",
       "      <td>09340</td>\n",
       "      <td>ul. Kordeckiego</td>\n",
       "      <td>4</td>\n",
       "      <td>52.057000</td>\n",
       "      <td>21.002062</td>\n",
       "      <td>radiowe</td>\n",
       "      <td>0.0</td>\n",
       "    </tr>\n",
       "    <tr>\n",
       "      <th>1</th>\n",
       "      <td>1418044</td>\n",
       "      <td>0921438</td>\n",
       "      <td>Piaseczno</td>\n",
       "      <td>10036</td>\n",
       "      <td>ul. Krupówki</td>\n",
       "      <td>7</td>\n",
       "      <td>52.068033</td>\n",
       "      <td>21.033234</td>\n",
       "      <td>radiowe</td>\n",
       "      <td>0.0</td>\n",
       "    </tr>\n",
       "    <tr>\n",
       "      <th>2</th>\n",
       "      <td>1418044</td>\n",
       "      <td>0921438</td>\n",
       "      <td>Piaseczno</td>\n",
       "      <td>11205</td>\n",
       "      <td>ul. 11 Listopada</td>\n",
       "      <td>83</td>\n",
       "      <td>52.050284</td>\n",
       "      <td>20.990206</td>\n",
       "      <td>radiowe</td>\n",
       "      <td>0.0</td>\n",
       "    </tr>\n",
       "    <tr>\n",
       "      <th>3</th>\n",
       "      <td>1418044</td>\n",
       "      <td>0921438</td>\n",
       "      <td>Piaseczno</td>\n",
       "      <td>14907</td>\n",
       "      <td>ul. Okrężna</td>\n",
       "      <td>18</td>\n",
       "      <td>52.062186</td>\n",
       "      <td>20.982096</td>\n",
       "      <td>radiowe</td>\n",
       "      <td>0.0</td>\n",
       "    </tr>\n",
       "    <tr>\n",
       "      <th>4</th>\n",
       "      <td>1418044</td>\n",
       "      <td>0921438</td>\n",
       "      <td>Piaseczno</td>\n",
       "      <td>15129</td>\n",
       "      <td>ul. Orężna</td>\n",
       "      <td>7</td>\n",
       "      <td>52.070958</td>\n",
       "      <td>21.007444</td>\n",
       "      <td>radiowe</td>\n",
       "      <td>0.0</td>\n",
       "    </tr>\n",
       "  </tbody>\n",
       "</table>\n",
       "</div>"
      ],
      "text/plain": [
       "  municipality_code_value city_code_value  city_name street_code_value  \\\n",
       "0                 1418044         0921438  Piaseczno             09340   \n",
       "1                 1418044         0921438  Piaseczno             10036   \n",
       "2                 1418044         0921438  Piaseczno             11205   \n",
       "3                 1418044         0921438  Piaseczno             14907   \n",
       "4                 1418044         0921438  Piaseczno             15129   \n",
       "\n",
       "        street_name house_no   latitude  longitude   medium  \\\n",
       "0   ul. Kordeckiego        4  52.057000  21.002062  radiowe   \n",
       "1      ul. Krupówki        7  52.068033  21.033234  radiowe   \n",
       "2  ul. 11 Listopada       83  52.050284  20.990206  radiowe   \n",
       "3       ul. Okrężna       18  52.062186  20.982096  radiowe   \n",
       "4        ul. Orężna        7  52.070958  21.007444  radiowe   \n",
       "\n",
       "   stationary_bandwidth_name  \n",
       "0                        0.0  \n",
       "1                        0.0  \n",
       "2                        0.0  \n",
       "3                        0.0  \n",
       "4                        0.0  "
      ]
     },
     "execution_count": 3,
     "metadata": {},
     "output_type": "execute_result"
    }
   ],
   "source": [
    "endpoints_df.head()"
   ]
  },
  {
   "cell_type": "markdown",
   "metadata": {},
   "source": [
    "Plik zawiera informacje o zasięgach stacjonarnych oraz mobilnych (LTE etc.). Zostawimy sobie tylko interesujące nas zasięgi stacjonarne."
   ]
  },
  {
   "cell_type": "code",
   "execution_count": 4,
   "metadata": {},
   "outputs": [
    {
     "name": "stdout",
     "output_type": "stream",
     "text": [
      "Ogólna liczba wierszy w pliku CSV: 44123969\n",
      "Liczba wierszy po odfiltrowaniu zasięgów mobilnych: 11011310\n"
     ]
    }
   ],
   "source": [
    "total_row_count = len(endpoints_df.index)\n",
    "endpoints_df = endpoints_df[endpoints_df['stationary_bandwidth_name'] > 0]\n",
    "filtered_row_count = len(endpoints_df.index)\n",
    "\n",
    "print('Ogólna liczba wierszy w pliku CSV:', total_row_count)\n",
    "print('Liczba wierszy po odfiltrowaniu zasięgów mobilnych:', filtered_row_count)"
   ]
  },
  {
   "cell_type": "markdown",
   "metadata": {},
   "source": [
    "Większość rekordów jest zestandaryzowana i zawiera kody gmin, miejscowości i ulic zgodne z urzędowym rejestrem TERYT, ale część np. ulic z różnych powodów nie ma tych kodów podanych, a zamiast tego jest kod stanowiący placeholder: '99998'. Sprawdźmy najpierw ile takich rekordów jest w naszych danych:"
   ]
  },
  {
   "cell_type": "code",
   "execution_count": 5,
   "metadata": {},
   "outputs": [
    {
     "data": {
      "text/plain": [
       "17582"
      ]
     },
     "execution_count": 5,
     "metadata": {},
     "output_type": "execute_result"
    }
   ],
   "source": [
    "len(endpoints_df[endpoints_df['street_code_value'] == '99998'].index)"
   ]
  },
  {
   "cell_type": "markdown",
   "metadata": {},
   "source": [
    "Niewiele, ale prawdopodobnie niewielkim kosztem będziemy w stanie część z nich uzupełnić, więc spróbujemy.\n",
    "\n",
    "Innym kodem stanowiącym placeholder jest kod ulic: '99999', który oznacza brak nazwy ulicy. W miastach się to zdarza ale mniejsze miejscowości i wsie dość często nie nadają nazw ulicom/drogom i adres to po prostu miejscowość i numer porządkowy np. Stara Wieś 3.\n",
    "\n",
    "Przeprowadzimy teraz drobne czyszczenie i standaryzację danych.\n",
    "\n",
    "Najpierw przeprowadzimy operację trim/strip usuwającą zbędne znaki białe z początku i końca wartości tekstowych, a następnie wszystkie litery występujące w numerach porządkowych zamienimy na wielkie, a nazwy ulic na małe. Dodatkowo z nazw ulic usuniemy przedrostek 'ul. '. Te operacje pozwolą nam porównać ten zbiór danych z innymi."
   ]
  },
  {
   "cell_type": "code",
   "execution_count": 6,
   "metadata": {},
   "outputs": [],
   "source": [
    "endpoints_df['house_no'] = endpoints_df['house_no'].str.strip().str.upper()\n",
    "endpoints_df['city_name'] = endpoints_df['city_name'].str.strip().str.lower()\n",
    "endpoints_df['street_name'] = endpoints_df['street_name'].str.strip().str.lower()\n",
    "endpoints_df['street_name'] = endpoints_df['street_name'].str.replace('ul. ', '')"
   ]
  },
  {
   "cell_type": "markdown",
   "metadata": {},
   "source": [
    "Następnie dla zasięgów radiowych wszystkie wartości ponad 50 mbit/s sprowadzimy do wartości 50 mbit/s. Technicznie mało prawdopodobne, żeby dostęp radiowy pozwalał na szybsze prędkości o ile nie jest to LTE ze świetnym zasięgiem lub dedykowana radiolinia i większość z tych przypadków to najprawdopoboniej błędy w danych lub błędne interpretacje jakie dane powinny być wysłane do urzędu w ramach sprawozdania."
   ]
  },
  {
   "cell_type": "code",
   "execution_count": 7,
   "metadata": {},
   "outputs": [],
   "source": [
    "endpoints_df.loc[\n",
    "    (endpoints_df['medium'] == 'radiowe') & (endpoints_df['stationary_bandwidth_name'] > 50), \n",
    "    'stationary_bandwidth_name'\n",
    "] = 50"
   ]
  },
  {
   "cell_type": "markdown",
   "metadata": {},
   "source": [
    "Teraz spróbujemy uzupełnić część brakujących kodów ulic posiłkujac się istniejącymi w innych rekordach nazwami ulic i ich kodami. Następnie odrzucamy te rekordy których nie udało nam się dopasować."
   ]
  },
  {
   "cell_type": "code",
   "execution_count": 10,
   "metadata": {},
   "outputs": [],
   "source": [
    "# backslashes allow splitting lines for better formatting\n",
    "lookup = endpoints_df[~endpoints_df['street_code_value'].isin({'99999', '99998'})][['city_code_value', 'street_code_value', 'street_name']].drop_duplicates().dropna()\n",
    "\n",
    "lookup.set_index(['city_code_value', 'street_name'], inplace=True)\n",
    "\n",
    "temp = endpoints_df[endpoints_df['street_code_value'] == '99998'][['city_code_value', 'street_name']].join(lookup, on=['city_code_value', 'street_name'], rsuffix='_joined')\n",
    "\n",
    "endpoints_df = endpoints_df.join(temp, rsuffix='_joined')\n",
    "\n",
    "endpoints_df['street_code_value'] = endpoints_df[['street_code_value', 'street_code_value_joined']].apply(lambda x: x[0] if x[0] != '99998' else x[1], axis=1)\n",
    "\n",
    "endpoints_df.drop(\n",
    "    columns=['city_code_value_joined', 'street_code_value_joined', 'street_name_joined'], \n",
    "    inplace=True\n",
    ")\n",
    "\n",
    "endpoints_df.dropna(\n",
    "    subset=['street_code_value', 'street_name'], \n",
    "    how='all', \n",
    "    axis=0, \n",
    "    inplace=True\n",
    ")\n",
    "\n",
    "endpoints_df = endpoints_df[endpoints_df['street_code_value'] != '99998']"
   ]
  },
  {
   "cell_type": "markdown",
   "metadata": {},
   "source": [
    "Sprawdzamy ile rekordów nam zostało:"
   ]
  },
  {
   "cell_type": "code",
   "execution_count": 11,
   "metadata": {},
   "outputs": [
    {
     "data": {
      "text/plain": [
       "10947485"
      ]
     },
     "execution_count": 11,
     "metadata": {},
     "output_type": "execute_result"
    }
   ],
   "source": [
    "len(endpoints_df.index)"
   ]
  },
  {
   "cell_type": "markdown",
   "metadata": {},
   "source": [
    "Usuwamy współrzędne z rekordów gdzie są podane liczby całkowite. Astronomicznie mało prawdopodobne żeby współrzędne jakiegoś obiektu to było dokładnie 20, 50 zamiast 20.000034, 50.000011. Są to błędy w sprawozdawczości przedsiębiorców.\n",
    "\n",
    "Współrzędne tutaj będziemy traktować drugorzędnie. Jako podstawowe źródło posłuży nam zbiór PRG z urzędowymi adresami."
   ]
  },
  {
   "cell_type": "code",
   "execution_count": 12,
   "metadata": {},
   "outputs": [],
   "source": [
    "endpoints_df.loc[(endpoints_df['latitude'] == round(endpoints_df['latitude'])) & (endpoints_df['longitude'] == round(endpoints_df['longitude'])), ['latitude', 'longitude']] = np.nan"
   ]
  },
  {
   "cell_type": "markdown",
   "metadata": {},
   "source": [
    "Tak wygląda nasz DataFrame przed eksportem:"
   ]
  },
  {
   "cell_type": "code",
   "execution_count": 13,
   "metadata": {},
   "outputs": [
    {
     "data": {
      "text/html": [
       "<div>\n",
       "<style scoped>\n",
       "    .dataframe tbody tr th:only-of-type {\n",
       "        vertical-align: middle;\n",
       "    }\n",
       "\n",
       "    .dataframe tbody tr th {\n",
       "        vertical-align: top;\n",
       "    }\n",
       "\n",
       "    .dataframe thead th {\n",
       "        text-align: right;\n",
       "    }\n",
       "</style>\n",
       "<table border=\"1\" class=\"dataframe\">\n",
       "  <thead>\n",
       "    <tr style=\"text-align: right;\">\n",
       "      <th></th>\n",
       "      <th>municipality_code_value</th>\n",
       "      <th>city_code_value</th>\n",
       "      <th>city_name</th>\n",
       "      <th>street_code_value</th>\n",
       "      <th>street_name</th>\n",
       "      <th>house_no</th>\n",
       "      <th>latitude</th>\n",
       "      <th>longitude</th>\n",
       "      <th>medium</th>\n",
       "      <th>stationary_bandwidth_name</th>\n",
       "    </tr>\n",
       "  </thead>\n",
       "  <tbody>\n",
       "    <tr>\n",
       "      <th>626</th>\n",
       "      <td>1432064</td>\n",
       "      <td>0921415</td>\n",
       "      <td>ożarów mazowiecki</td>\n",
       "      <td>17394</td>\n",
       "      <td>poznańska</td>\n",
       "      <td>167</td>\n",
       "      <td>NaN</td>\n",
       "      <td>NaN</td>\n",
       "      <td>kablowe współosiowe miedziane</td>\n",
       "      <td>250.0</td>\n",
       "    </tr>\n",
       "    <tr>\n",
       "      <th>627</th>\n",
       "      <td>1432064</td>\n",
       "      <td>0921415</td>\n",
       "      <td>ożarów mazowiecki</td>\n",
       "      <td>12740</td>\n",
       "      <td>adama mickiewicza</td>\n",
       "      <td>7</td>\n",
       "      <td>NaN</td>\n",
       "      <td>NaN</td>\n",
       "      <td>światłowodowe</td>\n",
       "      <td>1000.0</td>\n",
       "    </tr>\n",
       "    <tr>\n",
       "      <th>628</th>\n",
       "      <td>1432064</td>\n",
       "      <td>0921415</td>\n",
       "      <td>ożarów mazowiecki</td>\n",
       "      <td>12740</td>\n",
       "      <td>adama mickiewicza</td>\n",
       "      <td>5A</td>\n",
       "      <td>NaN</td>\n",
       "      <td>NaN</td>\n",
       "      <td>światłowodowe</td>\n",
       "      <td>1000.0</td>\n",
       "    </tr>\n",
       "    <tr>\n",
       "      <th>1259</th>\n",
       "      <td>1201011</td>\n",
       "      <td>0981682</td>\n",
       "      <td>bochnia</td>\n",
       "      <td>24983</td>\n",
       "      <td>wygoda</td>\n",
       "      <td>64</td>\n",
       "      <td>NaN</td>\n",
       "      <td>NaN</td>\n",
       "      <td>radiowe</td>\n",
       "      <td>50.0</td>\n",
       "    </tr>\n",
       "    <tr>\n",
       "      <th>1385</th>\n",
       "      <td>0603011</td>\n",
       "      <td>0930176</td>\n",
       "      <td>rejowiec fabryczny</td>\n",
       "      <td>10562</td>\n",
       "      <td>kwiatowa</td>\n",
       "      <td>72</td>\n",
       "      <td>NaN</td>\n",
       "      <td>NaN</td>\n",
       "      <td>światłowodowe</td>\n",
       "      <td>1000.0</td>\n",
       "    </tr>\n",
       "  </tbody>\n",
       "</table>\n",
       "</div>"
      ],
      "text/plain": [
       "     municipality_code_value city_code_value           city_name  \\\n",
       "626                  1432064         0921415   ożarów mazowiecki   \n",
       "627                  1432064         0921415   ożarów mazowiecki   \n",
       "628                  1432064         0921415   ożarów mazowiecki   \n",
       "1259                 1201011         0981682             bochnia   \n",
       "1385                 0603011         0930176  rejowiec fabryczny   \n",
       "\n",
       "     street_code_value        street_name house_no  latitude  longitude  \\\n",
       "626              17394          poznańska      167       NaN        NaN   \n",
       "627              12740  adama mickiewicza        7       NaN        NaN   \n",
       "628              12740  adama mickiewicza       5A       NaN        NaN   \n",
       "1259             24983             wygoda       64       NaN        NaN   \n",
       "1385             10562           kwiatowa       72       NaN        NaN   \n",
       "\n",
       "                             medium  stationary_bandwidth_name  \n",
       "626   kablowe współosiowe miedziane                      250.0  \n",
       "627                   światłowodowe                     1000.0  \n",
       "628                   światłowodowe                     1000.0  \n",
       "1259                        radiowe                       50.0  \n",
       "1385                  światłowodowe                     1000.0  "
      ]
     },
     "execution_count": 13,
     "metadata": {},
     "output_type": "execute_result"
    }
   ],
   "source": [
    "endpoints_df.head()"
   ]
  },
  {
   "cell_type": "markdown",
   "metadata": {},
   "source": [
    "Eksport danych o zasięgach do pliku CSV."
   ]
  },
  {
   "cell_type": "code",
   "execution_count": 14,
   "metadata": {},
   "outputs": [],
   "source": [
    "endpoints_df.to_csv(r'C:\\Users\\ttaras\\jupyter\\zasiegi.csv', sep=';', index=False)"
   ]
  },
  {
   "cell_type": "markdown",
   "metadata": {},
   "source": [
    "### Węzły i interfejsy\n",
    "\n",
    "Ładujemy dane o węzłach i interfejsach z plików CSV. Pomijamy od razu część kolumn i nadajemy odpowiednie typy."
   ]
  },
  {
   "cell_type": "code",
   "execution_count": 26,
   "metadata": {},
   "outputs": [],
   "source": [
    "nodes_df = pd.read_csv(\n",
    "    path_nodes, \n",
    "    usecols=[\n",
    "        'municipality_code_value',\n",
    "        'city_code_value',\n",
    "        'city_name',\n",
    "        'street_code_value',\n",
    "        'street_name',\n",
    "        'house_no',\n",
    "        'latitude',\n",
    "        'longitude',\n",
    "    ],\n",
    "    dtype={\n",
    "        'municipality_code_value': str,\n",
    "        'city_code_value': str,\n",
    "        'city_name': str,\n",
    "        'street_code_value': str,\n",
    "        'street_name': str,\n",
    "        'house_no': str,\n",
    "        'latitude': np.float64,\n",
    "        'longitude': np.float64,\n",
    "    }\n",
    ")\n",
    "int_df = pd.read_csv(\n",
    "    path_node_interfaces, \n",
    "    usecols=[\n",
    "        'node_id', \n",
    "        'transmission_medium', \n",
    "        'technology_twisted_pair_copper'\n",
    "    ]\n",
    ")"
   ]
  },
  {
   "cell_type": "markdown",
   "metadata": {},
   "source": [
    "Tak wyglądają nasze DataFrame po załadowaniu:\n",
    "\n",
    "Węzły:"
   ]
  },
  {
   "cell_type": "code",
   "execution_count": 27,
   "metadata": {},
   "outputs": [
    {
     "data": {
      "text/html": [
       "<div>\n",
       "<style scoped>\n",
       "    .dataframe tbody tr th:only-of-type {\n",
       "        vertical-align: middle;\n",
       "    }\n",
       "\n",
       "    .dataframe tbody tr th {\n",
       "        vertical-align: top;\n",
       "    }\n",
       "\n",
       "    .dataframe thead th {\n",
       "        text-align: right;\n",
       "    }\n",
       "</style>\n",
       "<table border=\"1\" class=\"dataframe\">\n",
       "  <thead>\n",
       "    <tr style=\"text-align: right;\">\n",
       "      <th></th>\n",
       "      <th>municipality_code_value</th>\n",
       "      <th>city_code_value</th>\n",
       "      <th>city_name</th>\n",
       "      <th>street_code_value</th>\n",
       "      <th>street_name</th>\n",
       "      <th>house_no</th>\n",
       "      <th>latitude</th>\n",
       "      <th>longitude</th>\n",
       "    </tr>\n",
       "  </thead>\n",
       "  <tbody>\n",
       "    <tr>\n",
       "      <th>0</th>\n",
       "      <td>3001022</td>\n",
       "      <td>0524542</td>\n",
       "      <td>Wyszyny</td>\n",
       "      <td>NaN</td>\n",
       "      <td>NaN</td>\n",
       "      <td>NaN</td>\n",
       "      <td>52.8923</td>\n",
       "      <td>16.8586</td>\n",
       "    </tr>\n",
       "    <tr>\n",
       "      <th>1</th>\n",
       "      <td>0662011</td>\n",
       "      <td>0929902</td>\n",
       "      <td>Chełm</td>\n",
       "      <td>21787</td>\n",
       "      <td>ul. Szarych Szeregów</td>\n",
       "      <td>9B</td>\n",
       "      <td>51.1421</td>\n",
       "      <td>23.4300</td>\n",
       "    </tr>\n",
       "    <tr>\n",
       "      <th>2</th>\n",
       "      <td>1425062</td>\n",
       "      <td>0625668</td>\n",
       "      <td>Słupica</td>\n",
       "      <td>99999</td>\n",
       "      <td>NaN</td>\n",
       "      <td>168</td>\n",
       "      <td>51.4124</td>\n",
       "      <td>21.4048</td>\n",
       "    </tr>\n",
       "    <tr>\n",
       "      <th>3</th>\n",
       "      <td>0662011</td>\n",
       "      <td>0929902</td>\n",
       "      <td>Chełm</td>\n",
       "      <td>11205</td>\n",
       "      <td>ul. 11 Listopada</td>\n",
       "      <td>2</td>\n",
       "      <td>51.8325</td>\n",
       "      <td>23.2944</td>\n",
       "    </tr>\n",
       "    <tr>\n",
       "      <th>4</th>\n",
       "      <td>0603114</td>\n",
       "      <td>0107821</td>\n",
       "      <td>Siedliszcze</td>\n",
       "      <td>22073</td>\n",
       "      <td>ul. Szpitalna</td>\n",
       "      <td>15A</td>\n",
       "      <td>51.1963</td>\n",
       "      <td>23.1603</td>\n",
       "    </tr>\n",
       "  </tbody>\n",
       "</table>\n",
       "</div>"
      ],
      "text/plain": [
       "  municipality_code_value city_code_value    city_name street_code_value  \\\n",
       "0                 3001022         0524542      Wyszyny               NaN   \n",
       "1                 0662011         0929902        Chełm             21787   \n",
       "2                 1425062         0625668      Słupica             99999   \n",
       "3                 0662011         0929902        Chełm             11205   \n",
       "4                 0603114         0107821  Siedliszcze             22073   \n",
       "\n",
       "            street_name house_no  latitude  longitude  \n",
       "0                   NaN      NaN   52.8923    16.8586  \n",
       "1  ul. Szarych Szeregów       9B   51.1421    23.4300  \n",
       "2                   NaN      168   51.4124    21.4048  \n",
       "3      ul. 11 Listopada        2   51.8325    23.2944  \n",
       "4         ul. Szpitalna      15A   51.1963    23.1603  "
      ]
     },
     "execution_count": 27,
     "metadata": {},
     "output_type": "execute_result"
    }
   ],
   "source": [
    "nodes_df.head()"
   ]
  },
  {
   "cell_type": "markdown",
   "metadata": {},
   "source": [
    "Interfejsy:"
   ]
  },
  {
   "cell_type": "code",
   "execution_count": 28,
   "metadata": {},
   "outputs": [
    {
     "data": {
      "text/html": [
       "<div>\n",
       "<style scoped>\n",
       "    .dataframe tbody tr th:only-of-type {\n",
       "        vertical-align: middle;\n",
       "    }\n",
       "\n",
       "    .dataframe tbody tr th {\n",
       "        vertical-align: top;\n",
       "    }\n",
       "\n",
       "    .dataframe thead th {\n",
       "        text-align: right;\n",
       "    }\n",
       "</style>\n",
       "<table border=\"1\" class=\"dataframe\">\n",
       "  <thead>\n",
       "    <tr style=\"text-align: right;\">\n",
       "      <th></th>\n",
       "      <th>node_id</th>\n",
       "      <th>transmission_medium</th>\n",
       "      <th>technology_twisted_pair_copper</th>\n",
       "    </tr>\n",
       "  </thead>\n",
       "  <tbody>\n",
       "    <tr>\n",
       "      <th>0</th>\n",
       "      <td>15837612</td>\n",
       "      <td>światłowodowe</td>\n",
       "      <td>NaN</td>\n",
       "    </tr>\n",
       "    <tr>\n",
       "      <th>1</th>\n",
       "      <td>12144737</td>\n",
       "      <td>kablowe parowe miedziane</td>\n",
       "      <td>1 Gigabit Ethernet</td>\n",
       "    </tr>\n",
       "    <tr>\n",
       "      <th>2</th>\n",
       "      <td>14365015</td>\n",
       "      <td>kablowe parowe miedziane</td>\n",
       "      <td>1 Gigabit Ethernet</td>\n",
       "    </tr>\n",
       "    <tr>\n",
       "      <th>3</th>\n",
       "      <td>14822051</td>\n",
       "      <td>radiowe</td>\n",
       "      <td>NaN</td>\n",
       "    </tr>\n",
       "    <tr>\n",
       "      <th>4</th>\n",
       "      <td>2917895</td>\n",
       "      <td>światłowodowe</td>\n",
       "      <td>NaN</td>\n",
       "    </tr>\n",
       "  </tbody>\n",
       "</table>\n",
       "</div>"
      ],
      "text/plain": [
       "    node_id       transmission_medium technology_twisted_pair_copper\n",
       "0  15837612             światłowodowe                            NaN\n",
       "1  12144737  kablowe parowe miedziane             1 Gigabit Ethernet\n",
       "2  14365015  kablowe parowe miedziane             1 Gigabit Ethernet\n",
       "3  14822051                   radiowe                            NaN\n",
       "4   2917895             światłowodowe                            NaN"
      ]
     },
     "execution_count": 28,
     "metadata": {},
     "output_type": "execute_result"
    }
   ],
   "source": [
    "int_df.head()"
   ]
  },
  {
   "cell_type": "markdown",
   "metadata": {},
   "source": [
    "Podobnie jak w przypadku zasięgów zestandaryzujemy adresy węzłów."
   ]
  },
  {
   "cell_type": "code",
   "execution_count": 29,
   "metadata": {},
   "outputs": [],
   "source": [
    "nodes_df['house_no'] = nodes_df['house_no'].str.strip().str.upper()\n",
    "nodes_df['city_name'] = nodes_df['city_name'].str.strip().str.lower()\n",
    "nodes_df['street_name'] = nodes_df['street_name'].str.strip().str.lower()\n",
    "nodes_df['street_name'] = nodes_df['street_name'].str.replace('ul. ', '')"
   ]
  },
  {
   "cell_type": "markdown",
   "metadata": {},
   "source": [
    "Następnie dla interfejsów rozpiszemy wartości z kolumny 'medium transymisyjne' (oraz 'technology_twisted_pair_copper') metodą one-hot encoding, czyli stworzymy 4 kolumny, które będą przybierać wartośc 0 lub 1 zależnie od tego czy dane medium np. światłowodowe odpowiada temu rekordowi czy nie. Pogrupujemy interfejsy po id węzła dzięki czemu uzyskamy informacje per węzeł na temat technologii jakie są dla niego dostępne.\n",
    "Dla medium kablowego parowego robimy wyjątek i dzielimy je na kable telefoniczne i nie-telefoniczne co odpowiada odpwiednio 1 i 0 w kolumnie 'xDSL'. Dla prostszego przetwarzania zostawiona zostanie kolumna 'copper' dla wszystkich kabli miedzianych."
   ]
  },
  {
   "cell_type": "code",
   "execution_count": 30,
   "metadata": {},
   "outputs": [],
   "source": [
    "int_df['fiber'] = int_df['transmission_medium'].apply(lambda x: 1 if x == 'światłowodowe' else 0)\n",
    "\n",
    "int_df['xdsl'] = int_df['technology_twisted_pair_copper'].apply(lambda x: 1 if x in ('ADSL2+', 'POTS/ISDN', 'VDSL2', 'ADSL2', 'ADSL', 'VDSL') else 0)\n",
    "\n",
    "int_df['copper'] = int_df['transmission_medium'].apply(lambda x: 1 if x in ('kablowe parowe miedziane', 'kablowe współosiowe miedziane') else 0)\n",
    "\n",
    "int_df['radio'] = int_df['transmission_medium'].apply(lambda x: 1 if x == 'radiowe' else 0)\n",
    "\n",
    "int_df.drop(\n",
    "    columns=['transmission_medium', 'technology_twisted_pair_copper'], \n",
    "    inplace=True\n",
    ")\n",
    "\n",
    "int_df = int_df.groupby(by='node_id', as_index=True)[['fiber', 'copper', 'xdsl', 'radio']].max()"
   ]
  },
  {
   "cell_type": "markdown",
   "metadata": {},
   "source": [
    "Dla węzłów też spróbujemy uzupełnić brakujące kody ulic."
   ]
  },
  {
   "cell_type": "code",
   "execution_count": 31,
   "metadata": {},
   "outputs": [],
   "source": [
    "temp = nodes_df[nodes_df['street_code_value'] == '99998'][['city_code_value', 'street_name']].join(lookup, on=['city_code_value', 'street_name'], rsuffix='_joined')\n",
    "\n",
    "nodes_df = nodes_df.join(temp, rsuffix='_joined')\n",
    "\n",
    "nodes_df['street_code_value'] = nodes_df[['street_code_value', 'street_code_value_joined']].apply(lambda x: x[0] if x[0] != '99998' else x[1], axis=1)\n",
    "\n",
    "nodes_df.drop(\n",
    "    columns=['city_code_value_joined', 'street_code_value_joined', 'street_name_joined'], \n",
    "    inplace=True\n",
    ")"
   ]
  },
  {
   "cell_type": "markdown",
   "metadata": {},
   "source": [
    "Usuwamy współrzędne tam gdzie są całkowite."
   ]
  },
  {
   "cell_type": "code",
   "execution_count": 32,
   "metadata": {},
   "outputs": [],
   "source": [
    "nodes_df.loc[(nodes_df['latitude'] == round(nodes_df['latitude'])) & (nodes_df['longitude'] == round(nodes_df['longitude'])), ['latitude', 'longitude']] = np.nan"
   ]
  },
  {
   "cell_type": "markdown",
   "metadata": {},
   "source": [
    "Dołączamy do węzłów informacje o technologiach z interfejsów."
   ]
  },
  {
   "cell_type": "code",
   "execution_count": 33,
   "metadata": {},
   "outputs": [],
   "source": [
    "nodes_df = nodes_df.join(int_df)"
   ]
  },
  {
   "cell_type": "markdown",
   "metadata": {},
   "source": [
    "Ile węzłów mamy w naszym DataFrame:"
   ]
  },
  {
   "cell_type": "code",
   "execution_count": 34,
   "metadata": {},
   "outputs": [
    {
     "data": {
      "text/plain": [
       "348670"
      ]
     },
     "execution_count": 34,
     "metadata": {},
     "output_type": "execute_result"
    }
   ],
   "source": [
    "len(nodes_df.index)"
   ]
  },
  {
   "cell_type": "markdown",
   "metadata": {},
   "source": [
    "Ostatecznie uzupełniamy jeszcze brakujące wartości dla kolumn oznaczających technologie. Brak wartości jest równoznaczny 0 zgodnie z naszym kodowaniem."
   ]
  },
  {
   "cell_type": "code",
   "execution_count": 35,
   "metadata": {},
   "outputs": [],
   "source": [
    "nodes_df['fiber'].fillna(0, inplace=True)\n",
    "nodes_df['copper'].fillna(0, inplace=True)\n",
    "nodes_df['xdsl'].fillna(0, inplace=True)\n",
    "nodes_df['radio'].fillna(0, inplace=True)"
   ]
  },
  {
   "cell_type": "markdown",
   "metadata": {},
   "source": [
    "Tak wygląda nasz DataFrame przed eksportem:"
   ]
  },
  {
   "cell_type": "code",
   "execution_count": 36,
   "metadata": {},
   "outputs": [
    {
     "data": {
      "text/html": [
       "<div>\n",
       "<style scoped>\n",
       "    .dataframe tbody tr th:only-of-type {\n",
       "        vertical-align: middle;\n",
       "    }\n",
       "\n",
       "    .dataframe tbody tr th {\n",
       "        vertical-align: top;\n",
       "    }\n",
       "\n",
       "    .dataframe thead th {\n",
       "        text-align: right;\n",
       "    }\n",
       "</style>\n",
       "<table border=\"1\" class=\"dataframe\">\n",
       "  <thead>\n",
       "    <tr style=\"text-align: right;\">\n",
       "      <th></th>\n",
       "      <th>municipality_code_value</th>\n",
       "      <th>city_code_value</th>\n",
       "      <th>city_name</th>\n",
       "      <th>street_code_value</th>\n",
       "      <th>street_name</th>\n",
       "      <th>house_no</th>\n",
       "      <th>latitude</th>\n",
       "      <th>longitude</th>\n",
       "      <th>fiber</th>\n",
       "      <th>copper</th>\n",
       "      <th>xdsl</th>\n",
       "      <th>radio</th>\n",
       "    </tr>\n",
       "  </thead>\n",
       "  <tbody>\n",
       "    <tr>\n",
       "      <th>0</th>\n",
       "      <td>3001022</td>\n",
       "      <td>0524542</td>\n",
       "      <td>wyszyny</td>\n",
       "      <td>NaN</td>\n",
       "      <td>NaN</td>\n",
       "      <td>NaN</td>\n",
       "      <td>52.8923</td>\n",
       "      <td>16.8586</td>\n",
       "      <td>0.0</td>\n",
       "      <td>0.0</td>\n",
       "      <td>0.0</td>\n",
       "      <td>0.0</td>\n",
       "    </tr>\n",
       "    <tr>\n",
       "      <th>1</th>\n",
       "      <td>0662011</td>\n",
       "      <td>0929902</td>\n",
       "      <td>chełm</td>\n",
       "      <td>21787</td>\n",
       "      <td>szarych szeregów</td>\n",
       "      <td>9B</td>\n",
       "      <td>51.1421</td>\n",
       "      <td>23.4300</td>\n",
       "      <td>0.0</td>\n",
       "      <td>0.0</td>\n",
       "      <td>0.0</td>\n",
       "      <td>0.0</td>\n",
       "    </tr>\n",
       "    <tr>\n",
       "      <th>2</th>\n",
       "      <td>1425062</td>\n",
       "      <td>0625668</td>\n",
       "      <td>słupica</td>\n",
       "      <td>99999</td>\n",
       "      <td>NaN</td>\n",
       "      <td>168</td>\n",
       "      <td>51.4124</td>\n",
       "      <td>21.4048</td>\n",
       "      <td>0.0</td>\n",
       "      <td>0.0</td>\n",
       "      <td>0.0</td>\n",
       "      <td>0.0</td>\n",
       "    </tr>\n",
       "    <tr>\n",
       "      <th>3</th>\n",
       "      <td>0662011</td>\n",
       "      <td>0929902</td>\n",
       "      <td>chełm</td>\n",
       "      <td>11205</td>\n",
       "      <td>11 listopada</td>\n",
       "      <td>2</td>\n",
       "      <td>51.8325</td>\n",
       "      <td>23.2944</td>\n",
       "      <td>0.0</td>\n",
       "      <td>0.0</td>\n",
       "      <td>0.0</td>\n",
       "      <td>0.0</td>\n",
       "    </tr>\n",
       "    <tr>\n",
       "      <th>4</th>\n",
       "      <td>0603114</td>\n",
       "      <td>0107821</td>\n",
       "      <td>siedliszcze</td>\n",
       "      <td>22073</td>\n",
       "      <td>szpitalna</td>\n",
       "      <td>15A</td>\n",
       "      <td>51.1963</td>\n",
       "      <td>23.1603</td>\n",
       "      <td>0.0</td>\n",
       "      <td>0.0</td>\n",
       "      <td>0.0</td>\n",
       "      <td>0.0</td>\n",
       "    </tr>\n",
       "  </tbody>\n",
       "</table>\n",
       "</div>"
      ],
      "text/plain": [
       "  municipality_code_value city_code_value    city_name street_code_value  \\\n",
       "0                 3001022         0524542      wyszyny               NaN   \n",
       "1                 0662011         0929902        chełm             21787   \n",
       "2                 1425062         0625668      słupica             99999   \n",
       "3                 0662011         0929902        chełm             11205   \n",
       "4                 0603114         0107821  siedliszcze             22073   \n",
       "\n",
       "        street_name house_no  latitude  longitude  fiber  copper  xdsl  radio  \n",
       "0               NaN      NaN   52.8923    16.8586    0.0     0.0   0.0    0.0  \n",
       "1  szarych szeregów       9B   51.1421    23.4300    0.0     0.0   0.0    0.0  \n",
       "2               NaN      168   51.4124    21.4048    0.0     0.0   0.0    0.0  \n",
       "3      11 listopada        2   51.8325    23.2944    0.0     0.0   0.0    0.0  \n",
       "4         szpitalna      15A   51.1963    23.1603    0.0     0.0   0.0    0.0  "
      ]
     },
     "execution_count": 36,
     "metadata": {},
     "output_type": "execute_result"
    }
   ],
   "source": [
    "nodes_df.head()"
   ]
  },
  {
   "cell_type": "markdown",
   "metadata": {},
   "source": [
    "Eksport danych o węzłach do pliku CSV."
   ]
  },
  {
   "cell_type": "code",
   "execution_count": 37,
   "metadata": {},
   "outputs": [],
   "source": [
    "nodes_df.to_csv(r'C:\\Users\\ttaras\\jupyter\\wezly.csv', sep=';', index=False)"
   ]
  },
  {
   "cell_type": "markdown",
   "metadata": {},
   "source": [
    "## Przygotowanie danych adresowych wraz z potrzebnymi dla modelu informacjami o charakterystyce przestrzennej danego punktu"
   ]
  },
  {
   "cell_type": "markdown",
   "metadata": {},
   "source": [
    "### Parsowanie i czyszczenie danych adresowych z Państwowego Rejestru Granic (PRG)\n",
    "\n"
   ]
  },
  {
   "cell_type": "markdown",
   "metadata": {},
   "source": [
    "### Przygotowanie obrysów budynków na podstawie modeli 3D (LOD1)\n",
    "\n"
   ]
  },
  {
   "cell_type": "markdown",
   "metadata": {},
   "source": [
    "### Przygotowanie danych z Numerycznego Modelu Terenu\n",
    "\n",
    "\n"
   ]
  },
  {
   "cell_type": "markdown",
   "metadata": {},
   "source": [
    "### Połączenie danych w spójny słownik adresów wraz z dodatkowymi informacjami\n",
    "\n",
    "\n"
   ]
  },
  {
   "cell_type": "markdown",
   "metadata": {},
   "source": [
    "## Przygotowanie kompletnego zbioru do uczenia modelu"
   ]
  },
  {
   "cell_type": "markdown",
   "metadata": {},
   "source": []
  }
 ],
 "metadata": {
  "kernelspec": {
   "display_name": "Python 3",
   "language": "python",
   "name": "python3"
  },
  "language_info": {
   "codemirror_mode": {
    "name": "ipython",
    "version": 3
   },
   "file_extension": ".py",
   "mimetype": "text/x-python",
   "name": "python",
   "nbconvert_exporter": "python",
   "pygments_lexer": "ipython3",
   "version": "3.8.1"
  }
 },
 "nbformat": 4,
 "nbformat_minor": 4
}
