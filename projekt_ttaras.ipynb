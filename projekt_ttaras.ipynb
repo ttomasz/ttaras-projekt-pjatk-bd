{
 "cells": [
  {
   "cell_type": "markdown",
   "metadata": {},
   "source": [
    "# Przewidywanie dostępności stacjonarnego internetu szerokopasmowego na podstawie lokalizacji\n",
    "\n",
    "autor: Tomasz Taraś\n",
    "\n",
    "## Spis treści\n",
    "* Wstęp\n",
    "* Zbiory danych wykorzystane w pracy\n",
    "    * Dane o infrastrukturze szerokopasmowej i zasięgach (SIIS)\n",
    "    * Dane o adresach z Państwowego Rejestru Granic (PRG)\n",
    "    * Modele 3D budynków (LOD1)\n",
    "    * Numeryczny Model Terenu (NMT)\n",
    "    * Dane o nazwach urzędowych jednostek administracyjnych, miejscowości i ulic (rejestr TERYT)\n",
    "* Przygotowanie danych o infrastrukturze szerokopasmowej\n",
    "    * Zasięgi\n",
    "    * Węzły i interfejsy\n",
    "* Przygotowanie danych adresowych wraz z potrzebnymi dla modelu informacjami o charakterystyce przestrzennej danego punktu\n",
    "    * Parsowanie i czyszczenie danych adresowych z Państwowego Rejestru Granic (PRG)\n",
    "    * Przygotowanie obrysów budynków na podstawie modeli 3D (LOD1)\n",
    "    * Przygotowanie danych z Numerycznego Modelu Terenu\n",
    "    * Połączenie danych w spójny słownik adresów wraz z dodatkowymi informacjami\n",
    "* Przygotowanie kompletnego zbioru do uczenia modelu\n",
    "* Model uczenia maszynowego\n",
    "\n",
    "## Wstęp\n",
    "\n",
    "Celem pracy jest przygotowanie modelu, który determinował będzie dostępność internetu na podstawie lokalizacji przestrzennej.\n",
    "\n",
    "Publicznie dostępne są dane na temat tego na jakie (prędkość, technologia) połączenie do internetu możemy liczyć w danej lokalizacji. Dane te zbierane są corocznie w pierwszym kwartale roku według stanu na 31 grudnia roku poprzedniego. Zbiera je Urząd Komunikacji Elektronicznej od przedsiębiorców telekomunikacyjnych. \n",
    "\n",
    "Dane te jednak zbierane są \"do adresu\" czyli jako lokalizacja jest adres lub jego współrzędne, a rejestry adresowe w Polsce są średniej jakości z różnych względów. Przedsiębiorca nie ma możliwości podawania zasięgu swojej sieci w postaci np. poligonów określających przestrzennie skrawek terenu gdzie dany operator może świadczyć usługi. Dodatkowo rozporządzenie określające jakiego rodzaju dane przedsiębiorcy mają podawać w sprawozdaniu do Urzędu jest dość skomplikowane i budzi sporo wątpliwości wśród sprawozdających się.\n",
    "\n",
    "Te dwa czynniki powodują, że jakość danych nie jest idealna. Model stworzony w ramach tej pracy mogłby służyć jako imputer uzupełniający brakujące dane przy innych analizach lub do wykrywania anomalii, czyli obszarów, które dane wskazują jako pozbawione dostępu do szybkiego internetu, które według modelu powinny być w zasięgu sieci lub odwrotnie.\n",
    "\n",
    "Praca skupi się głównie na zebraniu i przygotowaniu danych co jest tutaj głównym wyzwaniem. Część danych, które mogłyby być przydatne do tego zadania jest niedostępna lub płatna i trzeba kreatywnie wykorzystać te zbiory, które są dostępne. Dodatkowym wyzwaniem, będzie rozmiar wykorzystywanych danych jako, że model do wytrenowania użyje danych z całej Polski, która ma ponad 7,4 mln adresów, ponad 14 mln budynków i ponad 311 tys. km2 powierzchni.\n",
    "\n",
    "## Zbiory danych wykorzystane w pracy\n",
    "\n",
    "W pracy wykorzystano następujące zbiory danych:\n",
    "\n",
    "#### Dane o infrastrukturze szerokopasmowej i zasięgach (SIIS)\n",
    "__podmiot__: Urząd Komunikacji Elektronicznej  \n",
    "__link__: [dane.gov.pl](https://dane.gov.pl/dataset/588,system-informacyjny-o-infrastrukturze-szerokopasmowej-api?page=1&per_page=50&sort=-title)  \n",
    "__rozmiar__: spakowane ok. 1GB, rozpakowane pliki CSV ok. 8GB  \n",
    "__opis__: Zbiór zawiera dane o infrastrukturze szerokopasmowej oraz o \"zasięgach\", czyli dostępności usługi dostępu do internetu. \n",
    "\n",
    "#### Dane o adresach z Państwowego Rejestru Granic (PRG)\n",
    "__podmiot__: Główny Urząd Geodezji i Kartografii  \n",
    "__link__: [gugik.gov.pl](http://www.gugik.gov.pl/pzgik/dane-bez-oplat/dane-z-panstwowego-rejestru-granic-i-powierzchni-jednostek-podzialow-terytorialnych-kraju-prg)  \n",
    "__rozmiar__: spakowane ok. 1GB, rozpakowane pliki XML ok. 18GB  \n",
    "__opis__: Zbiór zawiera listę adresów dla całęgo kraju zgodnie z tym co przekazane zostało do urzędu przez samorządy (gminy).\n",
    "\n",
    "#### Modele 3D budynków (LOD1)\n",
    "__podmiot__: Główny Urząd Geodezji i Kartografii  \n",
    "__link__: [linki w geoportalu krajowym](https://mapy.geoportal.gov.pl/imap/Imgp_2.html?locale=pl&gui=new&sessionID=4857706), [opis](https://integracja.gugik.gov.pl/Budynki3D/budynki3d_opis.pdf)  \n",
    "__rozmiar__: spakowane ok. GB  \n",
    "__opis__: Zbiór zawiera modele 3D budynków o dokładności LOD1 dla całego kraju. Modele te zostały wykorzystane do utworzenia warstwy obrysów budynków 2D. To pozwoliło policzyć przybliżoną powierzchnię budynku dla adresu.  \n",
    "\n",
    "Informacje wymagane do podania zgodnie z licenją:  \n",
    "* Źródło: www.geoportal.gov.pl\n",
    "* Dysponent: Główny Geodeta Kraju\n",
    "* Data pobrania zbioru: 2019-11-10\n",
    "* Zakres przetworzenia: Geometria budynków została spłaszczona do 2D oraz wyekstrahowana została część poligonowa wykorzystana dalej jako obrys budynku.\n",
    "* Informacja: Modele 3D budynków nie stanowią rejestru publicznego ani elementu treści takiego rejestru. W konsekwencji czego mają wartość jedynie poglądową. Niezgodność Modeli 3D budynków ze stanem faktycznym lub prawnym, tak w postaci nieprzetworzonej jak i po ich ewentualnym przetworzeniu w procesie ponownego wykorzystania, nie może stanowić podstawy odpowiedzialności Głównego Geodety Kraju z jakiegokolwiek tytułu wobec jakiegokolwiek podmiotu.\n",
    "* Licencja: https://integracja.gugik.gov.pl/Budynki3D/GUGiK_Licencja_na_Budynki3D.pdf\n",
    "\n",
    "#### Numeryczny Model Terenu (NMT)\n",
    "__podmiot__: Główny Urząd Geodezji i Kartografii  \n",
    "__link__: [gugik.gov.pl](http://www.gugik.gov.pl/pzgik/dane-bez-oplat/dane-dotyczace-numerycznego-modelu-terenu-o-interwale-siatki-co-najmniej-100-m-nmt_100)  \n",
    "__rozmiar__: spakowane ok. MB, rozpakowane pliki txt ok. MB  \n",
    "__opis__: Zbiór zawiera punkty pomiarowe (co 100m) wysokości terenu nad poziomem morza. Zostanie wykorzystany do określenia ukształtowania terenu wokół punktu.\n",
    "\n",
    "#### Dane o nazwach urzędowych jednostek administracyjnych, miejscowości i ulic (rejestr TERYT)\n",
    "__podmiot__: Główny Urząd Statystyczny  \n",
    "__link__: [eteryt.stat.gov.pl](http://eteryt.stat.gov.pl/eTeryt/rejestr_teryt/udostepnianie_danych/baza_teryt/uzytkownicy_indywidualni/pobieranie/pliki_pelne.aspx)  \n",
    "__rozmiar__: spakowane ok. 7MB, rozpakowane pliki CSV ok. 20MB  \n",
    "__opis__: Zbiór zawiera oficjalną listę nazw jednostek administracyjnych, miejscowości i ulic kompilowaną przez GUS na podstawie rozporządzeń (jednostki, miejscowości) oraz uchwał samorządowych (ulice). Zbiór wykorzystany do walidacj danych adresowych PRG.\n",
    "\n",
    "Wszystkie zbiory poza budynkami 3D należą do danych publicznych udostępnianych przez urzędy na podstawie odpowiednich przepisów. Budynki 3D udostępniane są na podstawie licencji podanej przy opisie zbioru.\n",
    "\n",
    "## Przygotowanie danych o infrastrukturze szerokopasmowej\n",
    "\n",
    "Po pobraniu archiwum z najnowszymi dostępnymi danymi ze strony: i rozpakowaniu go, ładujemy biblioteki i ścieżki do plików z danymi, żeby móc wstępnie przetowrzyć dane w Pythonie.\n",
    "\n",
    "Archiwum zawiera kilka plików CSV:\n",
    "\n",
    "* networkendpoint_view.csv - plik zawiera tzw. \"zakończenia sieci\" w praktyce oznacza to \"zasięg\" sieci w postaci listy adresów lub współrzędnych z informacją w jakiej technologii i o jakiej maksymalnej prędkości dostawca internetu może świadczyć usługę w danym budynku;\n",
    "\n",
    "* users_entity_view.csv - plik zawiera listę przedsiębiorców telekomunikacyjnych z id, służy głównie jako lookup table dla pozostałych plików, jeżeli interesuje nas który przedsiębiorca świadczy usługę lub posiada dany kawałek infrastruktury;\n",
    "\n",
    "* infrastructure_node_view.csv - plik zawiera informacje o węzłach telekomunikacyjnych, są to adresy lub współrzędne miejsc, gdzie jest infrastruktura telekomunikacyjna taka jak routery, switche itp;\n",
    "\n",
    "* infrastructure_nodeinterface_view.csv - plik zawiera informacje o interfejsach w węzłach, czyli sprzęt jakich technologii znajduje się w węźle;\n",
    "\n",
    "* infrastructure_noderangeradio_view.csv - plik zawiera informacje o zasięgach anten radiowych, na cele tej analizy nie będzie to nam potrzebne."
   ]
  },
  {
   "cell_type": "code",
   "execution_count": 1,
   "metadata": {},
   "outputs": [],
   "source": [
    "import os\n",
    "import pandas as pd\n",
    "import numpy as np\n",
    "\n",
    "folder = r'C:\\Users\\ttaras\\jupyter\\2018'\n",
    "path_nodes = os.path.join(folder, 'infrastructure_node_view.csv')\n",
    "path_node_interfaces = os.path.join(folder, 'infrastructure_nodeinterface_view.csv')\n",
    "path_node_range_radio = os.path.join(folder, 'infrastructure_noderangeradio_view.csv')\n",
    "path_companies = os.path.join(folder, 'users_entity_view.csv')\n",
    "path_endpoints = os.path.join(folder, 'networkendpoint_view.csv')\n"
   ]
  },
  {
   "cell_type": "markdown",
   "metadata": {},
   "source": [
    "Dalej przygotujemy oddzielnie dane dla zasięgów oraz dane dla węzłów.\n",
    "\n",
    "### Zasięgi\n",
    "\n",
    "Ładujemy dane o zasięgach z pliku CSV. Pomijamy od razu część kolumn i nadajemy odpowiednie typy."
   ]
  },
  {
   "cell_type": "code",
   "execution_count": 2,
   "metadata": {},
   "outputs": [],
   "source": [
    "endpoints_df = pd.read_csv(\n",
    "    path_endpoints, \n",
    "    usecols=[\n",
    "        'municipality_code_value',\n",
    "        'city_code_value',\n",
    "        'city_name',\n",
    "        'street_code_value',\n",
    "        'street_name',\n",
    "        'house_no',\n",
    "        'latitude',\n",
    "        'longitude',\n",
    "        'medium',\n",
    "        'stationary_bandwidth_name'\n",
    "    ],\n",
    "    dtype={\n",
    "        'municipality_code_value': 'category',\n",
    "        'city_code_value': 'category',\n",
    "        'city_name': str,\n",
    "        'street_code_value': 'category',\n",
    "        'street_name': str,\n",
    "        'house_no': str,\n",
    "        'latitude': np.float64,\n",
    "        'longitude': np.float64,\n",
    "        'medium': 'category',\n",
    "        'stationary_bandwidth_name': np.float32\n",
    "    }\n",
    ")"
   ]
  },
  {
   "cell_type": "markdown",
   "metadata": {},
   "source": [
    "Tak wygląda DataFrame po załadowaniu"
   ]
  },
  {
   "cell_type": "code",
   "execution_count": 3,
   "metadata": {},
   "outputs": [
    {
     "data": {
      "text/html": [
       "<div>\n",
       "<style scoped>\n",
       "    .dataframe tbody tr th:only-of-type {\n",
       "        vertical-align: middle;\n",
       "    }\n",
       "\n",
       "    .dataframe tbody tr th {\n",
       "        vertical-align: top;\n",
       "    }\n",
       "\n",
       "    .dataframe thead th {\n",
       "        text-align: right;\n",
       "    }\n",
       "</style>\n",
       "<table border=\"1\" class=\"dataframe\">\n",
       "  <thead>\n",
       "    <tr style=\"text-align: right;\">\n",
       "      <th></th>\n",
       "      <th>municipality_code_value</th>\n",
       "      <th>city_code_value</th>\n",
       "      <th>city_name</th>\n",
       "      <th>street_code_value</th>\n",
       "      <th>street_name</th>\n",
       "      <th>house_no</th>\n",
       "      <th>latitude</th>\n",
       "      <th>longitude</th>\n",
       "      <th>medium</th>\n",
       "      <th>stationary_bandwidth_name</th>\n",
       "    </tr>\n",
       "  </thead>\n",
       "  <tbody>\n",
       "    <tr>\n",
       "      <th>0</th>\n",
       "      <td>1418044</td>\n",
       "      <td>0921438</td>\n",
       "      <td>Piaseczno</td>\n",
       "      <td>09340</td>\n",
       "      <td>ul. Kordeckiego</td>\n",
       "      <td>4</td>\n",
       "      <td>52.057000</td>\n",
       "      <td>21.002062</td>\n",
       "      <td>radiowe</td>\n",
       "      <td>0.0</td>\n",
       "    </tr>\n",
       "    <tr>\n",
       "      <th>1</th>\n",
       "      <td>1418044</td>\n",
       "      <td>0921438</td>\n",
       "      <td>Piaseczno</td>\n",
       "      <td>10036</td>\n",
       "      <td>ul. Krupówki</td>\n",
       "      <td>7</td>\n",
       "      <td>52.068033</td>\n",
       "      <td>21.033234</td>\n",
       "      <td>radiowe</td>\n",
       "      <td>0.0</td>\n",
       "    </tr>\n",
       "    <tr>\n",
       "      <th>2</th>\n",
       "      <td>1418044</td>\n",
       "      <td>0921438</td>\n",
       "      <td>Piaseczno</td>\n",
       "      <td>11205</td>\n",
       "      <td>ul. 11 Listopada</td>\n",
       "      <td>83</td>\n",
       "      <td>52.050284</td>\n",
       "      <td>20.990206</td>\n",
       "      <td>radiowe</td>\n",
       "      <td>0.0</td>\n",
       "    </tr>\n",
       "    <tr>\n",
       "      <th>3</th>\n",
       "      <td>1418044</td>\n",
       "      <td>0921438</td>\n",
       "      <td>Piaseczno</td>\n",
       "      <td>14907</td>\n",
       "      <td>ul. Okrężna</td>\n",
       "      <td>18</td>\n",
       "      <td>52.062186</td>\n",
       "      <td>20.982096</td>\n",
       "      <td>radiowe</td>\n",
       "      <td>0.0</td>\n",
       "    </tr>\n",
       "    <tr>\n",
       "      <th>4</th>\n",
       "      <td>1418044</td>\n",
       "      <td>0921438</td>\n",
       "      <td>Piaseczno</td>\n",
       "      <td>15129</td>\n",
       "      <td>ul. Orężna</td>\n",
       "      <td>7</td>\n",
       "      <td>52.070958</td>\n",
       "      <td>21.007444</td>\n",
       "      <td>radiowe</td>\n",
       "      <td>0.0</td>\n",
       "    </tr>\n",
       "  </tbody>\n",
       "</table>\n",
       "</div>"
      ],
      "text/plain": [
       "  municipality_code_value city_code_value  city_name street_code_value  \\\n",
       "0                 1418044         0921438  Piaseczno             09340   \n",
       "1                 1418044         0921438  Piaseczno             10036   \n",
       "2                 1418044         0921438  Piaseczno             11205   \n",
       "3                 1418044         0921438  Piaseczno             14907   \n",
       "4                 1418044         0921438  Piaseczno             15129   \n",
       "\n",
       "        street_name house_no   latitude  longitude   medium  \\\n",
       "0   ul. Kordeckiego        4  52.057000  21.002062  radiowe   \n",
       "1      ul. Krupówki        7  52.068033  21.033234  radiowe   \n",
       "2  ul. 11 Listopada       83  52.050284  20.990206  radiowe   \n",
       "3       ul. Okrężna       18  52.062186  20.982096  radiowe   \n",
       "4        ul. Orężna        7  52.070958  21.007444  radiowe   \n",
       "\n",
       "   stationary_bandwidth_name  \n",
       "0                        0.0  \n",
       "1                        0.0  \n",
       "2                        0.0  \n",
       "3                        0.0  \n",
       "4                        0.0  "
      ]
     },
     "execution_count": 3,
     "metadata": {},
     "output_type": "execute_result"
    }
   ],
   "source": [
    "endpoints_df.head()"
   ]
  },
  {
   "cell_type": "markdown",
   "metadata": {},
   "source": [
    "Plik zawiera informacje o zasięgach stacjonarnych oraz mobilnych (LTE etc.). Zostawimy sobie tylko interesujące nas zasięgi stacjonarne."
   ]
  },
  {
   "cell_type": "code",
   "execution_count": 4,
   "metadata": {},
   "outputs": [
    {
     "name": "stdout",
     "output_type": "stream",
     "text": [
      "Ogólna liczba wierszy w pliku CSV: 44123969\n",
      "Liczba wierszy po odfiltrowaniu zasięgów mobilnych: 11011310\n"
     ]
    }
   ],
   "source": [
    "total_row_count = len(endpoints_df.index)\n",
    "endpoints_df = endpoints_df[endpoints_df['stationary_bandwidth_name'] > 0]\n",
    "filtered_row_count = len(endpoints_df.index)\n",
    "\n",
    "print('Ogólna liczba wierszy w pliku CSV:', total_row_count)\n",
    "print('Liczba wierszy po odfiltrowaniu zasięgów mobilnych:', filtered_row_count)"
   ]
  },
  {
   "cell_type": "markdown",
   "metadata": {},
   "source": [
    "Większość rekordów jest zestandaryzowana i zawiera kody gmin, miejscowości i ulic zgodne z urzędowym rejestrem TERYT, ale część np. ulic z różnych powodów nie ma tych kodów podanych, a zamiast tego jest kod stanowiący placeholder: '99998'. Sprawdźmy najpierw ile takich rekordów jest w naszych danych:"
   ]
  },
  {
   "cell_type": "code",
   "execution_count": 5,
   "metadata": {},
   "outputs": [
    {
     "data": {
      "text/plain": [
       "17582"
      ]
     },
     "execution_count": 5,
     "metadata": {},
     "output_type": "execute_result"
    }
   ],
   "source": [
    "len(endpoints_df[endpoints_df['street_code_value'] == '99998'].index)"
   ]
  },
  {
   "cell_type": "markdown",
   "metadata": {},
   "source": [
    "Niewiele, ale prawdopodobnie niewielkim kosztem będziemy w stanie część z nich uzupełnić, więc spróbujemy.\n",
    "\n",
    "Innym kodem stanowiącym placeholder jest kod ulic: '99999', który oznacza brak nazwy ulicy. W miastach się to zdarza ale mniejsze miejscowości i wsie dość często nie nadają nazw ulicom/drogom i adres to po prostu miejscowość i numer porządkowy np. Stara Wieś 3.\n",
    "\n",
    "Przeprowadzimy teraz drobne czyszczenie i standaryzację danych.\n",
    "\n",
    "Najpierw przeprowadzimy operację trim/strip usuwającą zbędne znaki białe z początku i końca wartości tekstowych, a następnie wszystkie litery występujące w numerach porządkowych zamienimy na wielkie, a nazwy ulic na małe. Dodatkowo z nazw ulic usuniemy przedrostek 'ul. '. Te operacje pozwolą nam porównać ten zbiór danych z innymi."
   ]
  },
  {
   "cell_type": "code",
   "execution_count": 6,
   "metadata": {},
   "outputs": [],
   "source": [
    "endpoints_df['house_no'] = endpoints_df['house_no'].str.strip().str.upper()\n",
    "endpoints_df['city_name'] = endpoints_df['city_name'].str.strip().str.lower()\n",
    "endpoints_df['street_name'] = endpoints_df['street_name'].str.strip().str.lower()\n",
    "endpoints_df['street_name'] = endpoints_df['street_name'].str.replace('ul. ', '')"
   ]
  },
  {
   "cell_type": "markdown",
   "metadata": {},
   "source": [
    "Następnie dla zasięgów radiowych wszystkie wartości ponad 50 mbit/s sprowadzimy do wartości 50 mbit/s. Technicznie mało prawdopodobne, żeby dostęp radiowy pozwalał na szybsze prędkości o ile nie jest to LTE ze świetnym zasięgiem lub dedykowana radiolinia i większość z tych przypadków to najprawdopoboniej błędy w danych lub błędne interpretacje jakie dane powinny być wysłane do urzędu w ramach sprawozdania."
   ]
  },
  {
   "cell_type": "code",
   "execution_count": 7,
   "metadata": {},
   "outputs": [],
   "source": [
    "endpoints_df.loc[\n",
    "    (endpoints_df['medium'] == 'radiowe') & (endpoints_df['stationary_bandwidth_name'] > 50), \n",
    "    'stationary_bandwidth_name'\n",
    "] = 50"
   ]
  },
  {
   "cell_type": "markdown",
   "metadata": {},
   "source": [
    "Teraz spróbujemy uzupełnić część brakujących kodów ulic posiłkujac się istniejącymi w innych rekordach nazwami ulic i ich kodami. Następnie odrzucamy te rekordy których nie udało nam się dopasować."
   ]
  },
  {
   "cell_type": "code",
   "execution_count": 8,
   "metadata": {},
   "outputs": [],
   "source": [
    "lookup = endpoints_df[~endpoints_df['street_code_value'].isin({'99999', '99998'})][['city_code_value', 'street_code_value', 'street_name']].drop_duplicates().dropna()\n",
    "\n",
    "lookup.set_index(['city_code_value', 'street_name'], inplace=True)\n",
    "\n",
    "temp = endpoints_df[endpoints_df['street_code_value'] == '99998'][['city_code_value', 'street_name']].join(lookup, on=['city_code_value', 'street_name'], rsuffix='_joined')\n",
    "\n",
    "endpoints_df = endpoints_df.join(temp, rsuffix='_joined')\n",
    "\n",
    "endpoints_df['street_code_value'] = endpoints_df[['street_code_value', 'street_code_value_joined']].apply(lambda x: x[0] if x[0] != '99998' else x[1], axis=1)\n",
    "\n",
    "endpoints_df.drop(\n",
    "    columns=['city_code_value_joined', 'street_code_value_joined', 'street_name_joined'], \n",
    "    inplace=True\n",
    ")\n",
    "\n",
    "endpoints_df.dropna(\n",
    "    subset=['street_code_value', 'street_name'], \n",
    "    how='all', \n",
    "    axis=0, \n",
    "    inplace=True\n",
    ")\n",
    "\n",
    "endpoints_df = endpoints_df[endpoints_df['street_code_value'] != '99998']"
   ]
  },
  {
   "cell_type": "markdown",
   "metadata": {},
   "source": [
    "Sprawdzamy ile rekordów nam zostało:"
   ]
  },
  {
   "cell_type": "code",
   "execution_count": 9,
   "metadata": {},
   "outputs": [
    {
     "data": {
      "text/plain": [
       "10947485"
      ]
     },
     "execution_count": 9,
     "metadata": {},
     "output_type": "execute_result"
    }
   ],
   "source": [
    "len(endpoints_df.index)"
   ]
  },
  {
   "cell_type": "markdown",
   "metadata": {},
   "source": [
    "Usuwamy współrzędne z rekordów gdzie są podane liczby całkowite. Astronomicznie mało prawdopodobne żeby współrzędne jakiegoś obiektu to było dokładnie 20, 50 zamiast 20.000034, 50.000011. Są to błędy w sprawozdawczości przedsiębiorców.\n",
    "\n",
    "Współrzędne tutaj będziemy traktować drugorzędnie. Jako podstawowe źródło posłuży nam zbiór PRG z urzędowymi adresami."
   ]
  },
  {
   "cell_type": "code",
   "execution_count": 10,
   "metadata": {},
   "outputs": [],
   "source": [
    "endpoints_df.loc[(endpoints_df['latitude'] == round(endpoints_df['latitude'])) & (endpoints_df['longitude'] == round(endpoints_df['longitude'])), ['latitude', 'longitude']] = np.nan"
   ]
  },
  {
   "cell_type": "markdown",
   "metadata": {},
   "source": [
    "Tak wygląda nasz DataFrame przed eksportem:"
   ]
  },
  {
   "cell_type": "code",
   "execution_count": 11,
   "metadata": {},
   "outputs": [
    {
     "data": {
      "text/html": [
       "<div>\n",
       "<style scoped>\n",
       "    .dataframe tbody tr th:only-of-type {\n",
       "        vertical-align: middle;\n",
       "    }\n",
       "\n",
       "    .dataframe tbody tr th {\n",
       "        vertical-align: top;\n",
       "    }\n",
       "\n",
       "    .dataframe thead th {\n",
       "        text-align: right;\n",
       "    }\n",
       "</style>\n",
       "<table border=\"1\" class=\"dataframe\">\n",
       "  <thead>\n",
       "    <tr style=\"text-align: right;\">\n",
       "      <th></th>\n",
       "      <th>municipality_code_value</th>\n",
       "      <th>city_code_value</th>\n",
       "      <th>city_name</th>\n",
       "      <th>street_code_value</th>\n",
       "      <th>street_name</th>\n",
       "      <th>house_no</th>\n",
       "      <th>latitude</th>\n",
       "      <th>longitude</th>\n",
       "      <th>medium</th>\n",
       "      <th>stationary_bandwidth_name</th>\n",
       "    </tr>\n",
       "  </thead>\n",
       "  <tbody>\n",
       "    <tr>\n",
       "      <th>626</th>\n",
       "      <td>1432064</td>\n",
       "      <td>0921415</td>\n",
       "      <td>ożarów mazowiecki</td>\n",
       "      <td>17394</td>\n",
       "      <td>poznańska</td>\n",
       "      <td>167</td>\n",
       "      <td>NaN</td>\n",
       "      <td>NaN</td>\n",
       "      <td>kablowe współosiowe miedziane</td>\n",
       "      <td>250.0</td>\n",
       "    </tr>\n",
       "    <tr>\n",
       "      <th>627</th>\n",
       "      <td>1432064</td>\n",
       "      <td>0921415</td>\n",
       "      <td>ożarów mazowiecki</td>\n",
       "      <td>12740</td>\n",
       "      <td>adama mickiewicza</td>\n",
       "      <td>7</td>\n",
       "      <td>NaN</td>\n",
       "      <td>NaN</td>\n",
       "      <td>światłowodowe</td>\n",
       "      <td>1000.0</td>\n",
       "    </tr>\n",
       "    <tr>\n",
       "      <th>628</th>\n",
       "      <td>1432064</td>\n",
       "      <td>0921415</td>\n",
       "      <td>ożarów mazowiecki</td>\n",
       "      <td>12740</td>\n",
       "      <td>adama mickiewicza</td>\n",
       "      <td>5A</td>\n",
       "      <td>NaN</td>\n",
       "      <td>NaN</td>\n",
       "      <td>światłowodowe</td>\n",
       "      <td>1000.0</td>\n",
       "    </tr>\n",
       "    <tr>\n",
       "      <th>1259</th>\n",
       "      <td>1201011</td>\n",
       "      <td>0981682</td>\n",
       "      <td>bochnia</td>\n",
       "      <td>24983</td>\n",
       "      <td>wygoda</td>\n",
       "      <td>64</td>\n",
       "      <td>NaN</td>\n",
       "      <td>NaN</td>\n",
       "      <td>radiowe</td>\n",
       "      <td>50.0</td>\n",
       "    </tr>\n",
       "    <tr>\n",
       "      <th>1385</th>\n",
       "      <td>0603011</td>\n",
       "      <td>0930176</td>\n",
       "      <td>rejowiec fabryczny</td>\n",
       "      <td>10562</td>\n",
       "      <td>kwiatowa</td>\n",
       "      <td>72</td>\n",
       "      <td>NaN</td>\n",
       "      <td>NaN</td>\n",
       "      <td>światłowodowe</td>\n",
       "      <td>1000.0</td>\n",
       "    </tr>\n",
       "  </tbody>\n",
       "</table>\n",
       "</div>"
      ],
      "text/plain": [
       "     municipality_code_value city_code_value           city_name  \\\n",
       "626                  1432064         0921415   ożarów mazowiecki   \n",
       "627                  1432064         0921415   ożarów mazowiecki   \n",
       "628                  1432064         0921415   ożarów mazowiecki   \n",
       "1259                 1201011         0981682             bochnia   \n",
       "1385                 0603011         0930176  rejowiec fabryczny   \n",
       "\n",
       "     street_code_value        street_name house_no  latitude  longitude  \\\n",
       "626              17394          poznańska      167       NaN        NaN   \n",
       "627              12740  adama mickiewicza        7       NaN        NaN   \n",
       "628              12740  adama mickiewicza       5A       NaN        NaN   \n",
       "1259             24983             wygoda       64       NaN        NaN   \n",
       "1385             10562           kwiatowa       72       NaN        NaN   \n",
       "\n",
       "                             medium  stationary_bandwidth_name  \n",
       "626   kablowe współosiowe miedziane                      250.0  \n",
       "627                   światłowodowe                     1000.0  \n",
       "628                   światłowodowe                     1000.0  \n",
       "1259                        radiowe                       50.0  \n",
       "1385                  światłowodowe                     1000.0  "
      ]
     },
     "execution_count": 11,
     "metadata": {},
     "output_type": "execute_result"
    }
   ],
   "source": [
    "endpoints_df.head()"
   ]
  },
  {
   "cell_type": "markdown",
   "metadata": {},
   "source": [
    "Eksport danych o zasięgach do pliku CSV."
   ]
  },
  {
   "cell_type": "code",
   "execution_count": 12,
   "metadata": {},
   "outputs": [],
   "source": [
    "endpoints_df.to_csv(r'C:\\Users\\ttaras\\jupyter\\zasiegi.csv', sep=';', index=False)"
   ]
  },
  {
   "cell_type": "markdown",
   "metadata": {},
   "source": [
    "### Węzły i interfejsy\n",
    "\n",
    "Ładujemy dane o węzłach i interfejsach z plików CSV. Pomijamy od razu część kolumn i nadajemy odpowiednie typy."
   ]
  },
  {
   "cell_type": "code",
   "execution_count": 34,
   "metadata": {},
   "outputs": [],
   "source": [
    "nodes_df = pd.read_csv(\n",
    "    path_nodes, \n",
    "    usecols=[\n",
    "        'municipality_code_value',\n",
    "        'city_code_value',\n",
    "        'city_name',\n",
    "        'street_code_value',\n",
    "        'street_name',\n",
    "        'house_no',\n",
    "        'latitude',\n",
    "        'longitude',\n",
    "        'id'\n",
    "    ],\n",
    "    dtype={\n",
    "        'municipality_code_value': str,\n",
    "        'city_code_value': str,\n",
    "        'city_name': str,\n",
    "        'street_code_value': str,\n",
    "        'street_name': str,\n",
    "        'house_no': str,\n",
    "        'latitude': np.float64,\n",
    "        'longitude': np.float64,\n",
    "    }\n",
    ")\n",
    "\n",
    "nodes_df.rename(columns={'id': 'node_id'}, inplace=True)\n",
    "nodes_df.set_index('node_id', inplace=True)\n",
    "\n",
    "int_df = pd.read_csv(\n",
    "    path_node_interfaces, \n",
    "    usecols=[\n",
    "        'node_id', \n",
    "        'transmission_medium', \n",
    "        'technology_twisted_pair_copper'\n",
    "    ]\n",
    ")"
   ]
  },
  {
   "cell_type": "markdown",
   "metadata": {},
   "source": [
    "Tak wyglądają nasze DataFrame po załadowaniu:\n",
    "\n",
    "Węzły:"
   ]
  },
  {
   "cell_type": "code",
   "execution_count": 35,
   "metadata": {},
   "outputs": [
    {
     "data": {
      "text/html": [
       "<div>\n",
       "<style scoped>\n",
       "    .dataframe tbody tr th:only-of-type {\n",
       "        vertical-align: middle;\n",
       "    }\n",
       "\n",
       "    .dataframe tbody tr th {\n",
       "        vertical-align: top;\n",
       "    }\n",
       "\n",
       "    .dataframe thead th {\n",
       "        text-align: right;\n",
       "    }\n",
       "</style>\n",
       "<table border=\"1\" class=\"dataframe\">\n",
       "  <thead>\n",
       "    <tr style=\"text-align: right;\">\n",
       "      <th></th>\n",
       "      <th>municipality_code_value</th>\n",
       "      <th>city_code_value</th>\n",
       "      <th>city_name</th>\n",
       "      <th>street_code_value</th>\n",
       "      <th>street_name</th>\n",
       "      <th>house_no</th>\n",
       "      <th>latitude</th>\n",
       "      <th>longitude</th>\n",
       "    </tr>\n",
       "    <tr>\n",
       "      <th>node_id</th>\n",
       "      <th></th>\n",
       "      <th></th>\n",
       "      <th></th>\n",
       "      <th></th>\n",
       "      <th></th>\n",
       "      <th></th>\n",
       "      <th></th>\n",
       "      <th></th>\n",
       "    </tr>\n",
       "  </thead>\n",
       "  <tbody>\n",
       "    <tr>\n",
       "      <th>3355763</th>\n",
       "      <td>3001022</td>\n",
       "      <td>0524542</td>\n",
       "      <td>Wyszyny</td>\n",
       "      <td>NaN</td>\n",
       "      <td>NaN</td>\n",
       "      <td>NaN</td>\n",
       "      <td>52.8923</td>\n",
       "      <td>16.8586</td>\n",
       "    </tr>\n",
       "    <tr>\n",
       "      <th>5233033</th>\n",
       "      <td>0662011</td>\n",
       "      <td>0929902</td>\n",
       "      <td>Chełm</td>\n",
       "      <td>21787</td>\n",
       "      <td>ul. Szarych Szeregów</td>\n",
       "      <td>9B</td>\n",
       "      <td>51.1421</td>\n",
       "      <td>23.4300</td>\n",
       "    </tr>\n",
       "    <tr>\n",
       "      <th>5233032</th>\n",
       "      <td>1425062</td>\n",
       "      <td>0625668</td>\n",
       "      <td>Słupica</td>\n",
       "      <td>99999</td>\n",
       "      <td>NaN</td>\n",
       "      <td>168</td>\n",
       "      <td>51.4124</td>\n",
       "      <td>21.4048</td>\n",
       "    </tr>\n",
       "    <tr>\n",
       "      <th>5233029</th>\n",
       "      <td>0662011</td>\n",
       "      <td>0929902</td>\n",
       "      <td>Chełm</td>\n",
       "      <td>11205</td>\n",
       "      <td>ul. 11 Listopada</td>\n",
       "      <td>2</td>\n",
       "      <td>51.8325</td>\n",
       "      <td>23.2944</td>\n",
       "    </tr>\n",
       "    <tr>\n",
       "      <th>5233030</th>\n",
       "      <td>0603114</td>\n",
       "      <td>0107821</td>\n",
       "      <td>Siedliszcze</td>\n",
       "      <td>22073</td>\n",
       "      <td>ul. Szpitalna</td>\n",
       "      <td>15A</td>\n",
       "      <td>51.1963</td>\n",
       "      <td>23.1603</td>\n",
       "    </tr>\n",
       "  </tbody>\n",
       "</table>\n",
       "</div>"
      ],
      "text/plain": [
       "        municipality_code_value city_code_value    city_name  \\\n",
       "node_id                                                        \n",
       "3355763                 3001022         0524542      Wyszyny   \n",
       "5233033                 0662011         0929902        Chełm   \n",
       "5233032                 1425062         0625668      Słupica   \n",
       "5233029                 0662011         0929902        Chełm   \n",
       "5233030                 0603114         0107821  Siedliszcze   \n",
       "\n",
       "        street_code_value           street_name house_no  latitude  longitude  \n",
       "node_id                                                                        \n",
       "3355763               NaN                   NaN      NaN   52.8923    16.8586  \n",
       "5233033             21787  ul. Szarych Szeregów       9B   51.1421    23.4300  \n",
       "5233032             99999                   NaN      168   51.4124    21.4048  \n",
       "5233029             11205      ul. 11 Listopada        2   51.8325    23.2944  \n",
       "5233030             22073         ul. Szpitalna      15A   51.1963    23.1603  "
      ]
     },
     "execution_count": 35,
     "metadata": {},
     "output_type": "execute_result"
    }
   ],
   "source": [
    "nodes_df.head()"
   ]
  },
  {
   "cell_type": "markdown",
   "metadata": {},
   "source": [
    "Interfejsy:"
   ]
  },
  {
   "cell_type": "code",
   "execution_count": 36,
   "metadata": {},
   "outputs": [
    {
     "data": {
      "text/html": [
       "<div>\n",
       "<style scoped>\n",
       "    .dataframe tbody tr th:only-of-type {\n",
       "        vertical-align: middle;\n",
       "    }\n",
       "\n",
       "    .dataframe tbody tr th {\n",
       "        vertical-align: top;\n",
       "    }\n",
       "\n",
       "    .dataframe thead th {\n",
       "        text-align: right;\n",
       "    }\n",
       "</style>\n",
       "<table border=\"1\" class=\"dataframe\">\n",
       "  <thead>\n",
       "    <tr style=\"text-align: right;\">\n",
       "      <th></th>\n",
       "      <th>node_id</th>\n",
       "      <th>transmission_medium</th>\n",
       "      <th>technology_twisted_pair_copper</th>\n",
       "    </tr>\n",
       "  </thead>\n",
       "  <tbody>\n",
       "    <tr>\n",
       "      <th>0</th>\n",
       "      <td>15837612</td>\n",
       "      <td>światłowodowe</td>\n",
       "      <td>NaN</td>\n",
       "    </tr>\n",
       "    <tr>\n",
       "      <th>1</th>\n",
       "      <td>12144737</td>\n",
       "      <td>kablowe parowe miedziane</td>\n",
       "      <td>1 Gigabit Ethernet</td>\n",
       "    </tr>\n",
       "    <tr>\n",
       "      <th>2</th>\n",
       "      <td>14365015</td>\n",
       "      <td>kablowe parowe miedziane</td>\n",
       "      <td>1 Gigabit Ethernet</td>\n",
       "    </tr>\n",
       "    <tr>\n",
       "      <th>3</th>\n",
       "      <td>14822051</td>\n",
       "      <td>radiowe</td>\n",
       "      <td>NaN</td>\n",
       "    </tr>\n",
       "    <tr>\n",
       "      <th>4</th>\n",
       "      <td>2917895</td>\n",
       "      <td>światłowodowe</td>\n",
       "      <td>NaN</td>\n",
       "    </tr>\n",
       "  </tbody>\n",
       "</table>\n",
       "</div>"
      ],
      "text/plain": [
       "    node_id       transmission_medium technology_twisted_pair_copper\n",
       "0  15837612             światłowodowe                            NaN\n",
       "1  12144737  kablowe parowe miedziane             1 Gigabit Ethernet\n",
       "2  14365015  kablowe parowe miedziane             1 Gigabit Ethernet\n",
       "3  14822051                   radiowe                            NaN\n",
       "4   2917895             światłowodowe                            NaN"
      ]
     },
     "execution_count": 36,
     "metadata": {},
     "output_type": "execute_result"
    }
   ],
   "source": [
    "int_df.head()"
   ]
  },
  {
   "cell_type": "markdown",
   "metadata": {},
   "source": [
    "Podobnie jak w przypadku zasięgów zestandaryzujemy adresy węzłów."
   ]
  },
  {
   "cell_type": "code",
   "execution_count": 37,
   "metadata": {},
   "outputs": [],
   "source": [
    "nodes_df['house_no'] = nodes_df['house_no'].str.strip().str.upper()\n",
    "nodes_df['city_name'] = nodes_df['city_name'].str.strip().str.lower()\n",
    "nodes_df['street_name'] = nodes_df['street_name'].str.strip().str.lower()\n",
    "nodes_df['street_name'] = nodes_df['street_name'].str.replace('ul. ', '')"
   ]
  },
  {
   "cell_type": "markdown",
   "metadata": {},
   "source": [
    "Następnie dla interfejsów rozpiszemy wartości z kolumny 'medium transymisyjne' (oraz 'technology_twisted_pair_copper') metodą one-hot encoding, czyli stworzymy 4 kolumny, które będą przybierać wartośc 0 lub 1 zależnie od tego czy dane medium np. światłowodowe odpowiada temu rekordowi czy nie. Pogrupujemy interfejsy po id węzła dzięki czemu uzyskamy informacje per węzeł na temat technologii jakie są dla niego dostępne.\n",
    "Dla medium kablowego parowego robimy wyjątek i dzielimy je na kable telefoniczne i nie-telefoniczne co odpowiada odpwiednio 1 i 0 w kolumnie 'xDSL'. Dla prostszego przetwarzania zostawiona zostanie kolumna 'copper' dla wszystkich kabli miedzianych."
   ]
  },
  {
   "cell_type": "code",
   "execution_count": 38,
   "metadata": {},
   "outputs": [],
   "source": [
    "int_df['fiber'] = int_df['transmission_medium'].apply(lambda x: 1 if x == 'światłowodowe' else 0)\n",
    "\n",
    "int_df['xdsl'] = int_df['technology_twisted_pair_copper'].apply(lambda x: 1 if x in ('ADSL2+', 'POTS/ISDN', 'VDSL2', 'ADSL2', 'ADSL', 'VDSL') else 0)\n",
    "\n",
    "int_df['copper'] = int_df['transmission_medium'].apply(lambda x: 1 if x in ('kablowe parowe miedziane', 'kablowe współosiowe miedziane') else 0)\n",
    "\n",
    "int_df['radio'] = int_df['transmission_medium'].apply(lambda x: 1 if x == 'radiowe' else 0)\n",
    "\n",
    "int_df.drop(\n",
    "    columns=['transmission_medium', 'technology_twisted_pair_copper'], \n",
    "    inplace=True\n",
    ")\n",
    "\n",
    "int_df = int_df.groupby(by='node_id', as_index=True)[['fiber', 'copper', 'xdsl', 'radio']].max()"
   ]
  },
  {
   "cell_type": "markdown",
   "metadata": {},
   "source": [
    "Dla węzłów też spróbujemy uzupełnić brakujące kody ulic."
   ]
  },
  {
   "cell_type": "code",
   "execution_count": 39,
   "metadata": {},
   "outputs": [],
   "source": [
    "temp = nodes_df[nodes_df['street_code_value'] == '99998'][['city_code_value', 'street_name']].join(lookup, on=['city_code_value', 'street_name'], rsuffix='_joined')\n",
    "\n",
    "nodes_df = nodes_df.join(temp, rsuffix='_joined')\n",
    "\n",
    "nodes_df['street_code_value'] = nodes_df[['street_code_value', 'street_code_value_joined']].apply(lambda x: x[0] if x[0] != '99998' else x[1], axis=1)\n",
    "\n",
    "nodes_df.drop(\n",
    "    columns=['city_code_value_joined', 'street_code_value_joined', 'street_name_joined'], \n",
    "    inplace=True\n",
    ")"
   ]
  },
  {
   "cell_type": "markdown",
   "metadata": {},
   "source": [
    "Usuwamy współrzędne tam gdzie są całkowite."
   ]
  },
  {
   "cell_type": "code",
   "execution_count": 40,
   "metadata": {},
   "outputs": [],
   "source": [
    "nodes_df.loc[(nodes_df['latitude'] == round(nodes_df['latitude'])) & (nodes_df['longitude'] == round(nodes_df['longitude'])), ['latitude', 'longitude']] = np.nan"
   ]
  },
  {
   "cell_type": "markdown",
   "metadata": {},
   "source": [
    "Dołączamy do węzłów informacje o technologiach z interfejsów."
   ]
  },
  {
   "cell_type": "code",
   "execution_count": 41,
   "metadata": {},
   "outputs": [],
   "source": [
    "nodes_df = nodes_df.join(int_df)"
   ]
  },
  {
   "cell_type": "markdown",
   "metadata": {},
   "source": [
    "Ile węzłów mamy w naszym DataFrame:"
   ]
  },
  {
   "cell_type": "code",
   "execution_count": 42,
   "metadata": {},
   "outputs": [
    {
     "data": {
      "text/plain": [
       "348670"
      ]
     },
     "execution_count": 42,
     "metadata": {},
     "output_type": "execute_result"
    }
   ],
   "source": [
    "len(nodes_df.index)"
   ]
  },
  {
   "cell_type": "markdown",
   "metadata": {},
   "source": [
    "Ostatecznie uzupełniamy jeszcze brakujące wartości dla kolumn oznaczających technologie. Brak wartości jest równoznaczny 0 zgodnie z naszym kodowaniem."
   ]
  },
  {
   "cell_type": "code",
   "execution_count": 43,
   "metadata": {},
   "outputs": [],
   "source": [
    "nodes_df['fiber'].fillna(0, inplace=True)\n",
    "nodes_df['copper'].fillna(0, inplace=True)\n",
    "nodes_df['xdsl'].fillna(0, inplace=True)\n",
    "nodes_df['radio'].fillna(0, inplace=True)\n",
    "\n",
    "nodes_df = nodes_df.astype({\n",
    "    'fiber': 'int8',\n",
    "    'copper': 'int8',\n",
    "    'xdsl': 'int8',\n",
    "    'radio': 'int8'\n",
    "})"
   ]
  },
  {
   "cell_type": "markdown",
   "metadata": {},
   "source": [
    "Tak wygląda nasz DataFrame przed eksportem:"
   ]
  },
  {
   "cell_type": "code",
   "execution_count": 45,
   "metadata": {},
   "outputs": [
    {
     "data": {
      "text/html": [
       "<div>\n",
       "<style scoped>\n",
       "    .dataframe tbody tr th:only-of-type {\n",
       "        vertical-align: middle;\n",
       "    }\n",
       "\n",
       "    .dataframe tbody tr th {\n",
       "        vertical-align: top;\n",
       "    }\n",
       "\n",
       "    .dataframe thead th {\n",
       "        text-align: right;\n",
       "    }\n",
       "</style>\n",
       "<table border=\"1\" class=\"dataframe\">\n",
       "  <thead>\n",
       "    <tr style=\"text-align: right;\">\n",
       "      <th></th>\n",
       "      <th>municipality_code_value</th>\n",
       "      <th>city_code_value</th>\n",
       "      <th>city_name</th>\n",
       "      <th>street_code_value</th>\n",
       "      <th>street_name</th>\n",
       "      <th>house_no</th>\n",
       "      <th>latitude</th>\n",
       "      <th>longitude</th>\n",
       "      <th>fiber</th>\n",
       "      <th>copper</th>\n",
       "      <th>xdsl</th>\n",
       "      <th>radio</th>\n",
       "    </tr>\n",
       "    <tr>\n",
       "      <th>node_id</th>\n",
       "      <th></th>\n",
       "      <th></th>\n",
       "      <th></th>\n",
       "      <th></th>\n",
       "      <th></th>\n",
       "      <th></th>\n",
       "      <th></th>\n",
       "      <th></th>\n",
       "      <th></th>\n",
       "      <th></th>\n",
       "      <th></th>\n",
       "      <th></th>\n",
       "    </tr>\n",
       "  </thead>\n",
       "  <tbody>\n",
       "    <tr>\n",
       "      <th>86</th>\n",
       "      <td>1219055</td>\n",
       "      <td>0340180</td>\n",
       "      <td>czarnochowice</td>\n",
       "      <td>99999</td>\n",
       "      <td>NaN</td>\n",
       "      <td>146</td>\n",
       "      <td>50.0117</td>\n",
       "      <td>20.0728</td>\n",
       "      <td>0</td>\n",
       "      <td>0</td>\n",
       "      <td>0</td>\n",
       "      <td>1</td>\n",
       "    </tr>\n",
       "    <tr>\n",
       "      <th>87</th>\n",
       "      <td>1206172</td>\n",
       "      <td>0344136</td>\n",
       "      <td>brzozówka</td>\n",
       "      <td>20254</td>\n",
       "      <td>słoneczna</td>\n",
       "      <td>1</td>\n",
       "      <td>50.1771</td>\n",
       "      <td>19.8934</td>\n",
       "      <td>0</td>\n",
       "      <td>0</td>\n",
       "      <td>0</td>\n",
       "      <td>1</td>\n",
       "    </tr>\n",
       "    <tr>\n",
       "      <th>91</th>\n",
       "      <td>1219055</td>\n",
       "      <td>0340256</td>\n",
       "      <td>chorągwica</td>\n",
       "      <td>NaN</td>\n",
       "      <td>NaN</td>\n",
       "      <td>NaN</td>\n",
       "      <td>49.9581</td>\n",
       "      <td>20.0853</td>\n",
       "      <td>0</td>\n",
       "      <td>0</td>\n",
       "      <td>0</td>\n",
       "      <td>1</td>\n",
       "    </tr>\n",
       "    <tr>\n",
       "      <th>92</th>\n",
       "      <td>1219022</td>\n",
       "      <td>0318972</td>\n",
       "      <td>zręczyce</td>\n",
       "      <td>99999</td>\n",
       "      <td>NaN</td>\n",
       "      <td>91</td>\n",
       "      <td>NaN</td>\n",
       "      <td>NaN</td>\n",
       "      <td>0</td>\n",
       "      <td>0</td>\n",
       "      <td>0</td>\n",
       "      <td>1</td>\n",
       "    </tr>\n",
       "    <tr>\n",
       "      <th>94</th>\n",
       "      <td>1219012</td>\n",
       "      <td>0315175</td>\n",
       "      <td>przebieczany</td>\n",
       "      <td>99999</td>\n",
       "      <td>NaN</td>\n",
       "      <td>136</td>\n",
       "      <td>NaN</td>\n",
       "      <td>NaN</td>\n",
       "      <td>0</td>\n",
       "      <td>0</td>\n",
       "      <td>0</td>\n",
       "      <td>1</td>\n",
       "    </tr>\n",
       "  </tbody>\n",
       "</table>\n",
       "</div>"
      ],
      "text/plain": [
       "        municipality_code_value city_code_value      city_name  \\\n",
       "node_id                                                          \n",
       "86                      1219055         0340180  czarnochowice   \n",
       "87                      1206172         0344136      brzozówka   \n",
       "91                      1219055         0340256     chorągwica   \n",
       "92                      1219022         0318972       zręczyce   \n",
       "94                      1219012         0315175   przebieczany   \n",
       "\n",
       "        street_code_value street_name house_no  latitude  longitude  fiber  \\\n",
       "node_id                                                                      \n",
       "86                  99999         NaN      146   50.0117    20.0728      0   \n",
       "87                  20254   słoneczna        1   50.1771    19.8934      0   \n",
       "91                    NaN         NaN      NaN   49.9581    20.0853      0   \n",
       "92                  99999         NaN       91       NaN        NaN      0   \n",
       "94                  99999         NaN      136       NaN        NaN      0   \n",
       "\n",
       "         copper  xdsl  radio  \n",
       "node_id                       \n",
       "86            0     0      1  \n",
       "87            0     0      1  \n",
       "91            0     0      1  \n",
       "92            0     0      1  \n",
       "94            0     0      1  "
      ]
     },
     "execution_count": 45,
     "metadata": {},
     "output_type": "execute_result"
    }
   ],
   "source": [
    "nodes_df.head()"
   ]
  },
  {
   "cell_type": "markdown",
   "metadata": {},
   "source": [
    "Eksport danych o węzłach do pliku CSV."
   ]
  },
  {
   "cell_type": "code",
   "execution_count": 46,
   "metadata": {},
   "outputs": [],
   "source": [
    "nodes_df.to_csv(r'C:\\Users\\ttaras\\jupyter\\wezly.csv', sep=';', index=False)"
   ]
  },
  {
   "cell_type": "markdown",
   "metadata": {},
   "source": [
    "## Przygotowanie danych adresowych wraz z potrzebnymi dla modelu informacjami o charakterystyce przestrzennej danego punktu\n",
    "\n",
    "### Parsowanie i czyszczenie danych adresowych z Państwowego Rejestru Granic (PRG)\n",
    "\n",
    "Dane udostępniane w ramach Państwowego Rejestru Granic to granice jednostek administracyjnych: kraj, województwa, powiaty, gminy oraz punkty adresowe. Dla tej pracy interesują nas punkty adresowe, które będą stanowić uzupełnienie danych dla zbioru SIIS o zasięgach sieci, a konkretnie pozwolą nam dodać brakujące współrzędne geograficzne. \n",
    "\n",
    "Dobrze by było wykorzystać zbiór adresów do dodania także adresów, które nie są w zasięgu żadnej sieci stacjonarnej, czyli nie będzie ich w zbiorze SIIS, ale trzeba by mieć w miarę zsynchronizowane czasowo zbiory, a najnowsza porcja zbioru SIIS zawiera dane za 2018 rok. W związku z tym nie będziemy dodawać adresów bez sieci, bo przez prawie dwuletnią różnicę sporo nowych adresów, które w rzeczywistości są w zasięgu sieci było by pokazane jako bez internetu co bardziej zaburzyło by wyniki modelu niż brak adresów bez internetu.\n",
    "\n",
    "PRG udostępniane jest w postaci spakowanych plików GML (rozszerzenie XML dla danych przestrzennych). Struktura wygląda tak, że w ramach pliku mamu kilka rodzajów rekordów: jednostkę administracyjną (dla plikó adresowych bez geometrii tylko dane tekstowe jak nazwa), miejscowość (nazwa, kod teryt), ulicę (nazwa, kod teryt, geometria) oraz adres, który zawiera informacje tekstowe o adresie, geometrię (współrzędne geograficzne), ale także łączy się z pozostałymi rodzajami rekordów. Czyli w ramach hierarhicznego typu plików jakim jest XML mamy zbiór relacyjny. Co ciekawe pomimo duplikacji części danych jak np. nazwa miejscowości czy ulicy dane te nie zawsze zgadzają się pomiędzy rekordem adresowym, a odpowiadającym mu rekordem miejscowości/ulicy. Na podstawie wstępnej analizy danych doszedłem do wniosku, że lepiej będzie korzystać z nazw miejscowości/ulic pochodzących z rekordów tych typów połączonych z rekordem adresu niż z samych danych zawartych w rekordzie adresu.\n",
    "\n",
    "W związku z rozmiarem plików nie możemy załadować ich po prostu do pamięci jak zazwyczaj robi się z plikami XML (parsowanie [DOM](https://en.wikipedia.org/wiki/Document_Object_Model)). Zastosujemy parsowanie \"zdarzeniowe\" ([SAX](https://en.wikipedia.org/wiki/Simple_API_for_XML)), dzięki któremu będziemy przetwarzać plik rekord po rekordzie. Dzięki temu zużycie pamięci będzie minimalne. Każdy rekord po przetworzeniu ładowany jest do bazy PostgreSQL, gdzie dokonamy dalszych przetworzeń i czyszczenia zbioru.\n",
    "\n",
    "Skrypt w python parsujący pliki PRG załączony jest w repozytorium git podobnie jak skrypt pobierający słowniki TERYT oraz kwerendy SQL, którymi dalej przetwarzano zbiór przygotowując go do połączenia z danymi SIIS.\n",
    "\n",
    "### Przygotowanie obrysów budynków na podstawie modeli 3D (LOD1)\n",
    "\n",
    "Dane są w formacie CityGML, który jest rozszerzeniem XML (GML). Ze względu na skomplikowaną strukturę użyto programu Spatial ETL nazywającego się FME od firmy Safe Software.\n",
    "\n",
    "FME było w stanie odczytać zipowane pliki, dokonać odpowiednich transformacji tj. spłaszczyć geometrię do 2D i wybrać część poligonową, a następnie załadować te dane do bazy PostgreSQL z dodatkiem PostGIS. \n",
    "\n",
    "Dane są co prawda sprzed kilku lat, ale jest to najpełniejsze źródło jakie znalazłem. Innym dobrym źródłem dla obrysów budynków jest OpenStreetMap (OSM), jednak o ile aktuaność danych OSM jest bardzo dobra, bo są aktualizowane na bieżąco to nie ma tam danych dla całego krajego, a próba łączenia dwóch zbiorów tej wielkości wykraczała by poza zakres tej pracy.\n",
    "\n",
    "### Przygotowanie danych z Numerycznego Modelu Terenu\n",
    "\n",
    "Dane są w formacie tekstowym, który można określić jako CSV rozdzielany spacjami. Każdy rekord zawiera 3 kolumny: x, y i z, czyli wysokość. Wersja darmowa tego zbioru ma punkty pomiarowe co 100m. Wysokość jest dla samego terenu. W sumie dla całej Polski dało to ok. 31,2 mln punktów.\n",
    "\n",
    "Dla każdego adresu wyszukamy punkty w odległości do 10km, a następnie policzymy minimalną wysokość, maksymalną oraz medianę wysokości. To da nam podstawowe dane na temat terenu na jakim znajduje się dany punkt.\n",
    "\n",
    "NMT można przetworzyć np. na raster i mogło by to uprościć obliczenia, ale na potrzeby tej pracy uznałem, że ta prosta metoda wystarczy. Tutaj też użyto bazy danych PostgreSQL z dodatkiem PostGIS. Co prawda rozmiar danych wymusił przetwarzanie ich małymi partiami, do czego napisany został skrypt w Pythonie, który wysyłał do bazy 8 takich kawałków jednocześnie (8, bo tyle rdzeni miała baza danych) pracując na 8 procesach stworzonych z biblioteką _multiprocessing_. Skrypt jest załączony w repozytorium git.\n",
    "\n",
    "### Połączenie danych w spójny słownik adresów wraz z dodatkowymi informacjami\n",
    "\n",
    "Mając przygotowane zbiory PRG, budynków oraz NMT możemy je połączyć, żeby uzyskać adres wraz z informacjami o tym ile adresów z nim sąsiaduje, do jakiej wielkości budynku należy oraz na jakim terenie się znajduje.\n",
    "\n",
    "...\n",
    "\n",
    "## Przygotowanie kompletnego zbioru do uczenia modelu\n",
    "\n",
    "...\n",
    "\n",
    "Finalnie otrzymujemy zbiór jak poniżej:\n"
   ]
  },
  {
   "cell_type": "code",
   "execution_count": 1,
   "metadata": {},
   "outputs": [
    {
     "data": {
      "text/html": [
       "<div>\n",
       "<style scoped>\n",
       "    .dataframe tbody tr th:only-of-type {\n",
       "        vertical-align: middle;\n",
       "    }\n",
       "\n",
       "    .dataframe tbody tr th {\n",
       "        vertical-align: top;\n",
       "    }\n",
       "\n",
       "    .dataframe thead th {\n",
       "        text-align: right;\n",
       "    }\n",
       "</style>\n",
       "<table border=\"1\" class=\"dataframe\">\n",
       "  <thead>\n",
       "    <tr style=\"text-align: right;\">\n",
       "      <th></th>\n",
       "      <th>przepustowosc</th>\n",
       "      <th>no_of_neighbours</th>\n",
       "      <th>building_area</th>\n",
       "      <th>delta_z</th>\n",
       "      <th>median_z</th>\n",
       "      <th>fiber_count</th>\n",
       "      <th>copper_nonxdsl_count</th>\n",
       "      <th>radio_count</th>\n",
       "      <th>copper_xdsl_count</th>\n",
       "      <th>distance_fiber</th>\n",
       "      <th>distance_radio</th>\n",
       "      <th>distance_copper_xdsl</th>\n",
       "      <th>distance_copper_nonxdsl</th>\n",
       "    </tr>\n",
       "  </thead>\n",
       "  <tbody>\n",
       "    <tr>\n",
       "      <th>0</th>\n",
       "      <td>40.0</td>\n",
       "      <td>127</td>\n",
       "      <td>132.74060</td>\n",
       "      <td>135.619995</td>\n",
       "      <td>205.910004</td>\n",
       "      <td>131</td>\n",
       "      <td>459</td>\n",
       "      <td>37</td>\n",
       "      <td>12</td>\n",
       "      <td>2139.31</td>\n",
       "      <td>90.62</td>\n",
       "      <td>2139.31</td>\n",
       "      <td>2487.99</td>\n",
       "    </tr>\n",
       "    <tr>\n",
       "      <th>1</th>\n",
       "      <td>8.0</td>\n",
       "      <td>293</td>\n",
       "      <td>144.79525</td>\n",
       "      <td>33.070000</td>\n",
       "      <td>100.870003</td>\n",
       "      <td>67</td>\n",
       "      <td>151</td>\n",
       "      <td>58</td>\n",
       "      <td>33</td>\n",
       "      <td>759.25</td>\n",
       "      <td>549.57</td>\n",
       "      <td>985.47</td>\n",
       "      <td>616.53</td>\n",
       "    </tr>\n",
       "    <tr>\n",
       "      <th>2</th>\n",
       "      <td>60.0</td>\n",
       "      <td>166</td>\n",
       "      <td>87.74550</td>\n",
       "      <td>144.829987</td>\n",
       "      <td>237.369995</td>\n",
       "      <td>2</td>\n",
       "      <td>2</td>\n",
       "      <td>11</td>\n",
       "      <td>2</td>\n",
       "      <td>389.73</td>\n",
       "      <td>346.92</td>\n",
       "      <td>389.73</td>\n",
       "      <td>3072.64</td>\n",
       "    </tr>\n",
       "    <tr>\n",
       "      <th>3</th>\n",
       "      <td>60.0</td>\n",
       "      <td>231</td>\n",
       "      <td>114.72625</td>\n",
       "      <td>239.630005</td>\n",
       "      <td>210.169998</td>\n",
       "      <td>9</td>\n",
       "      <td>50</td>\n",
       "      <td>78</td>\n",
       "      <td>25</td>\n",
       "      <td>532.56</td>\n",
       "      <td>486.90</td>\n",
       "      <td>522.59</td>\n",
       "      <td>511.16</td>\n",
       "    </tr>\n",
       "    <tr>\n",
       "      <th>4</th>\n",
       "      <td>30.0</td>\n",
       "      <td>384</td>\n",
       "      <td>661.19260</td>\n",
       "      <td>466.490021</td>\n",
       "      <td>380.785004</td>\n",
       "      <td>293</td>\n",
       "      <td>211</td>\n",
       "      <td>79</td>\n",
       "      <td>46</td>\n",
       "      <td>101.62</td>\n",
       "      <td>132.88</td>\n",
       "      <td>170.08</td>\n",
       "      <td>125.94</td>\n",
       "    </tr>\n",
       "  </tbody>\n",
       "</table>\n",
       "</div>"
      ],
      "text/plain": [
       "   przepustowosc  no_of_neighbours  building_area     delta_z    median_z  \\\n",
       "0           40.0               127      132.74060  135.619995  205.910004   \n",
       "1            8.0               293      144.79525   33.070000  100.870003   \n",
       "2           60.0               166       87.74550  144.829987  237.369995   \n",
       "3           60.0               231      114.72625  239.630005  210.169998   \n",
       "4           30.0               384      661.19260  466.490021  380.785004   \n",
       "\n",
       "   fiber_count  copper_nonxdsl_count  radio_count  copper_xdsl_count  \\\n",
       "0          131                   459           37                 12   \n",
       "1           67                   151           58                 33   \n",
       "2            2                     2           11                  2   \n",
       "3            9                    50           78                 25   \n",
       "4          293                   211           79                 46   \n",
       "\n",
       "   distance_fiber  distance_radio  distance_copper_xdsl  \\\n",
       "0         2139.31           90.62               2139.31   \n",
       "1          759.25          549.57                985.47   \n",
       "2          389.73          346.92                389.73   \n",
       "3          532.56          486.90                522.59   \n",
       "4          101.62          132.88                170.08   \n",
       "\n",
       "   distance_copper_nonxdsl  \n",
       "0                  2487.99  \n",
       "1                   616.53  \n",
       "2                  3072.64  \n",
       "3                   511.16  \n",
       "4                   125.94  "
      ]
     },
     "execution_count": 1,
     "metadata": {},
     "output_type": "execute_result"
    }
   ],
   "source": [
    "import pandas as pd\n",
    "\n",
    "df = pd.read_csv(r'C:\\podyplomowka\\dataset.csv', sep=';')\n",
    "df.head()"
   ]
  },
  {
   "cell_type": "markdown",
   "metadata": {},
   "source": [
    "Kolumny oznaczają kolejno:\n",
    "* przepustowosc - maksymalna dostępna przepustowość internetu dla tego miejsca (mbit/s)\n",
    "* no_of_neighbours - liczba sąsiadów adresu w odległości maksymalnie m\n",
    "* building_area - powierzchnia budynku w m2\n",
    "* delta_z - zmiana wysokości terenu (w odległości maksymalnie 10 km)\n",
    "* median_z - mediana wysokości terenu z punktów pomiarowych (w odległości maksymalnie 10 km)\n",
    "* fiber_count - liczba węzłów światłowodowych w odległości maksymalnie 5 km\n",
    "* copper_nonxdsl_count - liczba węzłów w technologii miedzianej nie bazowanej na xDSL w odległości maksymalnie 5 km\n",
    "* radio_count - liczba węzłów radiowych w odległości maksymalnie 5 km\n",
    "* copper_xdsl_count - liczba węzłów w technologii xDSL w odległości maksymalnie 5 km\n",
    "* distance_fiber - odległość od najbliższego węzła światłowodowego (maksymalnie 20km lub oznaczony jako brak danych)\n",
    "* distance_radio - odległość od najbliższego węzła radiowego (j.w.)\n",
    "* distance_copper_xdsl - odległość od najbliższego węzła w technologii xDSL (j.w.)\n",
    "* distance_copper_nonxdsl - odległość od nabliższego węzła w technologii miedzianej nie bazowanej na xDSL (j.w.)\n"
   ]
  },
  {
   "cell_type": "code",
   "execution_count": 2,
   "metadata": {},
   "outputs": [
    {
     "name": "stdout",
     "output_type": "stream",
     "text": [
      "Zbiór posiada: 5415128 rekordów.\n"
     ]
    }
   ],
   "source": [
    "print('Zbiór posiada:', len(df.index), 'rekordów.')"
   ]
  },
  {
   "cell_type": "markdown",
   "metadata": {},
   "source": [
    "\"Kształt\" naszego DataFrame:"
   ]
  },
  {
   "cell_type": "code",
   "execution_count": 3,
   "metadata": {},
   "outputs": [
    {
     "data": {
      "text/plain": [
       "(5415128, 13)"
      ]
     },
     "execution_count": 3,
     "metadata": {},
     "output_type": "execute_result"
    }
   ],
   "source": [
    "df.shape"
   ]
  },
  {
   "cell_type": "markdown",
   "metadata": {},
   "source": [
    "Typy kolumn to:"
   ]
  },
  {
   "cell_type": "code",
   "execution_count": 4,
   "metadata": {},
   "outputs": [
    {
     "data": {
      "text/plain": [
       "przepustowosc              float64\n",
       "no_of_neighbours             int64\n",
       "building_area              float64\n",
       "delta_z                    float64\n",
       "median_z                   float64\n",
       "fiber_count                  int64\n",
       "copper_nonxdsl_count         int64\n",
       "radio_count                  int64\n",
       "copper_xdsl_count            int64\n",
       "distance_fiber             float64\n",
       "distance_radio             float64\n",
       "distance_copper_xdsl       float64\n",
       "distance_copper_nonxdsl    float64\n",
       "dtype: object"
      ]
     },
     "execution_count": 4,
     "metadata": {},
     "output_type": "execute_result"
    }
   ],
   "source": [
    "df.dtypes"
   ]
  },
  {
   "cell_type": "code",
   "execution_count": 5,
   "metadata": {},
   "outputs": [
    {
     "data": {
      "text/html": [
       "<div>\n",
       "<style scoped>\n",
       "    .dataframe tbody tr th:only-of-type {\n",
       "        vertical-align: middle;\n",
       "    }\n",
       "\n",
       "    .dataframe tbody tr th {\n",
       "        vertical-align: top;\n",
       "    }\n",
       "\n",
       "    .dataframe thead th {\n",
       "        text-align: right;\n",
       "    }\n",
       "</style>\n",
       "<table border=\"1\" class=\"dataframe\">\n",
       "  <thead>\n",
       "    <tr style=\"text-align: right;\">\n",
       "      <th></th>\n",
       "      <th>przepustowosc</th>\n",
       "      <th>no_of_neighbours</th>\n",
       "      <th>building_area</th>\n",
       "      <th>delta_z</th>\n",
       "      <th>median_z</th>\n",
       "      <th>fiber_count</th>\n",
       "      <th>copper_nonxdsl_count</th>\n",
       "      <th>radio_count</th>\n",
       "      <th>copper_xdsl_count</th>\n",
       "      <th>distance_fiber</th>\n",
       "      <th>distance_radio</th>\n",
       "      <th>distance_copper_xdsl</th>\n",
       "      <th>distance_copper_nonxdsl</th>\n",
       "    </tr>\n",
       "  </thead>\n",
       "  <tbody>\n",
       "    <tr>\n",
       "      <th>count</th>\n",
       "      <td>5415128.00</td>\n",
       "      <td>5415128.00</td>\n",
       "      <td>5371957.00</td>\n",
       "      <td>5415128.00</td>\n",
       "      <td>5415128.00</td>\n",
       "      <td>5415128.00</td>\n",
       "      <td>5415128.00</td>\n",
       "      <td>5415128.00</td>\n",
       "      <td>5415128.00</td>\n",
       "      <td>5414891.00</td>\n",
       "      <td>5415128.00</td>\n",
       "      <td>5415128.00</td>\n",
       "      <td>5413571.00</td>\n",
       "    </tr>\n",
       "    <tr>\n",
       "      <th>mean</th>\n",
       "      <td>418.90</td>\n",
       "      <td>213.61</td>\n",
       "      <td>167.14</td>\n",
       "      <td>154.77</td>\n",
       "      <td>186.51</td>\n",
       "      <td>137.15</td>\n",
       "      <td>262.36</td>\n",
       "      <td>75.56</td>\n",
       "      <td>21.50</td>\n",
       "      <td>1667.60</td>\n",
       "      <td>706.44</td>\n",
       "      <td>1076.33</td>\n",
       "      <td>2059.85</td>\n",
       "    </tr>\n",
       "    <tr>\n",
       "      <th>std</th>\n",
       "      <td>3672.18</td>\n",
       "      <td>188.35</td>\n",
       "      <td>434.18</td>\n",
       "      <td>179.43</td>\n",
       "      <td>118.55</td>\n",
       "      <td>297.38</td>\n",
       "      <td>662.75</td>\n",
       "      <td>118.04</td>\n",
       "      <td>33.96</td>\n",
       "      <td>2173.94</td>\n",
       "      <td>843.25</td>\n",
       "      <td>1077.62</td>\n",
       "      <td>2766.39</td>\n",
       "    </tr>\n",
       "    <tr>\n",
       "      <th>min</th>\n",
       "      <td>1.00</td>\n",
       "      <td>0.00</td>\n",
       "      <td>5.35</td>\n",
       "      <td>6.04</td>\n",
       "      <td>-0.44</td>\n",
       "      <td>0.00</td>\n",
       "      <td>0.00</td>\n",
       "      <td>0.00</td>\n",
       "      <td>0.00</td>\n",
       "      <td>0.00</td>\n",
       "      <td>0.00</td>\n",
       "      <td>0.00</td>\n",
       "      <td>0.00</td>\n",
       "    </tr>\n",
       "    <tr>\n",
       "      <th>25%</th>\n",
       "      <td>10.00</td>\n",
       "      <td>61.00</td>\n",
       "      <td>88.25</td>\n",
       "      <td>66.55</td>\n",
       "      <td>103.87</td>\n",
       "      <td>3.00</td>\n",
       "      <td>2.00</td>\n",
       "      <td>15.00</td>\n",
       "      <td>4.00</td>\n",
       "      <td>254.48</td>\n",
       "      <td>204.96</td>\n",
       "      <td>332.61</td>\n",
       "      <td>240.30</td>\n",
       "    </tr>\n",
       "    <tr>\n",
       "      <th>50%</th>\n",
       "      <td>40.00</td>\n",
       "      <td>154.00</td>\n",
       "      <td>111.16</td>\n",
       "      <td>93.98</td>\n",
       "      <td>163.75</td>\n",
       "      <td>18.00</td>\n",
       "      <td>23.00</td>\n",
       "      <td>35.00</td>\n",
       "      <td>9.00</td>\n",
       "      <td>718.14</td>\n",
       "      <td>398.27</td>\n",
       "      <td>670.99</td>\n",
       "      <td>778.56</td>\n",
       "    </tr>\n",
       "    <tr>\n",
       "      <th>75%</th>\n",
       "      <td>300.00</td>\n",
       "      <td>325.00</td>\n",
       "      <td>145.87</td>\n",
       "      <td>157.41</td>\n",
       "      <td>243.61</td>\n",
       "      <td>116.00</td>\n",
       "      <td>174.00</td>\n",
       "      <td>81.00</td>\n",
       "      <td>24.00</td>\n",
       "      <td>2315.39</td>\n",
       "      <td>828.31</td>\n",
       "      <td>1451.43</td>\n",
       "      <td>2900.20</td>\n",
       "    </tr>\n",
       "    <tr>\n",
       "      <th>max</th>\n",
       "      <td>100000.00</td>\n",
       "      <td>1286.00</td>\n",
       "      <td>151230.75</td>\n",
       "      <td>1596.34</td>\n",
       "      <td>1209.33</td>\n",
       "      <td>3118.00</td>\n",
       "      <td>6340.00</td>\n",
       "      <td>1445.00</td>\n",
       "      <td>360.00</td>\n",
       "      <td>19986.98</td>\n",
       "      <td>10390.25</td>\n",
       "      <td>12226.62</td>\n",
       "      <td>19999.88</td>\n",
       "    </tr>\n",
       "  </tbody>\n",
       "</table>\n",
       "</div>"
      ],
      "text/plain": [
       "      przepustowosc no_of_neighbours building_area     delta_z    median_z  \\\n",
       "count    5415128.00       5415128.00    5371957.00  5415128.00  5415128.00   \n",
       "mean         418.90           213.61        167.14      154.77      186.51   \n",
       "std         3672.18           188.35        434.18      179.43      118.55   \n",
       "min            1.00             0.00          5.35        6.04       -0.44   \n",
       "25%           10.00            61.00         88.25       66.55      103.87   \n",
       "50%           40.00           154.00        111.16       93.98      163.75   \n",
       "75%          300.00           325.00        145.87      157.41      243.61   \n",
       "max       100000.00          1286.00     151230.75     1596.34     1209.33   \n",
       "\n",
       "      fiber_count copper_nonxdsl_count radio_count copper_xdsl_count  \\\n",
       "count  5415128.00           5415128.00  5415128.00        5415128.00   \n",
       "mean       137.15               262.36       75.56             21.50   \n",
       "std        297.38               662.75      118.04             33.96   \n",
       "min          0.00                 0.00        0.00              0.00   \n",
       "25%          3.00                 2.00       15.00              4.00   \n",
       "50%         18.00                23.00       35.00              9.00   \n",
       "75%        116.00               174.00       81.00             24.00   \n",
       "max       3118.00              6340.00     1445.00            360.00   \n",
       "\n",
       "      distance_fiber distance_radio distance_copper_xdsl  \\\n",
       "count     5414891.00     5415128.00           5415128.00   \n",
       "mean         1667.60         706.44              1076.33   \n",
       "std          2173.94         843.25              1077.62   \n",
       "min             0.00           0.00                 0.00   \n",
       "25%           254.48         204.96               332.61   \n",
       "50%           718.14         398.27               670.99   \n",
       "75%          2315.39         828.31              1451.43   \n",
       "max         19986.98       10390.25             12226.62   \n",
       "\n",
       "      distance_copper_nonxdsl  \n",
       "count              5413571.00  \n",
       "mean                  2059.85  \n",
       "std                   2766.39  \n",
       "min                      0.00  \n",
       "25%                    240.30  \n",
       "50%                    778.56  \n",
       "75%                   2900.20  \n",
       "max                  19999.88  "
      ]
     },
     "execution_count": 5,
     "metadata": {},
     "output_type": "execute_result"
    }
   ],
   "source": [
    "df.describe().apply(lambda s: s.apply(lambda x: format(x, '.2f')))"
   ]
  },
  {
   "cell_type": "markdown",
   "metadata": {},
   "source": [
    "Sprawdźmy jeszcze ile rekordów nie ma danych:"
   ]
  },
  {
   "cell_type": "code",
   "execution_count": 6,
   "metadata": {},
   "outputs": [
    {
     "data": {
      "text/plain": [
       "przepustowosc                  0\n",
       "no_of_neighbours               0\n",
       "building_area              43171\n",
       "delta_z                        0\n",
       "median_z                       0\n",
       "fiber_count                    0\n",
       "copper_nonxdsl_count           0\n",
       "radio_count                    0\n",
       "copper_xdsl_count              0\n",
       "distance_fiber               237\n",
       "distance_radio                 0\n",
       "distance_copper_xdsl           0\n",
       "distance_copper_nonxdsl     1557\n",
       "dtype: int64"
      ]
     },
     "execution_count": 6,
     "metadata": {},
     "output_type": "execute_result"
    }
   ],
   "source": [
    "df.isnull().sum(axis = 0)"
   ]
  },
  {
   "cell_type": "markdown",
   "metadata": {},
   "source": [
    "Braków danych w tym zbiorze jest na tyle mało, że można je po prostu usunąć:"
   ]
  },
  {
   "cell_type": "code",
   "execution_count": 7,
   "metadata": {},
   "outputs": [],
   "source": [
    "df = df.dropna()"
   ]
  },
  {
   "cell_type": "markdown",
   "metadata": {},
   "source": [
    "Dalej zajmiemy się wartościami krańcowymi, które mogły by zaburzyć działanie modelu.\n",
    "\n",
    "W podsumowaniu DataFrame kilka komórek wyżej naszą uwagę może zwrócić duża rozpiętość w przepustowości oraz liczbie węzłów nie-xDSL. Zwizualizujemy je zaraz na histogramie. Dodatkowo zwizulizujemy wartości powierzchni budynków.\n",
    "\n",
    "Dodatkowo kolumny z dystansem w metrach poddamy działaniu funkcji log(n+1). Logarytm \"spłaszczy\" nam różnice w odległości i sprawi, że nie będziemy już operować na olbrzymich wartościach liczbowych. Do odległości dodajemy 1 żeby nie było błędu dla logarytmu odległości równych zero."
   ]
  },
  {
   "cell_type": "code",
   "execution_count": 21,
   "metadata": {},
   "outputs": [
    {
     "data": {
      "text/plain": [
       "<matplotlib.axes._subplots.AxesSubplot at 0x1398328ba30>"
      ]
     },
     "execution_count": 21,
     "metadata": {},
     "output_type": "execute_result"
    },
    {
     "data": {
      "image/png": "[encoded data removed]",
      "text/plain": [
       "<Figure size 432x288 with 1 Axes>"
      ]
     },
     "metadata": {
      "needs_background": "light"
     },
     "output_type": "display_data"
    }
   ],
   "source": [
    "df['przepustowosc'].groupby(df['przepustowosc']).count().plot(kind='barh')"
   ]
  },
  {
   "cell_type": "code",
   "execution_count": 50,
   "metadata": {},
   "outputs": [
    {
     "data": {
      "text/plain": [
       "6309"
      ]
     },
     "execution_count": 50,
     "metadata": {},
     "output_type": "execute_result"
    }
   ],
   "source": [
    "temp = df['copper_nonxdsl_count'].groupby(df['copper_nonxdsl_count']).count()\n",
    "len(temp.index)"
   ]
  },
  {
   "cell_type": "code",
   "execution_count": 51,
   "metadata": {},
   "outputs": [
    {
     "data": {
      "text/plain": [
       "398080"
      ]
     },
     "execution_count": 51,
     "metadata": {},
     "output_type": "execute_result"
    }
   ],
   "source": [
    "temp[temp.index >= 1000].sum()"
   ]
  },
  {
   "cell_type": "code",
   "execution_count": 52,
   "metadata": {},
   "outputs": [
    {
     "data": {
      "text/plain": [
       "copper_nonxdsl_count\n",
       "1000    397\n",
       "1001    365\n",
       "1002    383\n",
       "1003    360\n",
       "1004    369\n",
       "       ... \n",
       "6332      1\n",
       "6333      2\n",
       "6335      3\n",
       "6336      2\n",
       "6340      1\n",
       "Name: copper_nonxdsl_count, Length: 5309, dtype: int64"
      ]
     },
     "execution_count": 52,
     "metadata": {},
     "output_type": "execute_result"
    }
   ],
   "source": [
    "temp[temp.index >= 1000]"
   ]
  },
  {
   "cell_type": "code",
   "execution_count": 58,
   "metadata": {},
   "outputs": [
    {
     "data": {
      "text/plain": [
       "<matplotlib.axes._subplots.AxesSubplot at 0x13983cce5e0>"
      ]
     },
     "execution_count": 58,
     "metadata": {},
     "output_type": "execute_result"
    },
    {
     "data": {
      "image/png": "[encoded data removed]",
      "text/plain": [
       "<Figure size 432x288 with 1 Axes>"
      ]
     },
     "metadata": {
      "needs_background": "light"
     },
     "output_type": "display_data"
    }
   ],
   "source": [
    "temp.plot()"
   ]
  },
  {
   "cell_type": "code",
   "execution_count": 57,
   "metadata": {},
   "outputs": [
    {
     "data": {
      "text/plain": [
       "<matplotlib.axes._subplots.AxesSubplot at 0x13983c817c0>"
      ]
     },
     "execution_count": 57,
     "metadata": {},
     "output_type": "execute_result"
    },
    {
     "data": {
      "image/png": "[encoded data removed]",
      "text/plain": [
       "<Figure size 432x288 with 1 Axes>"
      ]
     },
     "metadata": {
      "needs_background": "light"
     },
     "output_type": "display_data"
    }
   ],
   "source": [
    "temp[temp.index <= 100].plot()  # wykres dla liczby rekordów do 100 węzłów"
   ]
  },
  {
   "cell_type": "markdown",
   "metadata": {},
   "source": [
    "Jak widzimy przepustowości powyżej 2500mbit można usunąć.\n",
    "\n",
    "Z liczbą węzłów ciężej ocenić, ponieważ jest bardo duży przedział wartości zawierających po kilka kilkadziesiąt rekordów. Pozostanie co najwyżej normalizacja zbioru, ale tym zajmiemy się później przy ocenie działania samego modelu.\n",
    "\n",
    "Tak jak było wcześniej wspomniane usuniemy teraz wartości skrajne i zaaplikujemy funkcję do odległości."
   ]
  },
  {
   "cell_type": "code",
   "execution_count": 59,
   "metadata": {},
   "outputs": [],
   "source": [
    "df = df[df['przepustowosc'] <= 2500]"
   ]
  },
  {
   "cell_type": "code",
   "execution_count": 60,
   "metadata": {},
   "outputs": [],
   "source": [
    "from numpy import log1p\n",
    "\n",
    "df['distance_copper_nonxdsl_log1p'] = df['distance_copper_nonxdsl'].apply(log1p)\n",
    "df['distance_copper_xdsl_log1p'] = df['distance_copper_xdsl'].apply(log1p)\n",
    "df['distance_fiber_log1p'] = df['distance_fiber'].apply(log1p)\n",
    "df['distance_radio_log1p'] = df['distance_radio'].apply(log1p)\n",
    "\n",
    "df.drop(\n",
    "    columns=[\n",
    "        'distance_copper_nonxdsl', \n",
    "        'distance_copper_xdsl', \n",
    "        'distance_fiber', \n",
    "        'distance_radio'\n",
    "    ], \n",
    "    inplace=True\n",
    ")"
   ]
  },
  {
   "cell_type": "markdown",
   "metadata": {},
   "source": [
    "Spójrzemy teraz jak wyglądają nasze dane, któe wykorzystamy do modelu."
   ]
  },
  {
   "cell_type": "code",
   "execution_count": 62,
   "metadata": {},
   "outputs": [
    {
     "data": {
      "text/html": [
       "<div>\n",
       "<style scoped>\n",
       "    .dataframe tbody tr th:only-of-type {\n",
       "        vertical-align: middle;\n",
       "    }\n",
       "\n",
       "    .dataframe tbody tr th {\n",
       "        vertical-align: top;\n",
       "    }\n",
       "\n",
       "    .dataframe thead th {\n",
       "        text-align: right;\n",
       "    }\n",
       "</style>\n",
       "<table border=\"1\" class=\"dataframe\">\n",
       "  <thead>\n",
       "    <tr style=\"text-align: right;\">\n",
       "      <th></th>\n",
       "      <th>przepustowosc</th>\n",
       "      <th>no_of_neighbours</th>\n",
       "      <th>building_area</th>\n",
       "      <th>delta_z</th>\n",
       "      <th>median_z</th>\n",
       "      <th>fiber_count</th>\n",
       "      <th>copper_nonxdsl_count</th>\n",
       "      <th>radio_count</th>\n",
       "      <th>copper_xdsl_count</th>\n",
       "      <th>distance_copper_nonxdsl_log1p</th>\n",
       "      <th>distance_copper_xdsl_log1p</th>\n",
       "      <th>distance_fiber_log1p</th>\n",
       "      <th>distance_radio_log1p</th>\n",
       "    </tr>\n",
       "  </thead>\n",
       "  <tbody>\n",
       "    <tr>\n",
       "      <th>0</th>\n",
       "      <td>40.0</td>\n",
       "      <td>127</td>\n",
       "      <td>132.74060</td>\n",
       "      <td>135.619995</td>\n",
       "      <td>205.910004</td>\n",
       "      <td>131</td>\n",
       "      <td>459</td>\n",
       "      <td>37</td>\n",
       "      <td>12</td>\n",
       "      <td>7.819632</td>\n",
       "      <td>7.668706</td>\n",
       "      <td>7.668706</td>\n",
       "      <td>4.517650</td>\n",
       "    </tr>\n",
       "    <tr>\n",
       "      <th>1</th>\n",
       "      <td>8.0</td>\n",
       "      <td>293</td>\n",
       "      <td>144.79525</td>\n",
       "      <td>33.070000</td>\n",
       "      <td>100.870003</td>\n",
       "      <td>67</td>\n",
       "      <td>151</td>\n",
       "      <td>58</td>\n",
       "      <td>33</td>\n",
       "      <td>6.425728</td>\n",
       "      <td>6.894133</td>\n",
       "      <td>6.633647</td>\n",
       "      <td>6.310954</td>\n",
       "    </tr>\n",
       "    <tr>\n",
       "      <th>2</th>\n",
       "      <td>60.0</td>\n",
       "      <td>166</td>\n",
       "      <td>87.74550</td>\n",
       "      <td>144.829987</td>\n",
       "      <td>237.369995</td>\n",
       "      <td>2</td>\n",
       "      <td>2</td>\n",
       "      <td>11</td>\n",
       "      <td>2</td>\n",
       "      <td>8.030618</td>\n",
       "      <td>5.968017</td>\n",
       "      <td>5.968017</td>\n",
       "      <td>5.851973</td>\n",
       "    </tr>\n",
       "    <tr>\n",
       "      <th>3</th>\n",
       "      <td>60.0</td>\n",
       "      <td>231</td>\n",
       "      <td>114.72625</td>\n",
       "      <td>239.630005</td>\n",
       "      <td>210.169998</td>\n",
       "      <td>9</td>\n",
       "      <td>50</td>\n",
       "      <td>78</td>\n",
       "      <td>25</td>\n",
       "      <td>6.238637</td>\n",
       "      <td>6.260709</td>\n",
       "      <td>6.279572</td>\n",
       "      <td>6.190110</td>\n",
       "    </tr>\n",
       "    <tr>\n",
       "      <th>4</th>\n",
       "      <td>30.0</td>\n",
       "      <td>384</td>\n",
       "      <td>661.19260</td>\n",
       "      <td>466.490021</td>\n",
       "      <td>380.785004</td>\n",
       "      <td>293</td>\n",
       "      <td>211</td>\n",
       "      <td>79</td>\n",
       "      <td>46</td>\n",
       "      <td>4.843715</td>\n",
       "      <td>5.142131</td>\n",
       "      <td>4.631033</td>\n",
       "      <td>4.896944</td>\n",
       "    </tr>\n",
       "  </tbody>\n",
       "</table>\n",
       "</div>"
      ],
      "text/plain": [
       "   przepustowosc  no_of_neighbours  building_area     delta_z    median_z  \\\n",
       "0           40.0               127      132.74060  135.619995  205.910004   \n",
       "1            8.0               293      144.79525   33.070000  100.870003   \n",
       "2           60.0               166       87.74550  144.829987  237.369995   \n",
       "3           60.0               231      114.72625  239.630005  210.169998   \n",
       "4           30.0               384      661.19260  466.490021  380.785004   \n",
       "\n",
       "   fiber_count  copper_nonxdsl_count  radio_count  copper_xdsl_count  \\\n",
       "0          131                   459           37                 12   \n",
       "1           67                   151           58                 33   \n",
       "2            2                     2           11                  2   \n",
       "3            9                    50           78                 25   \n",
       "4          293                   211           79                 46   \n",
       "\n",
       "   distance_copper_nonxdsl_log1p  distance_copper_xdsl_log1p  \\\n",
       "0                       7.819632                    7.668706   \n",
       "1                       6.425728                    6.894133   \n",
       "2                       8.030618                    5.968017   \n",
       "3                       6.238637                    6.260709   \n",
       "4                       4.843715                    5.142131   \n",
       "\n",
       "   distance_fiber_log1p  distance_radio_log1p  \n",
       "0              7.668706              4.517650  \n",
       "1              6.633647              6.310954  \n",
       "2              5.968017              5.851973  \n",
       "3              6.279572              6.190110  \n",
       "4              4.631033              4.896944  "
      ]
     },
     "execution_count": 62,
     "metadata": {},
     "output_type": "execute_result"
    }
   ],
   "source": [
    "df.head()"
   ]
  },
  {
   "cell_type": "code",
   "execution_count": 63,
   "metadata": {},
   "outputs": [
    {
     "data": {
      "text/plain": [
       "(5352885, 13)"
      ]
     },
     "execution_count": 63,
     "metadata": {},
     "output_type": "execute_result"
    }
   ],
   "source": [
    "df.shape"
   ]
  },
  {
   "cell_type": "code",
   "execution_count": 64,
   "metadata": {},
   "outputs": [
    {
     "data": {
      "text/html": [
       "<div>\n",
       "<style scoped>\n",
       "    .dataframe tbody tr th:only-of-type {\n",
       "        vertical-align: middle;\n",
       "    }\n",
       "\n",
       "    .dataframe tbody tr th {\n",
       "        vertical-align: top;\n",
       "    }\n",
       "\n",
       "    .dataframe thead th {\n",
       "        text-align: right;\n",
       "    }\n",
       "</style>\n",
       "<table border=\"1\" class=\"dataframe\">\n",
       "  <thead>\n",
       "    <tr style=\"text-align: right;\">\n",
       "      <th></th>\n",
       "      <th>przepustowosc</th>\n",
       "      <th>no_of_neighbours</th>\n",
       "      <th>building_area</th>\n",
       "      <th>delta_z</th>\n",
       "      <th>median_z</th>\n",
       "      <th>fiber_count</th>\n",
       "      <th>copper_nonxdsl_count</th>\n",
       "      <th>radio_count</th>\n",
       "      <th>copper_xdsl_count</th>\n",
       "      <th>distance_copper_nonxdsl_log1p</th>\n",
       "      <th>distance_copper_xdsl_log1p</th>\n",
       "      <th>distance_fiber_log1p</th>\n",
       "      <th>distance_radio_log1p</th>\n",
       "    </tr>\n",
       "  </thead>\n",
       "  <tbody>\n",
       "    <tr>\n",
       "      <th>count</th>\n",
       "      <td>5352885.00</td>\n",
       "      <td>5352885.00</td>\n",
       "      <td>5352885.00</td>\n",
       "      <td>5352885.00</td>\n",
       "      <td>5352885.00</td>\n",
       "      <td>5352885.00</td>\n",
       "      <td>5352885.00</td>\n",
       "      <td>5352885.00</td>\n",
       "      <td>5352885.00</td>\n",
       "      <td>5352885.00</td>\n",
       "      <td>5352885.00</td>\n",
       "      <td>5352885.00</td>\n",
       "      <td>5352885.00</td>\n",
       "    </tr>\n",
       "    <tr>\n",
       "      <th>mean</th>\n",
       "      <td>267.22</td>\n",
       "      <td>214.11</td>\n",
       "      <td>167.07</td>\n",
       "      <td>155.17</td>\n",
       "      <td>186.71</td>\n",
       "      <td>137.26</td>\n",
       "      <td>262.78</td>\n",
       "      <td>75.66</td>\n",
       "      <td>21.52</td>\n",
       "      <td>6.61</td>\n",
       "      <td>6.50</td>\n",
       "      <td>6.54</td>\n",
       "      <td>6.00</td>\n",
       "    </tr>\n",
       "    <tr>\n",
       "      <th>std</th>\n",
       "      <td>458.14</td>\n",
       "      <td>188.48</td>\n",
       "      <td>433.59</td>\n",
       "      <td>179.76</td>\n",
       "      <td>118.65</td>\n",
       "      <td>297.85</td>\n",
       "      <td>663.69</td>\n",
       "      <td>118.27</td>\n",
       "      <td>34.00</td>\n",
       "      <td>1.67</td>\n",
       "      <td>1.05</td>\n",
       "      <td>1.53</td>\n",
       "      <td>1.14</td>\n",
       "    </tr>\n",
       "    <tr>\n",
       "      <th>min</th>\n",
       "      <td>1.00</td>\n",
       "      <td>0.00</td>\n",
       "      <td>5.35</td>\n",
       "      <td>6.04</td>\n",
       "      <td>-0.44</td>\n",
       "      <td>0.00</td>\n",
       "      <td>0.00</td>\n",
       "      <td>0.00</td>\n",
       "      <td>0.00</td>\n",
       "      <td>0.00</td>\n",
       "      <td>0.00</td>\n",
       "      <td>0.00</td>\n",
       "      <td>0.00</td>\n",
       "    </tr>\n",
       "    <tr>\n",
       "      <th>25%</th>\n",
       "      <td>10.00</td>\n",
       "      <td>61.00</td>\n",
       "      <td>88.25</td>\n",
       "      <td>66.75</td>\n",
       "      <td>103.92</td>\n",
       "      <td>3.00</td>\n",
       "      <td>2.00</td>\n",
       "      <td>15.00</td>\n",
       "      <td>4.00</td>\n",
       "      <td>5.48</td>\n",
       "      <td>5.81</td>\n",
       "      <td>5.54</td>\n",
       "      <td>5.32</td>\n",
       "    </tr>\n",
       "    <tr>\n",
       "      <th>50%</th>\n",
       "      <td>40.00</td>\n",
       "      <td>155.00</td>\n",
       "      <td>111.17</td>\n",
       "      <td>94.26</td>\n",
       "      <td>163.88</td>\n",
       "      <td>17.00</td>\n",
       "      <td>23.00</td>\n",
       "      <td>35.00</td>\n",
       "      <td>9.00</td>\n",
       "      <td>6.66</td>\n",
       "      <td>6.51</td>\n",
       "      <td>6.58</td>\n",
       "      <td>5.99</td>\n",
       "    </tr>\n",
       "    <tr>\n",
       "      <th>75%</th>\n",
       "      <td>300.00</td>\n",
       "      <td>326.00</td>\n",
       "      <td>145.87</td>\n",
       "      <td>157.83</td>\n",
       "      <td>243.94</td>\n",
       "      <td>115.00</td>\n",
       "      <td>175.00</td>\n",
       "      <td>81.00</td>\n",
       "      <td>24.00</td>\n",
       "      <td>7.98</td>\n",
       "      <td>7.28</td>\n",
       "      <td>7.75</td>\n",
       "      <td>6.72</td>\n",
       "    </tr>\n",
       "    <tr>\n",
       "      <th>max</th>\n",
       "      <td>2500.00</td>\n",
       "      <td>1286.00</td>\n",
       "      <td>151230.75</td>\n",
       "      <td>1596.34</td>\n",
       "      <td>1209.33</td>\n",
       "      <td>3118.00</td>\n",
       "      <td>6340.00</td>\n",
       "      <td>1445.00</td>\n",
       "      <td>360.00</td>\n",
       "      <td>9.90</td>\n",
       "      <td>9.41</td>\n",
       "      <td>9.90</td>\n",
       "      <td>9.25</td>\n",
       "    </tr>\n",
       "  </tbody>\n",
       "</table>\n",
       "</div>"
      ],
      "text/plain": [
       "      przepustowosc no_of_neighbours building_area     delta_z    median_z  \\\n",
       "count    5352885.00       5352885.00    5352885.00  5352885.00  5352885.00   \n",
       "mean         267.22           214.11        167.07      155.17      186.71   \n",
       "std          458.14           188.48        433.59      179.76      118.65   \n",
       "min            1.00             0.00          5.35        6.04       -0.44   \n",
       "25%           10.00            61.00         88.25       66.75      103.92   \n",
       "50%           40.00           155.00        111.17       94.26      163.88   \n",
       "75%          300.00           326.00        145.87      157.83      243.94   \n",
       "max         2500.00          1286.00     151230.75     1596.34     1209.33   \n",
       "\n",
       "      fiber_count copper_nonxdsl_count radio_count copper_xdsl_count  \\\n",
       "count  5352885.00           5352885.00  5352885.00        5352885.00   \n",
       "mean       137.26               262.78       75.66             21.52   \n",
       "std        297.85               663.69      118.27             34.00   \n",
       "min          0.00                 0.00        0.00              0.00   \n",
       "25%          3.00                 2.00       15.00              4.00   \n",
       "50%         17.00                23.00       35.00              9.00   \n",
       "75%        115.00               175.00       81.00             24.00   \n",
       "max       3118.00              6340.00     1445.00            360.00   \n",
       "\n",
       "      distance_copper_nonxdsl_log1p distance_copper_xdsl_log1p  \\\n",
       "count                    5352885.00                 5352885.00   \n",
       "mean                           6.61                       6.50   \n",
       "std                            1.67                       1.05   \n",
       "min                            0.00                       0.00   \n",
       "25%                            5.48                       5.81   \n",
       "50%                            6.66                       6.51   \n",
       "75%                            7.98                       7.28   \n",
       "max                            9.90                       9.41   \n",
       "\n",
       "      distance_fiber_log1p distance_radio_log1p  \n",
       "count           5352885.00           5352885.00  \n",
       "mean                  6.54                 6.00  \n",
       "std                   1.53                 1.14  \n",
       "min                   0.00                 0.00  \n",
       "25%                   5.54                 5.32  \n",
       "50%                   6.58                 5.99  \n",
       "75%                   7.75                 6.72  \n",
       "max                   9.90                 9.25  "
      ]
     },
     "execution_count": 64,
     "metadata": {},
     "output_type": "execute_result"
    }
   ],
   "source": [
    "df.describe().apply(lambda s: s.apply(lambda x: format(x, '.2f')))"
   ]
  },
  {
   "cell_type": "markdown",
   "metadata": {},
   "source": [
    "## Model uczenia maszynowego\n",
    "\n",
    "..."
   ]
  },
  {
   "cell_type": "code",
   "execution_count": null,
   "metadata": {},
   "outputs": [],
   "source": [
    "from sklearn.model_selection import train_test_split\n",
    "\n",
    "x = df[x for x in df.columns if x != 'przepustowosc']\n",
    "y = df['przepustowosc']\n",
    "\n",
    "train_x, test_x, train_y, test_y = train_test_split(x, y, train_split=0.9, test_split=0.1)"
   ]
  },
  {
   "cell_type": "markdown",
   "metadata": {},
   "source": [
    "..."
   ]
  },
  {
   "cell_type": "code",
   "execution_count": null,
   "metadata": {},
   "outputs": [],
   "source": [
    "from sklearn.metrics import mean_squared_error, r2_score"
   ]
  },
  {
   "cell_type": "markdown",
   "metadata": {},
   "source": [
    "..."
   ]
  },
  {
   "cell_type": "code",
   "execution_count": null,
   "metadata": {},
   "outputs": [],
   "source": [
    "from sklearn.linear_model import LinearRegression, SGDRegressor\n",
    "from sklearn.svm import LinearSVR\n",
    "# possibly also try:\n",
    "# sklearn.tree.DecisionTreeRegressor¶ \n",
    "# or sklearn.neighbors.KNeighborsRegressor¶ \n",
    "# or sklearn.ensemble.RandomForestRegressor ?\n",
    "\n",
    "LR = LinearRegression()\n",
    "SGDR = SGDRegressor()\n",
    "LSVR = LinearSVR()"
   ]
  },
  {
   "cell_type": "markdown",
   "metadata": {},
   "source": [
    "...\n",
    "\n",
    "komenda %%time pokaże jak długo kod z danej komórki się wykonywał"
   ]
  },
  {
   "cell_type": "code",
   "execution_count": null,
   "metadata": {},
   "outputs": [],
   "source": [
    "%%time\n",
    "LR.fit(train_x, train_y, n_jobs=-2)"
   ]
  },
  {
   "cell_type": "code",
   "execution_count": null,
   "metadata": {},
   "outputs": [],
   "source": [
    "%%time\n",
    "SGDR.fit(train_x, train_y)"
   ]
  },
  {
   "cell_type": "code",
   "execution_count": null,
   "metadata": {},
   "outputs": [],
   "source": [
    "%%time\n",
    "LSVR.fit(train_x, train_y)"
   ]
  }
 ],
 "metadata": {
  "kernelspec": {
   "display_name": "Python 3",
   "language": "python",
   "name": "python3"
  },
  "language_info": {
   "codemirror_mode": {
    "name": "ipython",
    "version": 3
   },
   "file_extension": ".py",
   "mimetype": "text/x-python",
   "name": "python",
   "nbconvert_exporter": "python",
   "pygments_lexer": "ipython3",
   "version": "3.8.1"
  }
 },
 "nbformat": 4,
 "nbformat_minor": 4
}
