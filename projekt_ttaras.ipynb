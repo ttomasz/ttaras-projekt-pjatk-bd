{
 "cells": [
  {
   "cell_type": "markdown",
   "metadata": {},
   "source": [
    "# Przewidywanie dostępności stacjonarnego internetu szerokopasmowego na podstawie lokalizacji\n",
    "\n",
    "autor: Tomasz Taraś\n",
    "\n",
    "## Spis treści\n",
    "* Wstęp\n",
    "* Zbiory danych wykorzystane w pracy\n",
    "    * Dane o infrastrukturze szerokopasmowej i zasięgach (SIIS)\n",
    "    * Dane o adresach z Państwowego Rejestru Granic (PRG)\n",
    "    * Modele 3D budynków (LOD1)\n",
    "    * Numeryczny Model Terenu (NMT)\n",
    "    * Dane o nazwach urzędowych jednostek administracyjnych, miejscowości i ulic (rejestr TERYT)\n",
    "* Przygotowanie danych o infrastrukturze szerokopasmowej\n",
    "    * Zasięgi\n",
    "    * Węzły i interfejsy\n",
    "* Przygotowanie danych adresowych wraz z potrzebnymi dla modelu informacjami o charakterystyce przestrzennej danego punktu\n",
    "    * Parsowanie i czyszczenie danych adresowych z Państwowego Rejestru Granic (PRG)\n",
    "    * Przygotowanie obrysów budynków na podstawie modeli 3D (LOD1)\n",
    "    * Przygotowanie danych z Numerycznego Modelu Terenu\n",
    "    * Połączenie danych w spójny słownik adresów wraz z dodatkowymi informacjami\n",
    "* Przygotowanie kompletnego zbioru do uczenia modelu\n",
    "* Model uczenia maszynowego\n",
    "* Podsumowanie\n",
    "\n",
    "## Wstęp\n",
    "\n",
    "Celem pracy jest przygotowanie modelu, który determinował będzie dostępność internetu na podstawie lokalizacji przestrzennej.\n",
    "\n",
    "Publicznie dostępne są dane na temat tego na jakie (prędkość, technologia) połączenie do internetu możemy liczyć w danej lokalizacji. Dane te zbierane są corocznie w pierwszym kwartale roku według stanu na 31 grudnia roku poprzedniego. Zbiera je Urząd Komunikacji Elektronicznej od przedsiębiorców telekomunikacyjnych. \n",
    "\n",
    "Dane te jednak zbierane są \"do adresu\" czyli jako lokalizacja jest adres budynku lub jego współrzędne, a rejestry adresowe w Polsce są średniej jakości z różnych względów. Przedsiębiorca nie ma możliwości podawania zasięgu swojej sieci w postaci np. poligonów określających przestrzennie skrawek terenu gdzie dany operator może świadczyć usługi. Dodatkowo rozporządzenie określające jakiego rodzaju dane przedsiębiorcy mają podawać w sprawozdaniu do Urzędu jest dość skomplikowane i budzi sporo wątpliwości wśród sprawozdających się.\n",
    "\n",
    "Te dwa czynniki powodują, że jakość danych nie jest idealna. Model stworzony w ramach tej pracy mogłby służyć jako imputer uzupełniający brakujące dane przy innych analizach lub do wykrywania anomalii, czyli obszarów, które dane wskazują jako pozbawione dostępu do szybkiego internetu, które według modelu powinny być w zasięgu sieci lub odwrotnie.\n",
    "\n",
    "Praca skupi się głównie na zebraniu i przygotowaniu danych co jest tutaj głównym wyzwaniem. Część danych, które mogłyby być przydatne do tego zadania jest niedostępna lub płatna i trzeba kreatywnie wykorzystać te zbiory, które są dostępne. Dodatkowym wyzwaniem, będzie rozmiar wykorzystywanych danych jako, że model do wytrenowania użyje danych z całej Polski, która ma ponad 7,4 mln adresów, ponad 14 mln budynków i ponad 311 tys. km2 powierzchni.\n",
    "\n",
    "Dostawcy internetu naturalnie najchętniej inwestują tam gdzie koszt jest niski. Im mniej infrastruktury trzeba dobudować dla klienta tym bardziej się to opłaca, dlatego miejsca o dużej gęstości zabudowy i budynki wielorodzinne mają dużo większą szansę na podłączenie światłowodu lub kablówki (lub ethernet), które zapewniają największe przepustowości. Dodatkowo dla technologii xDSL dostępna przepustowość jest zależna od odległości od węzła dlatego np Orange w jednym miejscu na kablu telefonicznym oferuje 10 mbit/s, a w innym również na kablu telefonicznym 80 mbit/s.\n",
    "\n",
    "Dataset, który zostanie przygotowany będzie zawierał informacje o zabudowie w postaci liczby sąsiadów oraz wielkości najbliższego budynku oraz odległość do najbliżsego węzła telekomunikacyjnego i jak dużo tych węzłów jest w okolicy. Dodatkowo będzie zawierał informacje o ukształtowaniu terenu wyrażonych jako wysokość nad poziomem morza i zmiana wysokości między najniższym punktem pomiarowym, a najwyższym w okolicy.\n",
    "\n",
    "## Zbiory danych wykorzystane w pracy\n",
    "\n",
    "W pracy wykorzystano następujące zbiory danych:\n",
    "\n",
    "#### Dane o infrastrukturze szerokopasmowej i zasięgach (SIIS)\n",
    "__podmiot__: Urząd Komunikacji Elektronicznej  \n",
    "__link__: [dane.gov.pl](https://dane.gov.pl/dataset/588,system-informacyjny-o-infrastrukturze-szerokopasmowej-api?page=1&per_page=50&sort=-title)  \n",
    "__rozmiar__: spakowane ok. 1GB, rozpakowane pliki CSV ok. 8GB  \n",
    "__opis__: Zbiór zawiera dane o infrastrukturze szerokopasmowej oraz o \"zasięgach\", czyli dostępności usługi dostępu do internetu. \n",
    "\n",
    "#### Dane o adresach z Państwowego Rejestru Granic (PRG)\n",
    "__podmiot__: Główny Urząd Geodezji i Kartografii  \n",
    "__link__: [gugik.gov.pl](http://www.gugik.gov.pl/pzgik/dane-bez-oplat/dane-z-panstwowego-rejestru-granic-i-powierzchni-jednostek-podzialow-terytorialnych-kraju-prg)  \n",
    "__rozmiar__: spakowane ok. 1GB, rozpakowane pliki XML ok. 18GB  \n",
    "__opis__: Zbiór zawiera listę adresów dla całęgo kraju zgodnie z tym co przekazane zostało do urzędu przez samorządy (gminy).\n",
    "\n",
    "#### Modele 3D budynków (LOD1)\n",
    "__podmiot__: Główny Urząd Geodezji i Kartografii  \n",
    "__link__: [linki w geoportalu krajowym](https://mapy.geoportal.gov.pl/imap/Imgp_2.html?locale=pl&gui=new&sessionID=4857706), [opis](https://integracja.gugik.gov.pl/Budynki3D/budynki3d_opis.pdf)  \n",
    "__rozmiar__: spakowane ok. 2,6 GB, rozpakowane pliki XML ok. 54 GB  \n",
    "__opis__: Zbiór zawiera modele 3D budynków o dokładności LOD1 dla całego kraju. Modele te zostały wykorzystane do utworzenia warstwy obrysów budynków 2D. To pozwoliło policzyć przybliżoną powierzchnię budynku dla adresu.  \n",
    "\n",
    "Informacje wymagane do podania zgodnie z licenją:  \n",
    "* Źródło: www.geoportal.gov.pl\n",
    "* Dysponent: Główny Geodeta Kraju\n",
    "* Data pobrania zbioru: 2019-11-10\n",
    "* Zakres przetworzenia: Geometria budynków została spłaszczona do 2D oraz wyekstrahowana została część poligonowa wykorzystana dalej jako obrys budynku.\n",
    "* Informacja: Modele 3D budynków nie stanowią rejestru publicznego ani elementu treści takiego rejestru. W konsekwencji czego mają wartość jedynie poglądową. Niezgodność Modeli 3D budynków ze stanem faktycznym lub prawnym, tak w postaci nieprzetworzonej jak i po ich ewentualnym przetworzeniu w procesie ponownego wykorzystania, nie może stanowić podstawy odpowiedzialności Głównego Geodety Kraju z jakiegokolwiek tytułu wobec jakiegokolwiek podmiotu.\n",
    "* Licencja: https://integracja.gugik.gov.pl/Budynki3D/GUGiK_Licencja_na_Budynki3D.pdf\n",
    "* [opis](https://integracja.gugik.gov.pl/Budynki3D/budynki3d_opis.pdf)\n",
    "\n",
    "#### Numeryczny Model Terenu (NMT)\n",
    "__podmiot__: Główny Urząd Geodezji i Kartografii  \n",
    "__link__: [gugik.gov.pl](http://www.gugik.gov.pl/pzgik/dane-bez-oplat/dane-dotyczace-numerycznego-modelu-terenu-o-interwale-siatki-co-najmniej-100-m-nmt_100)  \n",
    "__rozmiar__: spakowane ok. 122 MB, rozpakowane pliki txt ok. 826 MB  \n",
    "__opis__: Zbiór zawiera punkty pomiarowe (co 100m) wysokości terenu nad poziomem morza. Zostanie wykorzystany do określenia ukształtowania terenu wokół punktu.\n",
    "\n",
    "#### Dane o nazwach urzędowych jednostek administracyjnych, miejscowości i ulic (rejestr TERYT)\n",
    "__podmiot__: Główny Urząd Statystyczny  \n",
    "__link__: [eteryt.stat.gov.pl](http://eteryt.stat.gov.pl/eTeryt/rejestr_teryt/udostepnianie_danych/baza_teryt/uzytkownicy_indywidualni/pobieranie/pliki_pelne.aspx)  \n",
    "__rozmiar__: spakowane ok. 7MB, rozpakowane pliki CSV ok. 20MB  \n",
    "__opis__: Zbiór zawiera oficjalną listę nazw jednostek administracyjnych, miejscowości i ulic kompilowaną przez GUS na podstawie rozporządzeń (jednostki, miejscowości) oraz uchwał samorządowych (ulice). Zbiór wykorzystany do walidacj danych adresowych PRG.\n",
    "\n",
    "Wszystkie zbiory poza budynkami 3D należą do danych publicznych udostępnianych przez urzędy na podstawie odpowiednich przepisów. Budynki 3D udostępniane są na podstawie licencji podanej przy opisie zbioru.\n",
    "\n",
    "## Przygotowanie danych o infrastrukturze szerokopasmowej\n",
    "\n",
    "Po pobraniu archiwum z najnowszymi dostępnymi danymi ze strony: i rozpakowaniu go, ładujemy biblioteki i ścieżki do plików z danymi, żeby móc wstępnie przetowrzyć dane w Pythonie.\n",
    "\n",
    "Archiwum zawiera kilka plików CSV:\n",
    "\n",
    "* networkendpoint_view.csv - plik zawiera tzw. \"zakończenia sieci\" w praktyce oznacza to \"zasięg\" sieci w postaci listy adresów lub współrzędnych z informacją w jakiej technologii i o jakiej maksymalnej prędkości dostawca internetu może świadczyć usługę w danym budynku;\n",
    "\n",
    "* users_entity_view.csv - plik zawiera listę przedsiębiorców telekomunikacyjnych z id, służy głównie jako lookup table dla pozostałych plików, jeżeli interesuje nas który przedsiębiorca świadczy usługę lub posiada dany kawałek infrastruktury;\n",
    "\n",
    "* infrastructure_node_view.csv - plik zawiera informacje o węzłach telekomunikacyjnych, są to adresy lub współrzędne miejsc, gdzie jest aktywna infrastruktura telekomunikacyjna taka jak routery, switche itp;\n",
    "\n",
    "* infrastructure_nodeinterface_view.csv - plik zawiera informacje o interfejsach w węzłach, czyli sprzęt jakich technologii znajduje się w węźle;\n",
    "\n",
    "* infrastructure_noderangeradio_view.csv - plik zawiera informacje o zasięgach anten radiowych, na cele tej analizy nie będzie to nam potrzebne."
   ]
  },
  {
   "cell_type": "code",
   "execution_count": 1,
   "metadata": {},
   "outputs": [],
   "source": [
    "import os\n",
    "import pandas as pd\n",
    "import numpy as np\n",
    "\n",
    "folder = r'C:\\Users\\ttaras\\jupyter\\2018'\n",
    "path_nodes = os.path.join(folder, 'infrastructure_node_view.csv')\n",
    "path_node_interfaces = os.path.join(folder, 'infrastructure_nodeinterface_view.csv')\n",
    "path_node_range_radio = os.path.join(folder, 'infrastructure_noderangeradio_view.csv')\n",
    "path_companies = os.path.join(folder, 'users_entity_view.csv')\n",
    "path_endpoints = os.path.join(folder, 'networkendpoint_view.csv')"
   ]
  },
  {
   "cell_type": "markdown",
   "metadata": {},
   "source": [
    "Dalej przygotujemy oddzielnie dane dla zasięgów oraz dane dla węzłów.\n",
    "\n",
    "### Zasięgi\n",
    "\n",
    "Ładujemy dane o zasięgach z pliku CSV. Pomijamy od razu część kolumn i nadajemy odpowiednie typy."
   ]
  },
  {
   "cell_type": "code",
   "execution_count": 2,
   "metadata": {},
   "outputs": [],
   "source": [
    "endpoints_df = pd.read_csv(\n",
    "    path_endpoints, \n",
    "    usecols=[\n",
    "        'municipality_code_value',\n",
    "        'city_code_value',\n",
    "        'city_name',\n",
    "        'street_code_value',\n",
    "        'street_name',\n",
    "        'house_no',\n",
    "        'latitude',\n",
    "        'longitude',\n",
    "        'medium',\n",
    "        'stationary_bandwidth_name'\n",
    "    ],\n",
    "    dtype={\n",
    "        'municipality_code_value': 'category',\n",
    "        'city_code_value': 'category',\n",
    "        'city_name': str,\n",
    "        'street_code_value': 'category',\n",
    "        'street_name': str,\n",
    "        'house_no': str,\n",
    "        'latitude': np.float64,\n",
    "        'longitude': np.float64,\n",
    "        'medium': 'category',\n",
    "        'stationary_bandwidth_name': np.float32\n",
    "    }\n",
    ")"
   ]
  },
  {
   "cell_type": "markdown",
   "metadata": {},
   "source": [
    "Tak wygląda DataFrame po załadowaniu"
   ]
  },
  {
   "cell_type": "code",
   "execution_count": 3,
   "metadata": {},
   "outputs": [
    {
     "data": {
      "text/html": [
       "<div>\n",
       "<style scoped>\n",
       "    .dataframe tbody tr th:only-of-type {\n",
       "        vertical-align: middle;\n",
       "    }\n",
       "\n",
       "    .dataframe tbody tr th {\n",
       "        vertical-align: top;\n",
       "    }\n",
       "\n",
       "    .dataframe thead th {\n",
       "        text-align: right;\n",
       "    }\n",
       "</style>\n",
       "<table border=\"1\" class=\"dataframe\">\n",
       "  <thead>\n",
       "    <tr style=\"text-align: right;\">\n",
       "      <th></th>\n",
       "      <th>municipality_code_value</th>\n",
       "      <th>city_code_value</th>\n",
       "      <th>city_name</th>\n",
       "      <th>street_code_value</th>\n",
       "      <th>street_name</th>\n",
       "      <th>house_no</th>\n",
       "      <th>latitude</th>\n",
       "      <th>longitude</th>\n",
       "      <th>medium</th>\n",
       "      <th>stationary_bandwidth_name</th>\n",
       "    </tr>\n",
       "  </thead>\n",
       "  <tbody>\n",
       "    <tr>\n",
       "      <th>0</th>\n",
       "      <td>1418044</td>\n",
       "      <td>0921438</td>\n",
       "      <td>Piaseczno</td>\n",
       "      <td>09340</td>\n",
       "      <td>ul. Kordeckiego</td>\n",
       "      <td>4</td>\n",
       "      <td>52.057000</td>\n",
       "      <td>21.002062</td>\n",
       "      <td>radiowe</td>\n",
       "      <td>0.0</td>\n",
       "    </tr>\n",
       "    <tr>\n",
       "      <th>1</th>\n",
       "      <td>1418044</td>\n",
       "      <td>0921438</td>\n",
       "      <td>Piaseczno</td>\n",
       "      <td>10036</td>\n",
       "      <td>ul. Krupówki</td>\n",
       "      <td>7</td>\n",
       "      <td>52.068033</td>\n",
       "      <td>21.033234</td>\n",
       "      <td>radiowe</td>\n",
       "      <td>0.0</td>\n",
       "    </tr>\n",
       "    <tr>\n",
       "      <th>2</th>\n",
       "      <td>1418044</td>\n",
       "      <td>0921438</td>\n",
       "      <td>Piaseczno</td>\n",
       "      <td>11205</td>\n",
       "      <td>ul. 11 Listopada</td>\n",
       "      <td>83</td>\n",
       "      <td>52.050284</td>\n",
       "      <td>20.990206</td>\n",
       "      <td>radiowe</td>\n",
       "      <td>0.0</td>\n",
       "    </tr>\n",
       "    <tr>\n",
       "      <th>3</th>\n",
       "      <td>1418044</td>\n",
       "      <td>0921438</td>\n",
       "      <td>Piaseczno</td>\n",
       "      <td>14907</td>\n",
       "      <td>ul. Okrężna</td>\n",
       "      <td>18</td>\n",
       "      <td>52.062186</td>\n",
       "      <td>20.982096</td>\n",
       "      <td>radiowe</td>\n",
       "      <td>0.0</td>\n",
       "    </tr>\n",
       "    <tr>\n",
       "      <th>4</th>\n",
       "      <td>1418044</td>\n",
       "      <td>0921438</td>\n",
       "      <td>Piaseczno</td>\n",
       "      <td>15129</td>\n",
       "      <td>ul. Orężna</td>\n",
       "      <td>7</td>\n",
       "      <td>52.070958</td>\n",
       "      <td>21.007444</td>\n",
       "      <td>radiowe</td>\n",
       "      <td>0.0</td>\n",
       "    </tr>\n",
       "  </tbody>\n",
       "</table>\n",
       "</div>"
      ],
      "text/plain": [
       "  municipality_code_value city_code_value  city_name street_code_value  \\\n",
       "0                 1418044         0921438  Piaseczno             09340   \n",
       "1                 1418044         0921438  Piaseczno             10036   \n",
       "2                 1418044         0921438  Piaseczno             11205   \n",
       "3                 1418044         0921438  Piaseczno             14907   \n",
       "4                 1418044         0921438  Piaseczno             15129   \n",
       "\n",
       "        street_name house_no   latitude  longitude   medium  \\\n",
       "0   ul. Kordeckiego        4  52.057000  21.002062  radiowe   \n",
       "1      ul. Krupówki        7  52.068033  21.033234  radiowe   \n",
       "2  ul. 11 Listopada       83  52.050284  20.990206  radiowe   \n",
       "3       ul. Okrężna       18  52.062186  20.982096  radiowe   \n",
       "4        ul. Orężna        7  52.070958  21.007444  radiowe   \n",
       "\n",
       "   stationary_bandwidth_name  \n",
       "0                        0.0  \n",
       "1                        0.0  \n",
       "2                        0.0  \n",
       "3                        0.0  \n",
       "4                        0.0  "
      ]
     },
     "execution_count": 3,
     "metadata": {},
     "output_type": "execute_result"
    }
   ],
   "source": [
    "endpoints_df.head()"
   ]
  },
  {
   "cell_type": "markdown",
   "metadata": {},
   "source": [
    "Plik zawiera informacje o zasięgach stacjonarnych oraz mobilnych (LTE etc.). Zostawimy sobie tylko interesujące nas zasięgi stacjonarne."
   ]
  },
  {
   "cell_type": "code",
   "execution_count": 4,
   "metadata": {},
   "outputs": [
    {
     "name": "stdout",
     "output_type": "stream",
     "text": [
      "Ogólna liczba wierszy w pliku CSV: 44123969\n",
      "Liczba wierszy po odfiltrowaniu zasięgów mobilnych: 11011310\n"
     ]
    }
   ],
   "source": [
    "total_row_count = len(endpoints_df.index)\n",
    "endpoints_df = endpoints_df[endpoints_df['stationary_bandwidth_name'] > 0]\n",
    "filtered_row_count = len(endpoints_df.index)\n",
    "\n",
    "print('Ogólna liczba wierszy w pliku CSV:', total_row_count)\n",
    "print('Liczba wierszy po odfiltrowaniu zasięgów mobilnych:', filtered_row_count)"
   ]
  },
  {
   "cell_type": "markdown",
   "metadata": {},
   "source": [
    "Większość rekordów jest zestandaryzowana i zawiera kody gmin, miejscowości i ulic zgodne z urzędowym rejestrem TERYT, ale część np. ulic z różnych powodów nie ma tych kodów podanych, a zamiast tego jest kod stanowiący placeholder: '99998'. Sprawdźmy najpierw ile takich rekordów jest w naszych danych:"
   ]
  },
  {
   "cell_type": "code",
   "execution_count": 5,
   "metadata": {},
   "outputs": [
    {
     "data": {
      "text/plain": [
       "17582"
      ]
     },
     "execution_count": 5,
     "metadata": {},
     "output_type": "execute_result"
    }
   ],
   "source": [
    "len(endpoints_df[endpoints_df['street_code_value'] == '99998'].index)"
   ]
  },
  {
   "cell_type": "markdown",
   "metadata": {},
   "source": [
    "Niewiele, ale prawdopodobnie niewielkim kosztem będziemy w stanie część z nich uzupełnić, więc spróbujemy.\n",
    "\n",
    "Innym kodem stanowiącym placeholder jest kod ulic: '99999', który oznacza brak nazwy ulicy. W miastach się to nie zdarza, ale mniejsze miejscowości i wsie dość często nie nadają nazw ulicom/drogom i adres to po prostu miejscowość i numer porządkowy np. Stara Wieś 3.\n",
    "\n",
    "Przeprowadzimy teraz drobne czyszczenie i standaryzację danych.\n",
    "\n",
    "Najpierw przeprowadzimy operację trim/strip usuwającą zbędne znaki białe z początku i końca wartości tekstowych, a następnie wszystkie litery występujące w numerach porządkowych zamienimy na wielkie, a nazwy ulic na małe. Dodatkowo z nazw ulic usuniemy przedrostek 'ul. '. Te operacje pozwolą nam porównać ten zbiór danych z innymi."
   ]
  },
  {
   "cell_type": "code",
   "execution_count": 6,
   "metadata": {},
   "outputs": [],
   "source": [
    "endpoints_df['house_no'] = endpoints_df['house_no'].str.strip().str.upper()\n",
    "endpoints_df['city_name'] = endpoints_df['city_name'].str.strip().str.lower()\n",
    "endpoints_df['street_name'] = endpoints_df['street_name'].str.strip().str.lower()\n",
    "endpoints_df['street_name'] = endpoints_df['street_name'].str.replace('ul. ', '')"
   ]
  },
  {
   "cell_type": "markdown",
   "metadata": {},
   "source": [
    "Następnie dla zasięgów radiowych wszystkie wartości ponad 50 mbit/s sprowadzimy do wartości 50 mbit/s. Technicznie mało prawdopodobne, żeby dostęp radiowy pozwalał na szybsze prędkości o ile nie jest to LTE ze świetnym zasięgiem lub dedykowana radiolinia i większość z tych przypadków to najprawdopoboniej błędy w danych lub błędne interpretacje jakie dane powinny być wysłane do urzędu w ramach sprawozdania."
   ]
  },
  {
   "cell_type": "code",
   "execution_count": 7,
   "metadata": {},
   "outputs": [],
   "source": [
    "endpoints_df.loc[\n",
    "    (endpoints_df['medium'] == 'radiowe') & (endpoints_df['stationary_bandwidth_name'] > 50), \n",
    "    'stationary_bandwidth_name'\n",
    "] = 50"
   ]
  },
  {
   "cell_type": "markdown",
   "metadata": {},
   "source": [
    "Teraz spróbujemy uzupełnić część brakujących kodów ulic posiłkujac się istniejącymi w innych rekordach nazwami ulic i ich kodami. Następnie odrzucamy te rekordy których nie udało nam się dopasować."
   ]
  },
  {
   "cell_type": "code",
   "execution_count": 8,
   "metadata": {},
   "outputs": [],
   "source": [
    "lookup = endpoints_df[~endpoints_df['street_code_value'].isin({'99999', '99998'})][['city_code_value', 'street_code_value', 'street_name']].drop_duplicates().dropna()\n",
    "\n",
    "lookup.set_index(['city_code_value', 'street_name'], inplace=True)\n",
    "\n",
    "temp = endpoints_df[endpoints_df['street_code_value'] == '99998'][['city_code_value', 'street_name']].join(lookup, on=['city_code_value', 'street_name'], rsuffix='_joined')\n",
    "\n",
    "endpoints_df = endpoints_df.join(temp, rsuffix='_joined')\n",
    "\n",
    "endpoints_df['street_code_value'] = endpoints_df[['street_code_value', 'street_code_value_joined']].apply(lambda x: x[0] if x[0] != '99998' else x[1], axis=1)\n",
    "\n",
    "endpoints_df.drop(\n",
    "    columns=['city_code_value_joined', 'street_code_value_joined', 'street_name_joined'], \n",
    "    inplace=True\n",
    ")\n",
    "\n",
    "endpoints_df.dropna(\n",
    "    subset=['street_code_value', 'street_name'], \n",
    "    how='all', \n",
    "    axis=0, \n",
    "    inplace=True\n",
    ")\n",
    "\n",
    "endpoints_df = endpoints_df[endpoints_df['street_code_value'] != '99998']"
   ]
  },
  {
   "cell_type": "markdown",
   "metadata": {},
   "source": [
    "Sprawdzamy ile rekordów nam zostało:"
   ]
  },
  {
   "cell_type": "code",
   "execution_count": 9,
   "metadata": {},
   "outputs": [
    {
     "data": {
      "text/plain": [
       "10947485"
      ]
     },
     "execution_count": 9,
     "metadata": {},
     "output_type": "execute_result"
    }
   ],
   "source": [
    "len(endpoints_df.index)"
   ]
  },
  {
   "cell_type": "markdown",
   "metadata": {},
   "source": [
    "Usuwamy współrzędne z rekordów gdzie są podane liczby całkowite. Astronomicznie mało prawdopodobne żeby współrzędne jakiegoś obiektu to było dokładnie 20, 50 zamiast 20.000034, 50.000011. Prawie na pewno są to błędy w sprawozdawczości przedsiębiorców.\n",
    "\n",
    "Współrzędne tutaj będziemy traktować drugorzędnie. Jako podstawowe źródło posłuży nam zbiór PRG z urzędowymi adresami."
   ]
  },
  {
   "cell_type": "code",
   "execution_count": 10,
   "metadata": {},
   "outputs": [],
   "source": [
    "endpoints_df.loc[(endpoints_df['latitude'] == round(endpoints_df['latitude'])) & (endpoints_df['longitude'] == round(endpoints_df['longitude'])), ['latitude', 'longitude']] = np.nan"
   ]
  },
  {
   "cell_type": "markdown",
   "metadata": {},
   "source": [
    "Tak wygląda nasz DataFrame przed eksportem:"
   ]
  },
  {
   "cell_type": "code",
   "execution_count": 11,
   "metadata": {},
   "outputs": [
    {
     "data": {
      "text/html": [
       "<div>\n",
       "<style scoped>\n",
       "    .dataframe tbody tr th:only-of-type {\n",
       "        vertical-align: middle;\n",
       "    }\n",
       "\n",
       "    .dataframe tbody tr th {\n",
       "        vertical-align: top;\n",
       "    }\n",
       "\n",
       "    .dataframe thead th {\n",
       "        text-align: right;\n",
       "    }\n",
       "</style>\n",
       "<table border=\"1\" class=\"dataframe\">\n",
       "  <thead>\n",
       "    <tr style=\"text-align: right;\">\n",
       "      <th></th>\n",
       "      <th>municipality_code_value</th>\n",
       "      <th>city_code_value</th>\n",
       "      <th>city_name</th>\n",
       "      <th>street_code_value</th>\n",
       "      <th>street_name</th>\n",
       "      <th>house_no</th>\n",
       "      <th>latitude</th>\n",
       "      <th>longitude</th>\n",
       "      <th>medium</th>\n",
       "      <th>stationary_bandwidth_name</th>\n",
       "    </tr>\n",
       "  </thead>\n",
       "  <tbody>\n",
       "    <tr>\n",
       "      <th>626</th>\n",
       "      <td>1432064</td>\n",
       "      <td>0921415</td>\n",
       "      <td>ożarów mazowiecki</td>\n",
       "      <td>17394</td>\n",
       "      <td>poznańska</td>\n",
       "      <td>167</td>\n",
       "      <td>NaN</td>\n",
       "      <td>NaN</td>\n",
       "      <td>kablowe współosiowe miedziane</td>\n",
       "      <td>250.0</td>\n",
       "    </tr>\n",
       "    <tr>\n",
       "      <th>627</th>\n",
       "      <td>1432064</td>\n",
       "      <td>0921415</td>\n",
       "      <td>ożarów mazowiecki</td>\n",
       "      <td>12740</td>\n",
       "      <td>adama mickiewicza</td>\n",
       "      <td>7</td>\n",
       "      <td>NaN</td>\n",
       "      <td>NaN</td>\n",
       "      <td>światłowodowe</td>\n",
       "      <td>1000.0</td>\n",
       "    </tr>\n",
       "    <tr>\n",
       "      <th>628</th>\n",
       "      <td>1432064</td>\n",
       "      <td>0921415</td>\n",
       "      <td>ożarów mazowiecki</td>\n",
       "      <td>12740</td>\n",
       "      <td>adama mickiewicza</td>\n",
       "      <td>5A</td>\n",
       "      <td>NaN</td>\n",
       "      <td>NaN</td>\n",
       "      <td>światłowodowe</td>\n",
       "      <td>1000.0</td>\n",
       "    </tr>\n",
       "    <tr>\n",
       "      <th>1259</th>\n",
       "      <td>1201011</td>\n",
       "      <td>0981682</td>\n",
       "      <td>bochnia</td>\n",
       "      <td>24983</td>\n",
       "      <td>wygoda</td>\n",
       "      <td>64</td>\n",
       "      <td>NaN</td>\n",
       "      <td>NaN</td>\n",
       "      <td>radiowe</td>\n",
       "      <td>50.0</td>\n",
       "    </tr>\n",
       "    <tr>\n",
       "      <th>1385</th>\n",
       "      <td>0603011</td>\n",
       "      <td>0930176</td>\n",
       "      <td>rejowiec fabryczny</td>\n",
       "      <td>10562</td>\n",
       "      <td>kwiatowa</td>\n",
       "      <td>72</td>\n",
       "      <td>NaN</td>\n",
       "      <td>NaN</td>\n",
       "      <td>światłowodowe</td>\n",
       "      <td>1000.0</td>\n",
       "    </tr>\n",
       "  </tbody>\n",
       "</table>\n",
       "</div>"
      ],
      "text/plain": [
       "     municipality_code_value city_code_value           city_name  \\\n",
       "626                  1432064         0921415   ożarów mazowiecki   \n",
       "627                  1432064         0921415   ożarów mazowiecki   \n",
       "628                  1432064         0921415   ożarów mazowiecki   \n",
       "1259                 1201011         0981682             bochnia   \n",
       "1385                 0603011         0930176  rejowiec fabryczny   \n",
       "\n",
       "     street_code_value        street_name house_no  latitude  longitude  \\\n",
       "626              17394          poznańska      167       NaN        NaN   \n",
       "627              12740  adama mickiewicza        7       NaN        NaN   \n",
       "628              12740  adama mickiewicza       5A       NaN        NaN   \n",
       "1259             24983             wygoda       64       NaN        NaN   \n",
       "1385             10562           kwiatowa       72       NaN        NaN   \n",
       "\n",
       "                             medium  stationary_bandwidth_name  \n",
       "626   kablowe współosiowe miedziane                      250.0  \n",
       "627                   światłowodowe                     1000.0  \n",
       "628                   światłowodowe                     1000.0  \n",
       "1259                        radiowe                       50.0  \n",
       "1385                  światłowodowe                     1000.0  "
      ]
     },
     "execution_count": 11,
     "metadata": {},
     "output_type": "execute_result"
    }
   ],
   "source": [
    "endpoints_df.head()"
   ]
  },
  {
   "cell_type": "markdown",
   "metadata": {},
   "source": [
    "Eksport danych o zasięgach do pliku CSV."
   ]
  },
  {
   "cell_type": "code",
   "execution_count": 12,
   "metadata": {},
   "outputs": [],
   "source": [
    "endpoints_df.to_csv(r'C:\\Users\\ttaras\\jupyter\\zasiegi.csv', sep=';', index=False)"
   ]
  },
  {
   "cell_type": "markdown",
   "metadata": {},
   "source": [
    "### Węzły i interfejsy\n",
    "\n",
    "Ładujemy dane o węzłach i interfejsach z plików CSV. Pomijamy od razu część kolumn i nadajemy odpowiednie typy."
   ]
  },
  {
   "cell_type": "code",
   "execution_count": 34,
   "metadata": {},
   "outputs": [],
   "source": [
    "nodes_df = pd.read_csv(\n",
    "    path_nodes, \n",
    "    usecols=[\n",
    "        'municipality_code_value',\n",
    "        'city_code_value',\n",
    "        'city_name',\n",
    "        'street_code_value',\n",
    "        'street_name',\n",
    "        'house_no',\n",
    "        'latitude',\n",
    "        'longitude',\n",
    "        'id'\n",
    "    ],\n",
    "    dtype={\n",
    "        'municipality_code_value': str,\n",
    "        'city_code_value': str,\n",
    "        'city_name': str,\n",
    "        'street_code_value': str,\n",
    "        'street_name': str,\n",
    "        'house_no': str,\n",
    "        'latitude': np.float64,\n",
    "        'longitude': np.float64,\n",
    "    }\n",
    ")\n",
    "\n",
    "nodes_df.rename(columns={'id': 'node_id'}, inplace=True)\n",
    "nodes_df.set_index('node_id', inplace=True)\n",
    "\n",
    "int_df = pd.read_csv(\n",
    "    path_node_interfaces, \n",
    "    usecols=[\n",
    "        'node_id', \n",
    "        'transmission_medium', \n",
    "        'technology_twisted_pair_copper'\n",
    "    ]\n",
    ")"
   ]
  },
  {
   "cell_type": "markdown",
   "metadata": {},
   "source": [
    "Tak wyglądają nasze DataFrame po załadowaniu:\n",
    "\n",
    "Węzły:"
   ]
  },
  {
   "cell_type": "code",
   "execution_count": 35,
   "metadata": {},
   "outputs": [
    {
     "data": {
      "text/html": [
       "<div>\n",
       "<style scoped>\n",
       "    .dataframe tbody tr th:only-of-type {\n",
       "        vertical-align: middle;\n",
       "    }\n",
       "\n",
       "    .dataframe tbody tr th {\n",
       "        vertical-align: top;\n",
       "    }\n",
       "\n",
       "    .dataframe thead th {\n",
       "        text-align: right;\n",
       "    }\n",
       "</style>\n",
       "<table border=\"1\" class=\"dataframe\">\n",
       "  <thead>\n",
       "    <tr style=\"text-align: right;\">\n",
       "      <th></th>\n",
       "      <th>municipality_code_value</th>\n",
       "      <th>city_code_value</th>\n",
       "      <th>city_name</th>\n",
       "      <th>street_code_value</th>\n",
       "      <th>street_name</th>\n",
       "      <th>house_no</th>\n",
       "      <th>latitude</th>\n",
       "      <th>longitude</th>\n",
       "    </tr>\n",
       "    <tr>\n",
       "      <th>node_id</th>\n",
       "      <th></th>\n",
       "      <th></th>\n",
       "      <th></th>\n",
       "      <th></th>\n",
       "      <th></th>\n",
       "      <th></th>\n",
       "      <th></th>\n",
       "      <th></th>\n",
       "    </tr>\n",
       "  </thead>\n",
       "  <tbody>\n",
       "    <tr>\n",
       "      <th>3355763</th>\n",
       "      <td>3001022</td>\n",
       "      <td>0524542</td>\n",
       "      <td>Wyszyny</td>\n",
       "      <td>NaN</td>\n",
       "      <td>NaN</td>\n",
       "      <td>NaN</td>\n",
       "      <td>52.8923</td>\n",
       "      <td>16.8586</td>\n",
       "    </tr>\n",
       "    <tr>\n",
       "      <th>5233033</th>\n",
       "      <td>0662011</td>\n",
       "      <td>0929902</td>\n",
       "      <td>Chełm</td>\n",
       "      <td>21787</td>\n",
       "      <td>ul. Szarych Szeregów</td>\n",
       "      <td>9B</td>\n",
       "      <td>51.1421</td>\n",
       "      <td>23.4300</td>\n",
       "    </tr>\n",
       "    <tr>\n",
       "      <th>5233032</th>\n",
       "      <td>1425062</td>\n",
       "      <td>0625668</td>\n",
       "      <td>Słupica</td>\n",
       "      <td>99999</td>\n",
       "      <td>NaN</td>\n",
       "      <td>168</td>\n",
       "      <td>51.4124</td>\n",
       "      <td>21.4048</td>\n",
       "    </tr>\n",
       "    <tr>\n",
       "      <th>5233029</th>\n",
       "      <td>0662011</td>\n",
       "      <td>0929902</td>\n",
       "      <td>Chełm</td>\n",
       "      <td>11205</td>\n",
       "      <td>ul. 11 Listopada</td>\n",
       "      <td>2</td>\n",
       "      <td>51.8325</td>\n",
       "      <td>23.2944</td>\n",
       "    </tr>\n",
       "    <tr>\n",
       "      <th>5233030</th>\n",
       "      <td>0603114</td>\n",
       "      <td>0107821</td>\n",
       "      <td>Siedliszcze</td>\n",
       "      <td>22073</td>\n",
       "      <td>ul. Szpitalna</td>\n",
       "      <td>15A</td>\n",
       "      <td>51.1963</td>\n",
       "      <td>23.1603</td>\n",
       "    </tr>\n",
       "  </tbody>\n",
       "</table>\n",
       "</div>"
      ],
      "text/plain": [
       "        municipality_code_value city_code_value    city_name  \\\n",
       "node_id                                                        \n",
       "3355763                 3001022         0524542      Wyszyny   \n",
       "5233033                 0662011         0929902        Chełm   \n",
       "5233032                 1425062         0625668      Słupica   \n",
       "5233029                 0662011         0929902        Chełm   \n",
       "5233030                 0603114         0107821  Siedliszcze   \n",
       "\n",
       "        street_code_value           street_name house_no  latitude  longitude  \n",
       "node_id                                                                        \n",
       "3355763               NaN                   NaN      NaN   52.8923    16.8586  \n",
       "5233033             21787  ul. Szarych Szeregów       9B   51.1421    23.4300  \n",
       "5233032             99999                   NaN      168   51.4124    21.4048  \n",
       "5233029             11205      ul. 11 Listopada        2   51.8325    23.2944  \n",
       "5233030             22073         ul. Szpitalna      15A   51.1963    23.1603  "
      ]
     },
     "execution_count": 35,
     "metadata": {},
     "output_type": "execute_result"
    }
   ],
   "source": [
    "nodes_df.head()"
   ]
  },
  {
   "cell_type": "markdown",
   "metadata": {},
   "source": [
    "Interfejsy:"
   ]
  },
  {
   "cell_type": "code",
   "execution_count": 36,
   "metadata": {},
   "outputs": [
    {
     "data": {
      "text/html": [
       "<div>\n",
       "<style scoped>\n",
       "    .dataframe tbody tr th:only-of-type {\n",
       "        vertical-align: middle;\n",
       "    }\n",
       "\n",
       "    .dataframe tbody tr th {\n",
       "        vertical-align: top;\n",
       "    }\n",
       "\n",
       "    .dataframe thead th {\n",
       "        text-align: right;\n",
       "    }\n",
       "</style>\n",
       "<table border=\"1\" class=\"dataframe\">\n",
       "  <thead>\n",
       "    <tr style=\"text-align: right;\">\n",
       "      <th></th>\n",
       "      <th>node_id</th>\n",
       "      <th>transmission_medium</th>\n",
       "      <th>technology_twisted_pair_copper</th>\n",
       "    </tr>\n",
       "  </thead>\n",
       "  <tbody>\n",
       "    <tr>\n",
       "      <th>0</th>\n",
       "      <td>15837612</td>\n",
       "      <td>światłowodowe</td>\n",
       "      <td>NaN</td>\n",
       "    </tr>\n",
       "    <tr>\n",
       "      <th>1</th>\n",
       "      <td>12144737</td>\n",
       "      <td>kablowe parowe miedziane</td>\n",
       "      <td>1 Gigabit Ethernet</td>\n",
       "    </tr>\n",
       "    <tr>\n",
       "      <th>2</th>\n",
       "      <td>14365015</td>\n",
       "      <td>kablowe parowe miedziane</td>\n",
       "      <td>1 Gigabit Ethernet</td>\n",
       "    </tr>\n",
       "    <tr>\n",
       "      <th>3</th>\n",
       "      <td>14822051</td>\n",
       "      <td>radiowe</td>\n",
       "      <td>NaN</td>\n",
       "    </tr>\n",
       "    <tr>\n",
       "      <th>4</th>\n",
       "      <td>2917895</td>\n",
       "      <td>światłowodowe</td>\n",
       "      <td>NaN</td>\n",
       "    </tr>\n",
       "  </tbody>\n",
       "</table>\n",
       "</div>"
      ],
      "text/plain": [
       "    node_id       transmission_medium technology_twisted_pair_copper\n",
       "0  15837612             światłowodowe                            NaN\n",
       "1  12144737  kablowe parowe miedziane             1 Gigabit Ethernet\n",
       "2  14365015  kablowe parowe miedziane             1 Gigabit Ethernet\n",
       "3  14822051                   radiowe                            NaN\n",
       "4   2917895             światłowodowe                            NaN"
      ]
     },
     "execution_count": 36,
     "metadata": {},
     "output_type": "execute_result"
    }
   ],
   "source": [
    "int_df.head()"
   ]
  },
  {
   "cell_type": "markdown",
   "metadata": {},
   "source": [
    "Podobnie jak w przypadku zasięgów zestandaryzujemy adresy węzłów."
   ]
  },
  {
   "cell_type": "code",
   "execution_count": 37,
   "metadata": {},
   "outputs": [],
   "source": [
    "nodes_df['house_no'] = nodes_df['house_no'].str.strip().str.upper()\n",
    "nodes_df['city_name'] = nodes_df['city_name'].str.strip().str.lower()\n",
    "nodes_df['street_name'] = nodes_df['street_name'].str.strip().str.lower()\n",
    "nodes_df['street_name'] = nodes_df['street_name'].str.replace('ul. ', '')"
   ]
  },
  {
   "cell_type": "markdown",
   "metadata": {},
   "source": [
    "Następnie dla interfejsów rozpiszemy wartości z kolumny 'medium transymisyjne' (oraz 'technology_twisted_pair_copper') metodą one-hot encoding, czyli stworzymy 4 kolumny, które będą przybierać wartośc 0 lub 1 zależnie od tego czy dane medium np. światłowodowe odpowiada temu rekordowi czy nie. Pogrupujemy interfejsy po id węzła dzięki czemu uzyskamy informacje per węzeł na temat technologii jakie są dla niego dostępne.\n",
    "Dla medium kablowego parowego robimy wyjątek i dzielimy je na kable telefoniczne i nie-telefoniczne co odpowiada odpwiednio 1 i 0 w kolumnie 'xDSL'. Dla prostszego przetwarzania zostawiona zostanie kolumna 'copper' dla wszystkich kabli miedzianych."
   ]
  },
  {
   "cell_type": "code",
   "execution_count": 38,
   "metadata": {},
   "outputs": [],
   "source": [
    "int_df['fiber'] = int_df['transmission_medium'].apply(lambda x: 1 if x == 'światłowodowe' else 0)\n",
    "\n",
    "int_df['xdsl'] = int_df['technology_twisted_pair_copper'].apply(lambda x: 1 if x in ('ADSL2+', 'POTS/ISDN', 'VDSL2', 'ADSL2', 'ADSL', 'VDSL') else 0)\n",
    "\n",
    "int_df['copper'] = int_df['transmission_medium'].apply(lambda x: 1 if x in ('kablowe parowe miedziane', 'kablowe współosiowe miedziane') else 0)\n",
    "\n",
    "int_df['radio'] = int_df['transmission_medium'].apply(lambda x: 1 if x == 'radiowe' else 0)\n",
    "\n",
    "int_df.drop(\n",
    "    columns=['transmission_medium', 'technology_twisted_pair_copper'], \n",
    "    inplace=True\n",
    ")\n",
    "\n",
    "int_df = int_df.groupby(by='node_id', as_index=True)[['fiber', 'copper', 'xdsl', 'radio']].max()"
   ]
  },
  {
   "cell_type": "markdown",
   "metadata": {},
   "source": [
    "Dla węzłów też spróbujemy uzupełnić brakujące kody ulic."
   ]
  },
  {
   "cell_type": "code",
   "execution_count": 39,
   "metadata": {},
   "outputs": [],
   "source": [
    "temp = nodes_df[nodes_df['street_code_value'] == '99998'][['city_code_value', 'street_name']].join(lookup, on=['city_code_value', 'street_name'], rsuffix='_joined')\n",
    "\n",
    "nodes_df = nodes_df.join(temp, rsuffix='_joined')\n",
    "\n",
    "nodes_df['street_code_value'] = nodes_df[['street_code_value', 'street_code_value_joined']].apply(lambda x: x[0] if x[0] != '99998' else x[1], axis=1)\n",
    "\n",
    "nodes_df.drop(\n",
    "    columns=['city_code_value_joined', 'street_code_value_joined', 'street_name_joined'], \n",
    "    inplace=True\n",
    ")"
   ]
  },
  {
   "cell_type": "markdown",
   "metadata": {},
   "source": [
    "Usuwamy współrzędne tam gdzie są całkowite."
   ]
  },
  {
   "cell_type": "code",
   "execution_count": 40,
   "metadata": {},
   "outputs": [],
   "source": [
    "nodes_df.loc[(nodes_df['latitude'] == round(nodes_df['latitude'])) & (nodes_df['longitude'] == round(nodes_df['longitude'])), ['latitude', 'longitude']] = np.nan"
   ]
  },
  {
   "cell_type": "markdown",
   "metadata": {},
   "source": [
    "Dołączamy do węzłów informacje o technologiach z interfejsów."
   ]
  },
  {
   "cell_type": "code",
   "execution_count": 41,
   "metadata": {},
   "outputs": [],
   "source": [
    "nodes_df = nodes_df.join(int_df)"
   ]
  },
  {
   "cell_type": "markdown",
   "metadata": {},
   "source": [
    "Ile węzłów mamy w naszym DataFrame:"
   ]
  },
  {
   "cell_type": "code",
   "execution_count": 42,
   "metadata": {},
   "outputs": [
    {
     "data": {
      "text/plain": [
       "348670"
      ]
     },
     "execution_count": 42,
     "metadata": {},
     "output_type": "execute_result"
    }
   ],
   "source": [
    "len(nodes_df.index)"
   ]
  },
  {
   "cell_type": "markdown",
   "metadata": {},
   "source": [
    "Ostatecznie uzupełniamy jeszcze brakujące wartości dla kolumn oznaczających technologie. Brak wartości jest równoznaczny 0 zgodnie z naszym kodowaniem."
   ]
  },
  {
   "cell_type": "code",
   "execution_count": 43,
   "metadata": {},
   "outputs": [],
   "source": [
    "nodes_df['fiber'].fillna(0, inplace=True)\n",
    "nodes_df['copper'].fillna(0, inplace=True)\n",
    "nodes_df['xdsl'].fillna(0, inplace=True)\n",
    "nodes_df['radio'].fillna(0, inplace=True)\n",
    "\n",
    "nodes_df = nodes_df.astype({\n",
    "    'fiber': 'int8',\n",
    "    'copper': 'int8',\n",
    "    'xdsl': 'int8',\n",
    "    'radio': 'int8'\n",
    "})"
   ]
  },
  {
   "cell_type": "markdown",
   "metadata": {},
   "source": [
    "Tak wygląda nasz DataFrame przed eksportem:"
   ]
  },
  {
   "cell_type": "code",
   "execution_count": 45,
   "metadata": {},
   "outputs": [
    {
     "data": {
      "text/html": [
       "<div>\n",
       "<style scoped>\n",
       "    .dataframe tbody tr th:only-of-type {\n",
       "        vertical-align: middle;\n",
       "    }\n",
       "\n",
       "    .dataframe tbody tr th {\n",
       "        vertical-align: top;\n",
       "    }\n",
       "\n",
       "    .dataframe thead th {\n",
       "        text-align: right;\n",
       "    }\n",
       "</style>\n",
       "<table border=\"1\" class=\"dataframe\">\n",
       "  <thead>\n",
       "    <tr style=\"text-align: right;\">\n",
       "      <th></th>\n",
       "      <th>municipality_code_value</th>\n",
       "      <th>city_code_value</th>\n",
       "      <th>city_name</th>\n",
       "      <th>street_code_value</th>\n",
       "      <th>street_name</th>\n",
       "      <th>house_no</th>\n",
       "      <th>latitude</th>\n",
       "      <th>longitude</th>\n",
       "      <th>fiber</th>\n",
       "      <th>copper</th>\n",
       "      <th>xdsl</th>\n",
       "      <th>radio</th>\n",
       "    </tr>\n",
       "    <tr>\n",
       "      <th>node_id</th>\n",
       "      <th></th>\n",
       "      <th></th>\n",
       "      <th></th>\n",
       "      <th></th>\n",
       "      <th></th>\n",
       "      <th></th>\n",
       "      <th></th>\n",
       "      <th></th>\n",
       "      <th></th>\n",
       "      <th></th>\n",
       "      <th></th>\n",
       "      <th></th>\n",
       "    </tr>\n",
       "  </thead>\n",
       "  <tbody>\n",
       "    <tr>\n",
       "      <th>86</th>\n",
       "      <td>1219055</td>\n",
       "      <td>0340180</td>\n",
       "      <td>czarnochowice</td>\n",
       "      <td>99999</td>\n",
       "      <td>NaN</td>\n",
       "      <td>146</td>\n",
       "      <td>50.0117</td>\n",
       "      <td>20.0728</td>\n",
       "      <td>0</td>\n",
       "      <td>0</td>\n",
       "      <td>0</td>\n",
       "      <td>1</td>\n",
       "    </tr>\n",
       "    <tr>\n",
       "      <th>87</th>\n",
       "      <td>1206172</td>\n",
       "      <td>0344136</td>\n",
       "      <td>brzozówka</td>\n",
       "      <td>20254</td>\n",
       "      <td>słoneczna</td>\n",
       "      <td>1</td>\n",
       "      <td>50.1771</td>\n",
       "      <td>19.8934</td>\n",
       "      <td>0</td>\n",
       "      <td>0</td>\n",
       "      <td>0</td>\n",
       "      <td>1</td>\n",
       "    </tr>\n",
       "    <tr>\n",
       "      <th>91</th>\n",
       "      <td>1219055</td>\n",
       "      <td>0340256</td>\n",
       "      <td>chorągwica</td>\n",
       "      <td>NaN</td>\n",
       "      <td>NaN</td>\n",
       "      <td>NaN</td>\n",
       "      <td>49.9581</td>\n",
       "      <td>20.0853</td>\n",
       "      <td>0</td>\n",
       "      <td>0</td>\n",
       "      <td>0</td>\n",
       "      <td>1</td>\n",
       "    </tr>\n",
       "    <tr>\n",
       "      <th>92</th>\n",
       "      <td>1219022</td>\n",
       "      <td>0318972</td>\n",
       "      <td>zręczyce</td>\n",
       "      <td>99999</td>\n",
       "      <td>NaN</td>\n",
       "      <td>91</td>\n",
       "      <td>NaN</td>\n",
       "      <td>NaN</td>\n",
       "      <td>0</td>\n",
       "      <td>0</td>\n",
       "      <td>0</td>\n",
       "      <td>1</td>\n",
       "    </tr>\n",
       "    <tr>\n",
       "      <th>94</th>\n",
       "      <td>1219012</td>\n",
       "      <td>0315175</td>\n",
       "      <td>przebieczany</td>\n",
       "      <td>99999</td>\n",
       "      <td>NaN</td>\n",
       "      <td>136</td>\n",
       "      <td>NaN</td>\n",
       "      <td>NaN</td>\n",
       "      <td>0</td>\n",
       "      <td>0</td>\n",
       "      <td>0</td>\n",
       "      <td>1</td>\n",
       "    </tr>\n",
       "  </tbody>\n",
       "</table>\n",
       "</div>"
      ],
      "text/plain": [
       "        municipality_code_value city_code_value      city_name  \\\n",
       "node_id                                                          \n",
       "86                      1219055         0340180  czarnochowice   \n",
       "87                      1206172         0344136      brzozówka   \n",
       "91                      1219055         0340256     chorągwica   \n",
       "92                      1219022         0318972       zręczyce   \n",
       "94                      1219012         0315175   przebieczany   \n",
       "\n",
       "        street_code_value street_name house_no  latitude  longitude  fiber  \\\n",
       "node_id                                                                      \n",
       "86                  99999         NaN      146   50.0117    20.0728      0   \n",
       "87                  20254   słoneczna        1   50.1771    19.8934      0   \n",
       "91                    NaN         NaN      NaN   49.9581    20.0853      0   \n",
       "92                  99999         NaN       91       NaN        NaN      0   \n",
       "94                  99999         NaN      136       NaN        NaN      0   \n",
       "\n",
       "         copper  xdsl  radio  \n",
       "node_id                       \n",
       "86            0     0      1  \n",
       "87            0     0      1  \n",
       "91            0     0      1  \n",
       "92            0     0      1  \n",
       "94            0     0      1  "
      ]
     },
     "execution_count": 45,
     "metadata": {},
     "output_type": "execute_result"
    }
   ],
   "source": [
    "nodes_df.head()"
   ]
  },
  {
   "cell_type": "markdown",
   "metadata": {},
   "source": [
    "Eksport danych o węzłach do pliku CSV."
   ]
  },
  {
   "cell_type": "code",
   "execution_count": 46,
   "metadata": {},
   "outputs": [],
   "source": [
    "nodes_df.to_csv(r'C:\\Users\\ttaras\\jupyter\\wezly.csv', sep=';', index=False)"
   ]
  },
  {
   "cell_type": "markdown",
   "metadata": {},
   "source": [
    "## Przygotowanie danych adresowych wraz z potrzebnymi dla modelu informacjami o charakterystyce przestrzennej danego punktu\n",
    "\n",
    "### Parsowanie i czyszczenie danych adresowych z Państwowego Rejestru Granic (PRG)\n",
    "\n",
    "Dane udostępniane w ramach Państwowego Rejestru Granic to granice jednostek administracyjnych: kraj, województwa, powiaty, gminy oraz punkty adresowe. Dla tej pracy interesują nas punkty adresowe, które będą stanowić uzupełnienie danych dla zbioru SIIS o zasięgach sieci, a konkretnie pozwolą nam dodać brakujące współrzędne geograficzne. \n",
    "\n",
    "Dobrze by było wykorzystać zbiór adresów do dodania także adresów, które nie są w zasięgu żadnej sieci stacjonarnej, czyli nie będzie ich w zbiorze SIIS, ale trzeba by mieć w miarę zsynchronizowane czasowo zbiory, a najnowsza porcja zbioru SIIS zawiera dane za 2018 rok. W związku z tym nie będziemy dodawać adresów bez sieci, bo przez prawie dwuletnią różnicę sporo nowych adresów, które w rzeczywistości są w zasięgu sieci było by pokazane jako bez internetu co bardziej zaburzyło by wyniki modelu niż brak adresów bez internetu.\n",
    "\n",
    "PRG udostępniane jest w postaci spakowanych plików GML (rozszerzenie XML dla danych przestrzennych). Struktura wygląda tak, że w ramach pliku mamu kilka rodzajów rekordów: jednostkę administracyjną (dla plików adresowych używanych przez nas bez geometrii tylko dane tekstowe jak nazwa), miejscowość (nazwa, kod teryt), ulicę (nazwa, kod teryt, geometria) oraz adres, który zawiera informacje tekstowe o adresie, geometrię (współrzędne geograficzne), ale także łączy się z pozostałymi rodzajami rekordów. Czyli w ramach hierarhicznego typu plików jakim jest XML mamy zbiór relacyjny. Co ciekawe pomimo duplikacji części danych jak np. nazwa miejscowości czy ulicy dane te nie zawsze zgadzają się pomiędzy rekordem adresu, a odpowiadającym mu rekordem miejscowości/ulicy. Na podstawie wstępnej analizy danych doszedłem do wniosku, że lepiej będzie korzystać z nazw miejscowości/ulic pochodzących z rekordów tych typów połączonych z rekordem adresu niż z samych danych zawartych w rekordzie adresu.\n",
    "\n",
    "Przykładowy fragment xml:\n",
    "```xml\n",
    "<prg-ad:PRG_PunktAdresowy gml:id=\"PL.ZIPIN.3122.EMUiA_acfe21a9-1a6d-4143-b57f-6e96af120cd1\">\n",
    "      <gml:identifier codeSpace=\"http://geoportal.gov.pl/\">http://geoportal.gov.pl/PZGIK/dane/PL.ZIPIN.3122.EMUiA/acfe21a9-1a6d-4143-b57f-6e96af120cd1</gml:identifier>\n",
    "      <prg-ad:idIIP>\n",
    "        <bt:BT_Identyfikator>\n",
    "          <bt:lokalnyId>dc558f5b-bc07-47ea-bfb3-65b8314cfd54</bt:lokalnyId>\n",
    "          <bt:przestrzenNazw>PL.PZGIK.200</bt:przestrzenNazw>\n",
    "          <bt:wersjaId>2019-07-03T17:59:05+02:00</bt:wersjaId>\n",
    "        </bt:BT_Identyfikator>\n",
    "      </prg-ad:idIIP>\n",
    "      <prg-ad:cyklZycia>\n",
    "        <bt:BT_CyklZyciaInfo>\n",
    "          <bt:poczatekWersjiObiektu>2019-07-03T17:59:05Z</bt:poczatekWersjiObiektu>\n",
    "        </bt:BT_CyklZyciaInfo>\n",
    "      </prg-ad:cyklZycia>\n",
    "      <prg-ad:waznyOd>2019-07-03</prg-ad:waznyOd>\n",
    "      <prg-ad:jednostkaAdmnistracyjna>Polska</prg-ad:jednostkaAdmnistracyjna>\n",
    "      <prg-ad:jednostkaAdmnistracyjna>lubuskie</prg-ad:jednostkaAdmnistracyjna>\n",
    "      <prg-ad:jednostkaAdmnistracyjna>sulęciński</prg-ad:jednostkaAdmnistracyjna>\n",
    "      <prg-ad:jednostkaAdmnistracyjna>Lubniewice</prg-ad:jednostkaAdmnistracyjna>\n",
    "      <prg-ad:miejscowosc>Lubniewice</prg-ad:miejscowosc>\n",
    "      <prg-ad:czescMiejscowosci nilReason=\"inapplicable\" xsi:nil=\"true\" />\n",
    "      <prg-ad:ulica>Spacerowa</prg-ad:ulica>\n",
    "      <prg-ad:numerPorzadkowy>20</prg-ad:numerPorzadkowy>\n",
    "      <prg-ad:kodPocztowy>69-210</prg-ad:kodPocztowy>\n",
    "      <prg-ad:status>istniejacy</prg-ad:status>\n",
    "      <prg-ad:pozycja>\n",
    "        <gml:Point srsName=\"urn:ogc:def:crs:EPSG::2180\" srsDimension=\"2\" gml:id=\"PL.PZGIK.200_dc558f5b-bc07-47ea-bfb3-65b8314cfd54_GEO_1\">\n",
    "          <gml:pos>523018.0559 244304.4583</gml:pos>\n",
    "        </gml:Point>\n",
    "      </prg-ad:pozycja>\n",
    "      <prg-ad:komponent xlink:href=\"http://geoportal.gov.pl/PZGIK/dane/PL.PZGIK.200_366263\" />\n",
    "      <prg-ad:komponent xlink:href=\"http://geoportal.gov.pl/PZGIK/dane/PL.PZGIK.200_366267\" />\n",
    "      <prg-ad:komponent xlink:href=\"http://geoportal.gov.pl/PZGIK/dane/PL.PZGIK.200_366442\" />\n",
    "      <prg-ad:komponent xlink:href=\"http://geoportal.gov.pl/PZGIK/dane/PL.PZGIK.200_370131\" />\n",
    "      <prg-ad:komponent xlink:href=\"http://geoportal.gov.pl/PZGIK/dane/PL.ZIPIN.3122.EMUiA_0182969\" />\n",
    "      <prg-ad:komponent xlink:href=\"http://geoportal.gov.pl/PZGIK/dane/PL.ZIPIN.3122.EMUiA_3aadbcd4-aadc-47a0-98d0-057f9b2adde1\" />\n",
    "      <prg-ad:obiektEMUiA xlink:href=\"http://geoportal.gov.pl/PZGIK/dane/PL.ZIPIN.3122.EMUiA/acfe21a9-1a6d-4143-b57f-6e96af120cd1\" />\n",
    "    </prg-ad:PRG_PunktAdresowy>\n",
    "```\n",
    "\n",
    "W związku z rozmiarem plików nie możemy załadować ich po prostu do pamięci jak zazwyczaj robi się z plikami XML (parsowanie [DOM](https://en.wikipedia.org/wiki/Document_Object_Model)). Zastosujemy parsowanie \"zdarzeniowe\" ([SAX](https://en.wikipedia.org/wiki/Simple_API_for_XML)), dzięki któremu będziemy przetwarzać plik rekord po rekordzie. Dzięki temu zużycie pamięci będzie minimalne. Każdy rekord po przetworzeniu ładowany jest do bazy PostgreSQL, gdzie dokonamy dalszych przetworzeń i czyszczenia zbioru.\n",
    "\n",
    "Skrypt w python parsujący pliki PRG załączony jest w repozytorium git podobnie jak skrypt pobierający słowniki TERYT oraz kwerendy SQL, którymi dalej przetwarzano zbiór przygotowując go do połączenia z danymi SIIS.\n",
    "\n",
    "### Przygotowanie obrysów budynków na podstawie modeli 3D (LOD1)\n",
    "\n",
    "Dane są w formacie CityGML, który jest rozszerzeniem XML (GML). Ze względu na skomplikowaną strukturę użyto programu Spatial ETL o nazwie FME od firmy Safe Software.\n",
    "\n",
    "Przykładowy fragment xml:\n",
    "```xml\n",
    "<core:cityObjectMember>\n",
    "\t\t<bldg:Building gml:id=\"ID-1432-38E036F4-D4A5-9AC7-E053-CC2BA8C036B5\">\n",
    "\t\t\t<gen:stringAttribute name=\"buildingId\">\n",
    "\t\t\t\t<gen:value>38E036F4-D4A5-9AC7-E053-CC2BA8C036B5</gen:value>\n",
    "\t\t\t</gen:stringAttribute>\n",
    "\t\t\t<gen:stringAttribute name=\"przestNazw\">\n",
    "\t\t\t\t<gen:value>PL.PZGiK.330.BDOT10k</gen:value>\n",
    "\t\t\t</gen:stringAttribute>\n",
    "\t\t\t<gen:stringAttribute name=\"wersjaId\">\n",
    "\t\t\t\t<gen:value>2016-12-22T00:00:00</gen:value>\n",
    "\t\t\t</gen:stringAttribute>\n",
    "\t\t\t<gen:stringAttribute name=\"zrodloDach\">\n",
    "\t\t\t\t<gen:value>ALS_I</gen:value>\n",
    "\t\t\t</gen:stringAttribute>\n",
    "\t\t\t<gen:stringAttribute name=\"aktZrodla\">\n",
    "\t\t\t\t<gen:value>2011</gen:value>\n",
    "\t\t\t</gen:stringAttribute>\n",
    "\t\t\t<bldg:roofType>1000</bldg:roofType>\n",
    "\t\t\t<bldg:lod1Solid>\n",
    "\t\t\t\t<gml:Solid srsName=\"urn:ogc:def:crs,crs:EPSG::2180,crs:PL-KRON86-NH\" srsDimension=\"3\">\n",
    "\t\t\t\t\t<gml:exterior>\n",
    "\t\t\t\t\t\t<gml:CompositeSurface>\n",
    "\t\t\t\t\t\t\t<gml:surfaceMember>\n",
    "\t\t\t\t\t\t\t\t<gml:Polygon gml:id=\"ID-1432-38E036F4-D4A5-9AC7-E053-CC2BA8C036B5_PG_1\">\n",
    "\t\t\t\t\t\t\t\t\t<gml:exterior>\n",
    "\t\t\t\t\t\t\t\t\t\t<gml:LinearRing>\n",
    "\t\t\t\t\t\t\t\t\t\t\t<gml:posList>624092.85 499386.21 78.75 624088.71 499373.86 78.75 624079.71 499376.87 78.75 624083.85 499389.22 78.75 624092.85 499386.21 78.75</gml:posList>\n",
    "\t\t\t\t\t\t\t\t\t\t</gml:LinearRing>\n",
    "\t\t\t\t\t\t\t\t\t</gml:exterior>\n",
    "\t\t\t\t\t\t\t\t</gml:Polygon>\n",
    "\t\t\t\t\t\t\t</gml:surfaceMember>\n",
    "\t\t\t\t\t\t\t<gml:surfaceMember>\n",
    "\t\t\t\t\t\t\t\t<gml:Polygon gml:id=\"ID-1432-38E036F4-D4A5-9AC7-E053-CC2BA8C036B5_PG_2\">\n",
    "\t\t\t\t\t\t\t\t\t<gml:exterior>\n",
    "\t\t\t\t\t\t\t\t\t\t<gml:LinearRing>\n",
    "\t\t\t\t\t\t\t\t\t\t\t<gml:posList>624092.85 499386.21 78.75 624083.85 499389.22 78.75 624083.85 499389.22 84.85000000000001 624092.85 499386.21 84.85000000000001 624092.85 499386.21 78.75</gml:posList>\n",
    "\t\t\t\t\t\t\t\t\t\t</gml:LinearRing>\n",
    "\t\t\t\t\t\t\t\t\t</gml:exterior>\n",
    "\t\t\t\t\t\t\t\t</gml:Polygon>\n",
    "\t\t\t\t\t\t\t</gml:surfaceMember>\n",
    "\t\t\t\t\t\t\t<gml:surfaceMember>\n",
    "\t\t\t\t\t\t\t\t<gml:Polygon gml:id=\"ID-1432-38E036F4-D4A5-9AC7-E053-CC2BA8C036B5_PG_3\">\n",
    "\t\t\t\t\t\t\t\t\t<gml:exterior>\n",
    "\t\t\t\t\t\t\t\t\t\t<gml:LinearRing>\n",
    "\t\t\t\t\t\t\t\t\t\t\t<gml:posList>624083.85 499389.22 78.75 624079.71 499376.87 78.75 624079.71 499376.87 84.85000000000001 624083.85 499389.22 84.85000000000001 624083.85 499389.22 78.75</gml:posList>\n",
    "\t\t\t\t\t\t\t\t\t\t</gml:LinearRing>\n",
    "\t\t\t\t\t\t\t\t\t</gml:exterior>\n",
    "\t\t\t\t\t\t\t\t</gml:Polygon>\n",
    "\t\t\t\t\t\t\t</gml:surfaceMember>\n",
    "\t\t\t\t\t\t\t<gml:surfaceMember>\n",
    "\t\t\t\t\t\t\t\t<gml:Polygon gml:id=\"ID-1432-38E036F4-D4A5-9AC7-E053-CC2BA8C036B5_PG_4\">\n",
    "\t\t\t\t\t\t\t\t\t<gml:exterior>\n",
    "\t\t\t\t\t\t\t\t\t\t<gml:LinearRing>\n",
    "\t\t\t\t\t\t\t\t\t\t\t<gml:posList>624079.71 499376.87 78.75 624088.71 499373.86 78.75 624088.71 499373.86 84.85000000000001 624079.71 499376.87 84.85000000000001 624079.71 499376.87 78.75</gml:posList>\n",
    "\t\t\t\t\t\t\t\t\t\t</gml:LinearRing>\n",
    "\t\t\t\t\t\t\t\t\t</gml:exterior>\n",
    "\t\t\t\t\t\t\t\t</gml:Polygon>\n",
    "\t\t\t\t\t\t\t</gml:surfaceMember>\n",
    "\t\t\t\t\t\t\t<gml:surfaceMember>\n",
    "\t\t\t\t\t\t\t\t<gml:Polygon gml:id=\"ID-1432-38E036F4-D4A5-9AC7-E053-CC2BA8C036B5_PG_5\">\n",
    "\t\t\t\t\t\t\t\t\t<gml:exterior>\n",
    "\t\t\t\t\t\t\t\t\t\t<gml:LinearRing>\n",
    "\t\t\t\t\t\t\t\t\t\t\t<gml:posList>624088.71 499373.86 78.75 624092.85 499386.21 78.75 624092.85 499386.21 84.85000000000001 624088.71 499373.86 84.85000000000001 624088.71 499373.86 78.75</gml:posList>\n",
    "\t\t\t\t\t\t\t\t\t\t</gml:LinearRing>\n",
    "\t\t\t\t\t\t\t\t\t</gml:exterior>\n",
    "\t\t\t\t\t\t\t\t</gml:Polygon>\n",
    "\t\t\t\t\t\t\t</gml:surfaceMember>\n",
    "\t\t\t\t\t\t\t<gml:surfaceMember>\n",
    "\t\t\t\t\t\t\t\t<gml:Polygon gml:id=\"ID-1432-38E036F4-D4A5-9AC7-E053-CC2BA8C036B5_PG_6\">\n",
    "\t\t\t\t\t\t\t\t\t<gml:exterior>\n",
    "\t\t\t\t\t\t\t\t\t\t<gml:LinearRing>\n",
    "\t\t\t\t\t\t\t\t\t\t\t<gml:posList>624092.85 499386.21 84.85000000000001 624083.85 499389.22 84.85000000000001 624079.71 499376.87 84.85000000000001 624088.71 499373.86 84.85000000000001 624092.85 499386.21 84.85000000000001</gml:posList>\n",
    "\t\t\t\t\t\t\t\t\t\t</gml:LinearRing>\n",
    "\t\t\t\t\t\t\t\t\t</gml:exterior>\n",
    "\t\t\t\t\t\t\t\t</gml:Polygon>\n",
    "\t\t\t\t\t\t\t</gml:surfaceMember>\n",
    "\t\t\t\t\t\t</gml:CompositeSurface>\n",
    "\t\t\t\t\t</gml:exterior>\n",
    "\t\t\t\t</gml:Solid>\n",
    "\t\t\t</bldg:lod1Solid>\n",
    "\t\t</bldg:Building>\n",
    "\t</core:cityObjectMember>\n",
    "```\n",
    "\n",
    "FME było w stanie odczytać zipowane pliki, dokonać odpowiednich transformacji tj. \"spłaszczyć\" geometrię do 2D i wybrać część poligonową, a następnie załadować te dane do bazy PostgreSQL z dodatkiem PostGIS. \n",
    "\n",
    "Dane są co prawda sprzed kilku lat, ale jest to najpełniejsze źródło jakie znalazłem. Innym dobrym źródłem dla obrysów budynków jest OpenStreetMap (OSM), jednak o ile aktuaność danych OSM jest bardzo dobra, bo są aktualizowane na bieżąco to nie ma tam danych dla całego krajego, a próba łączenia dwóch zbiorów tej wielkości wykraczała by poza zakres tej pracy.\n",
    "\n",
    "Pliki workspace FME są również dostępne w reporzytorium git.\n",
    "\n",
    "### Przygotowanie danych z Numerycznego Modelu Terenu\n",
    "\n",
    "Dane są w formacie tekstowym, który można określić jako CSV rozdzielany spacjami. Każdy rekord zawiera 3 kolumny: x, y i z, czyli wysokość. Wersja darmowa tego zbioru ma punkty pomiarowe co 100m. Wysokość jest dla samego terenu (bez pokrycia jak budynki, drzewa itd.). W sumie dla całej Polski dało to ok. 31,2 mln punktów.\n",
    "\n",
    "Pierwsze 5 linijek z pliku:\n",
    "```\n",
    "222500.00 396100.00 162.20\n",
    "220300.00 396200.00 146.41\n",
    "220400.00 396200.00 149.84\n",
    "220500.00 396200.00 152.26\n",
    "220600.00 396200.00 151.81\n",
    "```\n",
    "\n",
    "Kolumny kolejno zawierają współrzędne X, Y i Z (wysokość). Współrzędne X i Y są w [układzie współrzędnych o kodzie EPSG 2180](https://pl.wikipedia.org/wiki/Uk%C5%82ad_wsp%C3%B3%C5%82rz%C4%99dnych_1992) potocznie zwanych CS92 lub PUWG1992.\n",
    "\n",
    "Dla każdego adresu wyszukamy punkty w odległości do 10km, a następnie policzymy minimalną wysokość, maksymalną oraz medianę wysokości. To da nam podstawowe dane na temat terenu na jakim znajduje się dany punkt.\n",
    "\n",
    "NMT można przetworzyć np. na raster i mogło by to uprościć obliczenia, ale na potrzeby tej pracy uznałem, że ta prosta metoda wystarczy. Tutaj też użyto bazy danych PostgreSQL z dodatkiem PostGIS. Co prawda rozmiar danych wymusił przetwarzanie ich małymi partiami, do czego napisany został skrypt w Pythonie, który wysyłał do bazy 8 takich kawałków jednocześnie (8, bo tyle rdzeni miała baza danych) pracując na 8 procesach stworzonych z biblioteką _multiprocessing_. Skrypt jest załączony w repozytorium git.\n",
    "\n",
    "### Połączenie danych w spójny słownik adresów wraz z dodatkowymi informacjami\n",
    "\n",
    "Mając przygotowane zbiory PRG, budynków oraz NMT możemy je połączyć, żeby uzyskać adres wraz z informacjami o tym ile adresów z nim sąsiaduje, do jakiej wielkości budynku należy oraz na jakim terenie się znajduje.\n",
    "\n",
    "...\n",
    "\n",
    "## Przygotowanie kompletnego zbioru do uczenia modelu\n",
    "\n",
    "Po operacjach z wczesniejszych rozdziałów otrzymujemy zbiór jak poniżej:\n"
   ]
  },
  {
   "cell_type": "code",
   "execution_count": 1,
   "metadata": {},
   "outputs": [
    {
     "data": {
      "text/html": [
       "<div>\n",
       "<style scoped>\n",
       "    .dataframe tbody tr th:only-of-type {\n",
       "        vertical-align: middle;\n",
       "    }\n",
       "\n",
       "    .dataframe tbody tr th {\n",
       "        vertical-align: top;\n",
       "    }\n",
       "\n",
       "    .dataframe thead th {\n",
       "        text-align: right;\n",
       "    }\n",
       "</style>\n",
       "<table border=\"1\" class=\"dataframe\">\n",
       "  <thead>\n",
       "    <tr style=\"text-align: right;\">\n",
       "      <th></th>\n",
       "      <th>przepustowosc</th>\n",
       "      <th>no_of_neighbours</th>\n",
       "      <th>building_area</th>\n",
       "      <th>delta_z</th>\n",
       "      <th>median_z</th>\n",
       "      <th>fiber_count</th>\n",
       "      <th>copper_nonxdsl_count</th>\n",
       "      <th>radio_count</th>\n",
       "      <th>copper_xdsl_count</th>\n",
       "      <th>distance_fiber</th>\n",
       "      <th>distance_radio</th>\n",
       "      <th>distance_copper_xdsl</th>\n",
       "      <th>distance_copper_nonxdsl</th>\n",
       "    </tr>\n",
       "  </thead>\n",
       "  <tbody>\n",
       "    <tr>\n",
       "      <th>0</th>\n",
       "      <td>40.0</td>\n",
       "      <td>127</td>\n",
       "      <td>132.74060</td>\n",
       "      <td>135.619995</td>\n",
       "      <td>205.910004</td>\n",
       "      <td>131</td>\n",
       "      <td>459</td>\n",
       "      <td>37</td>\n",
       "      <td>12</td>\n",
       "      <td>2139.31</td>\n",
       "      <td>90.62</td>\n",
       "      <td>2139.31</td>\n",
       "      <td>2487.99</td>\n",
       "    </tr>\n",
       "    <tr>\n",
       "      <th>1</th>\n",
       "      <td>8.0</td>\n",
       "      <td>293</td>\n",
       "      <td>144.79525</td>\n",
       "      <td>33.070000</td>\n",
       "      <td>100.870003</td>\n",
       "      <td>67</td>\n",
       "      <td>151</td>\n",
       "      <td>58</td>\n",
       "      <td>33</td>\n",
       "      <td>759.25</td>\n",
       "      <td>549.57</td>\n",
       "      <td>985.47</td>\n",
       "      <td>616.53</td>\n",
       "    </tr>\n",
       "    <tr>\n",
       "      <th>2</th>\n",
       "      <td>60.0</td>\n",
       "      <td>166</td>\n",
       "      <td>87.74550</td>\n",
       "      <td>144.829987</td>\n",
       "      <td>237.369995</td>\n",
       "      <td>2</td>\n",
       "      <td>2</td>\n",
       "      <td>11</td>\n",
       "      <td>2</td>\n",
       "      <td>389.73</td>\n",
       "      <td>346.92</td>\n",
       "      <td>389.73</td>\n",
       "      <td>3072.64</td>\n",
       "    </tr>\n",
       "    <tr>\n",
       "      <th>3</th>\n",
       "      <td>60.0</td>\n",
       "      <td>231</td>\n",
       "      <td>114.72625</td>\n",
       "      <td>239.630005</td>\n",
       "      <td>210.169998</td>\n",
       "      <td>9</td>\n",
       "      <td>50</td>\n",
       "      <td>78</td>\n",
       "      <td>25</td>\n",
       "      <td>532.56</td>\n",
       "      <td>486.90</td>\n",
       "      <td>522.59</td>\n",
       "      <td>511.16</td>\n",
       "    </tr>\n",
       "    <tr>\n",
       "      <th>4</th>\n",
       "      <td>30.0</td>\n",
       "      <td>384</td>\n",
       "      <td>661.19260</td>\n",
       "      <td>466.490021</td>\n",
       "      <td>380.785004</td>\n",
       "      <td>293</td>\n",
       "      <td>211</td>\n",
       "      <td>79</td>\n",
       "      <td>46</td>\n",
       "      <td>101.62</td>\n",
       "      <td>132.88</td>\n",
       "      <td>170.08</td>\n",
       "      <td>125.94</td>\n",
       "    </tr>\n",
       "  </tbody>\n",
       "</table>\n",
       "</div>"
      ],
      "text/plain": [
       "   przepustowosc  no_of_neighbours  building_area     delta_z    median_z  \\\n",
       "0           40.0               127      132.74060  135.619995  205.910004   \n",
       "1            8.0               293      144.79525   33.070000  100.870003   \n",
       "2           60.0               166       87.74550  144.829987  237.369995   \n",
       "3           60.0               231      114.72625  239.630005  210.169998   \n",
       "4           30.0               384      661.19260  466.490021  380.785004   \n",
       "\n",
       "   fiber_count  copper_nonxdsl_count  radio_count  copper_xdsl_count  \\\n",
       "0          131                   459           37                 12   \n",
       "1           67                   151           58                 33   \n",
       "2            2                     2           11                  2   \n",
       "3            9                    50           78                 25   \n",
       "4          293                   211           79                 46   \n",
       "\n",
       "   distance_fiber  distance_radio  distance_copper_xdsl  \\\n",
       "0         2139.31           90.62               2139.31   \n",
       "1          759.25          549.57                985.47   \n",
       "2          389.73          346.92                389.73   \n",
       "3          532.56          486.90                522.59   \n",
       "4          101.62          132.88                170.08   \n",
       "\n",
       "   distance_copper_nonxdsl  \n",
       "0                  2487.99  \n",
       "1                   616.53  \n",
       "2                  3072.64  \n",
       "3                   511.16  \n",
       "4                   125.94  "
      ]
     },
     "execution_count": 1,
     "metadata": {},
     "output_type": "execute_result"
    }
   ],
   "source": [
    "import pandas as pd\n",
    "\n",
    "df = pd.read_csv(r'dataset.zip', sep=';', compression='zip')\n",
    "df.head()"
   ]
  },
  {
   "cell_type": "markdown",
   "metadata": {},
   "source": [
    "Kolumny oznaczają kolejno:\n",
    "* przepustowosc - maksymalna dostępna przepustowość internetu dla tego miejsca (mbit/s)\n",
    "* no_of_neighbours - liczba sąsiadów adresu w odległości maksymalnie 500 m\n",
    "* building_area - powierzchnia najbliższego budynku w m2\n",
    "* delta_z - zmiana wysokości terenu (dla punktów pomiarowych w odległości maksymalnie 10 km)\n",
    "* median_z - mediana wysokości terenu (z punktów pomiarowych w odległości maksymalnie 10 km)\n",
    "* fiber_count - liczba węzłów światłowodowych w odległości maksymalnie 5 km\n",
    "* copper_nonxdsl_count - liczba węzłów w technologii miedzianej nie bazowanej na xDSL w odległości maksymalnie 5 km\n",
    "* radio_count - liczba węzłów radiowych w odległości maksymalnie 5 km\n",
    "* copper_xdsl_count - liczba węzłów w technologii xDSL w odległości maksymalnie 5 km\n",
    "* distance_fiber - odległość od najbliższego węzła światłowodowego (maksymalnie 20km lub oznaczony jako brak danych)\n",
    "* distance_radio - odległość od najbliższego węzła radiowego (j.w.)\n",
    "* distance_copper_xdsl - odległość od najbliższego węzła w technologii xDSL (j.w.)\n",
    "* distance_copper_nonxdsl - odległość od nabliższego węzła w technologii miedzianej nie bazowanej na xDSL (j.w.)"
   ]
  },
  {
   "cell_type": "code",
   "execution_count": 2,
   "metadata": {},
   "outputs": [
    {
     "name": "stdout",
     "output_type": "stream",
     "text": [
      "Zbiór posiada: 5415128 rekordów.\n"
     ]
    }
   ],
   "source": [
    "print('Zbiór posiada:', len(df.index), 'rekordów.')"
   ]
  },
  {
   "cell_type": "markdown",
   "metadata": {},
   "source": [
    "\"Kształt\" naszego DataFrame:"
   ]
  },
  {
   "cell_type": "code",
   "execution_count": 3,
   "metadata": {},
   "outputs": [
    {
     "data": {
      "text/plain": [
       "(5415128, 13)"
      ]
     },
     "execution_count": 3,
     "metadata": {},
     "output_type": "execute_result"
    }
   ],
   "source": [
    "df.shape"
   ]
  },
  {
   "cell_type": "markdown",
   "metadata": {},
   "source": [
    "Typy kolumn to:"
   ]
  },
  {
   "cell_type": "code",
   "execution_count": 4,
   "metadata": {},
   "outputs": [
    {
     "data": {
      "text/plain": [
       "przepustowosc              float64\n",
       "no_of_neighbours             int64\n",
       "building_area              float64\n",
       "delta_z                    float64\n",
       "median_z                   float64\n",
       "fiber_count                  int64\n",
       "copper_nonxdsl_count         int64\n",
       "radio_count                  int64\n",
       "copper_xdsl_count            int64\n",
       "distance_fiber             float64\n",
       "distance_radio             float64\n",
       "distance_copper_xdsl       float64\n",
       "distance_copper_nonxdsl    float64\n",
       "dtype: object"
      ]
     },
     "execution_count": 4,
     "metadata": {},
     "output_type": "execute_result"
    }
   ],
   "source": [
    "df.dtypes"
   ]
  },
  {
   "cell_type": "markdown",
   "metadata": {},
   "source": [
    "Podstawowe informacje na temat zawartości:"
   ]
  },
  {
   "cell_type": "code",
   "execution_count": 5,
   "metadata": {},
   "outputs": [
    {
     "data": {
      "text/html": [
       "<div>\n",
       "<style scoped>\n",
       "    .dataframe tbody tr th:only-of-type {\n",
       "        vertical-align: middle;\n",
       "    }\n",
       "\n",
       "    .dataframe tbody tr th {\n",
       "        vertical-align: top;\n",
       "    }\n",
       "\n",
       "    .dataframe thead th {\n",
       "        text-align: right;\n",
       "    }\n",
       "</style>\n",
       "<table border=\"1\" class=\"dataframe\">\n",
       "  <thead>\n",
       "    <tr style=\"text-align: right;\">\n",
       "      <th></th>\n",
       "      <th>przepustowosc</th>\n",
       "      <th>no_of_neighbours</th>\n",
       "      <th>building_area</th>\n",
       "      <th>delta_z</th>\n",
       "      <th>median_z</th>\n",
       "      <th>fiber_count</th>\n",
       "      <th>copper_nonxdsl_count</th>\n",
       "      <th>radio_count</th>\n",
       "      <th>copper_xdsl_count</th>\n",
       "      <th>distance_fiber</th>\n",
       "      <th>distance_radio</th>\n",
       "      <th>distance_copper_xdsl</th>\n",
       "      <th>distance_copper_nonxdsl</th>\n",
       "    </tr>\n",
       "  </thead>\n",
       "  <tbody>\n",
       "    <tr>\n",
       "      <th>count</th>\n",
       "      <td>5415128.00</td>\n",
       "      <td>5415128.00</td>\n",
       "      <td>5371957.00</td>\n",
       "      <td>5415128.00</td>\n",
       "      <td>5415128.00</td>\n",
       "      <td>5415128.00</td>\n",
       "      <td>5415128.00</td>\n",
       "      <td>5415128.00</td>\n",
       "      <td>5415128.00</td>\n",
       "      <td>5414891.00</td>\n",
       "      <td>5415128.00</td>\n",
       "      <td>5415128.00</td>\n",
       "      <td>5413571.00</td>\n",
       "    </tr>\n",
       "    <tr>\n",
       "      <th>mean</th>\n",
       "      <td>418.90</td>\n",
       "      <td>213.61</td>\n",
       "      <td>167.14</td>\n",
       "      <td>154.77</td>\n",
       "      <td>186.51</td>\n",
       "      <td>137.15</td>\n",
       "      <td>262.36</td>\n",
       "      <td>75.56</td>\n",
       "      <td>21.50</td>\n",
       "      <td>1667.60</td>\n",
       "      <td>706.44</td>\n",
       "      <td>1076.33</td>\n",
       "      <td>2059.85</td>\n",
       "    </tr>\n",
       "    <tr>\n",
       "      <th>std</th>\n",
       "      <td>3672.18</td>\n",
       "      <td>188.35</td>\n",
       "      <td>434.18</td>\n",
       "      <td>179.43</td>\n",
       "      <td>118.55</td>\n",
       "      <td>297.38</td>\n",
       "      <td>662.75</td>\n",
       "      <td>118.04</td>\n",
       "      <td>33.96</td>\n",
       "      <td>2173.94</td>\n",
       "      <td>843.25</td>\n",
       "      <td>1077.62</td>\n",
       "      <td>2766.39</td>\n",
       "    </tr>\n",
       "    <tr>\n",
       "      <th>min</th>\n",
       "      <td>1.00</td>\n",
       "      <td>0.00</td>\n",
       "      <td>5.35</td>\n",
       "      <td>6.04</td>\n",
       "      <td>-0.44</td>\n",
       "      <td>0.00</td>\n",
       "      <td>0.00</td>\n",
       "      <td>0.00</td>\n",
       "      <td>0.00</td>\n",
       "      <td>0.00</td>\n",
       "      <td>0.00</td>\n",
       "      <td>0.00</td>\n",
       "      <td>0.00</td>\n",
       "    </tr>\n",
       "    <tr>\n",
       "      <th>25%</th>\n",
       "      <td>10.00</td>\n",
       "      <td>61.00</td>\n",
       "      <td>88.25</td>\n",
       "      <td>66.55</td>\n",
       "      <td>103.87</td>\n",
       "      <td>3.00</td>\n",
       "      <td>2.00</td>\n",
       "      <td>15.00</td>\n",
       "      <td>4.00</td>\n",
       "      <td>254.48</td>\n",
       "      <td>204.96</td>\n",
       "      <td>332.61</td>\n",
       "      <td>240.30</td>\n",
       "    </tr>\n",
       "    <tr>\n",
       "      <th>50%</th>\n",
       "      <td>40.00</td>\n",
       "      <td>154.00</td>\n",
       "      <td>111.16</td>\n",
       "      <td>93.98</td>\n",
       "      <td>163.75</td>\n",
       "      <td>18.00</td>\n",
       "      <td>23.00</td>\n",
       "      <td>35.00</td>\n",
       "      <td>9.00</td>\n",
       "      <td>718.14</td>\n",
       "      <td>398.27</td>\n",
       "      <td>670.99</td>\n",
       "      <td>778.56</td>\n",
       "    </tr>\n",
       "    <tr>\n",
       "      <th>75%</th>\n",
       "      <td>300.00</td>\n",
       "      <td>325.00</td>\n",
       "      <td>145.87</td>\n",
       "      <td>157.41</td>\n",
       "      <td>243.61</td>\n",
       "      <td>116.00</td>\n",
       "      <td>174.00</td>\n",
       "      <td>81.00</td>\n",
       "      <td>24.00</td>\n",
       "      <td>2315.39</td>\n",
       "      <td>828.31</td>\n",
       "      <td>1451.43</td>\n",
       "      <td>2900.20</td>\n",
       "    </tr>\n",
       "    <tr>\n",
       "      <th>max</th>\n",
       "      <td>100000.00</td>\n",
       "      <td>1286.00</td>\n",
       "      <td>151230.75</td>\n",
       "      <td>1596.34</td>\n",
       "      <td>1209.33</td>\n",
       "      <td>3118.00</td>\n",
       "      <td>6340.00</td>\n",
       "      <td>1445.00</td>\n",
       "      <td>360.00</td>\n",
       "      <td>19986.98</td>\n",
       "      <td>10390.25</td>\n",
       "      <td>12226.62</td>\n",
       "      <td>19999.88</td>\n",
       "    </tr>\n",
       "  </tbody>\n",
       "</table>\n",
       "</div>"
      ],
      "text/plain": [
       "      przepustowosc no_of_neighbours building_area     delta_z    median_z  \\\n",
       "count    5415128.00       5415128.00    5371957.00  5415128.00  5415128.00   \n",
       "mean         418.90           213.61        167.14      154.77      186.51   \n",
       "std         3672.18           188.35        434.18      179.43      118.55   \n",
       "min            1.00             0.00          5.35        6.04       -0.44   \n",
       "25%           10.00            61.00         88.25       66.55      103.87   \n",
       "50%           40.00           154.00        111.16       93.98      163.75   \n",
       "75%          300.00           325.00        145.87      157.41      243.61   \n",
       "max       100000.00          1286.00     151230.75     1596.34     1209.33   \n",
       "\n",
       "      fiber_count copper_nonxdsl_count radio_count copper_xdsl_count  \\\n",
       "count  5415128.00           5415128.00  5415128.00        5415128.00   \n",
       "mean       137.15               262.36       75.56             21.50   \n",
       "std        297.38               662.75      118.04             33.96   \n",
       "min          0.00                 0.00        0.00              0.00   \n",
       "25%          3.00                 2.00       15.00              4.00   \n",
       "50%         18.00                23.00       35.00              9.00   \n",
       "75%        116.00               174.00       81.00             24.00   \n",
       "max       3118.00              6340.00     1445.00            360.00   \n",
       "\n",
       "      distance_fiber distance_radio distance_copper_xdsl  \\\n",
       "count     5414891.00     5415128.00           5415128.00   \n",
       "mean         1667.60         706.44              1076.33   \n",
       "std          2173.94         843.25              1077.62   \n",
       "min             0.00           0.00                 0.00   \n",
       "25%           254.48         204.96               332.61   \n",
       "50%           718.14         398.27               670.99   \n",
       "75%          2315.39         828.31              1451.43   \n",
       "max         19986.98       10390.25             12226.62   \n",
       "\n",
       "      distance_copper_nonxdsl  \n",
       "count              5413571.00  \n",
       "mean                  2059.85  \n",
       "std                   2766.39  \n",
       "min                      0.00  \n",
       "25%                    240.30  \n",
       "50%                    778.56  \n",
       "75%                   2900.20  \n",
       "max                  19999.88  "
      ]
     },
     "execution_count": 5,
     "metadata": {},
     "output_type": "execute_result"
    }
   ],
   "source": [
    "df.describe().apply(lambda s: s.apply(lambda x: format(x, '.2f')))"
   ]
  },
  {
   "cell_type": "markdown",
   "metadata": {},
   "source": [
    "Sprawdźmy jeszcze ile rekordów nie ma danych:"
   ]
  },
  {
   "cell_type": "code",
   "execution_count": 6,
   "metadata": {},
   "outputs": [
    {
     "data": {
      "text/plain": [
       "przepustowosc                  0\n",
       "no_of_neighbours               0\n",
       "building_area              43171\n",
       "delta_z                        0\n",
       "median_z                       0\n",
       "fiber_count                    0\n",
       "copper_nonxdsl_count           0\n",
       "radio_count                    0\n",
       "copper_xdsl_count              0\n",
       "distance_fiber               237\n",
       "distance_radio                 0\n",
       "distance_copper_xdsl           0\n",
       "distance_copper_nonxdsl     1557\n",
       "dtype: int64"
      ]
     },
     "execution_count": 6,
     "metadata": {},
     "output_type": "execute_result"
    }
   ],
   "source": [
    "df.isnull().sum(axis = 0)"
   ]
  },
  {
   "cell_type": "markdown",
   "metadata": {},
   "source": [
    "Braków danych w tym zbiorze jest na tyle mało, że można je po prostu usunąć:"
   ]
  },
  {
   "cell_type": "code",
   "execution_count": 7,
   "metadata": {},
   "outputs": [],
   "source": [
    "df = df.dropna()"
   ]
  },
  {
   "cell_type": "markdown",
   "metadata": {},
   "source": [
    "Dalej zajmiemy się wartościami krańcowymi, które mogły by zaburzyć działanie modelu.\n",
    "\n",
    "Zwizualizujemy zmienne przepustowość i liczba węzłów nie-xDSL na histogramie. Dodatkowo zwizualizujemy wartości powierzchni budynków.\n",
    "\n",
    "Dodatkowo kolumny z dystansem w metrach poddamy działaniu funkcji log(n+1). Logarytm \"spłaszczy\" nam różnice w odległości i sprawi, że nie będziemy już operować na olbrzymich wartościach liczbowych. Do odległości dodajemy 1 żeby nie było błędu dla logarytmu odległości równych zero."
   ]
  },
  {
   "cell_type": "code",
   "execution_count": 8,
   "metadata": {},
   "outputs": [
    {
     "data": {
      "text/plain": [
       "<matplotlib.axes._subplots.AxesSubplot at 0x1f4823a01f0>"
      ]
     },
     "execution_count": 8,
     "metadata": {},
     "output_type": "execute_result"
    },
    {
     "data": {
      "image/png": "[encoded data removed]",
      "text/plain": [
       "<Figure size 432x288 with 1 Axes>"
      ]
     },
     "metadata": {
      "needs_background": "light"
     },
     "output_type": "display_data"
    }
   ],
   "source": [
    "df['przepustowosc'].groupby(df['przepustowosc']).count().plot(kind='barh')"
   ]
  },
  {
   "cell_type": "code",
   "execution_count": 9,
   "metadata": {},
   "outputs": [
    {
     "data": {
      "text/plain": [
       "6309"
      ]
     },
     "execution_count": 9,
     "metadata": {},
     "output_type": "execute_result"
    }
   ],
   "source": [
    "temp = df['copper_nonxdsl_count'].groupby(df['copper_nonxdsl_count']).count()\n",
    "len(temp.index)"
   ]
  },
  {
   "cell_type": "code",
   "execution_count": 10,
   "metadata": {},
   "outputs": [
    {
     "data": {
      "text/plain": [
       "398080"
      ]
     },
     "execution_count": 10,
     "metadata": {},
     "output_type": "execute_result"
    }
   ],
   "source": [
    "temp[temp.index >= 1000].sum()"
   ]
  },
  {
   "cell_type": "code",
   "execution_count": 11,
   "metadata": {},
   "outputs": [
    {
     "data": {
      "text/plain": [
       "copper_nonxdsl_count\n",
       "1000    397\n",
       "1001    365\n",
       "1002    383\n",
       "1003    360\n",
       "1004    369\n",
       "       ... \n",
       "6332      1\n",
       "6333      2\n",
       "6335      3\n",
       "6336      2\n",
       "6340      1\n",
       "Name: copper_nonxdsl_count, Length: 5309, dtype: int64"
      ]
     },
     "execution_count": 11,
     "metadata": {},
     "output_type": "execute_result"
    }
   ],
   "source": [
    "temp[temp.index >= 1000]"
   ]
  },
  {
   "cell_type": "code",
   "execution_count": 12,
   "metadata": {},
   "outputs": [
    {
     "data": {
      "text/plain": [
       "<matplotlib.axes._subplots.AxesSubplot at 0x1f4824655b0>"
      ]
     },
     "execution_count": 12,
     "metadata": {},
     "output_type": "execute_result"
    },
    {
     "data": {
      "image/png": "[encoded data removed]",
      "text/plain": [
       "<Figure size 432x288 with 1 Axes>"
      ]
     },
     "metadata": {
      "needs_background": "light"
     },
     "output_type": "display_data"
    }
   ],
   "source": [
    "temp.plot()"
   ]
  },
  {
   "cell_type": "code",
   "execution_count": 13,
   "metadata": {},
   "outputs": [
    {
     "data": {
      "text/plain": [
       "<matplotlib.axes._subplots.AxesSubplot at 0x1f482530f10>"
      ]
     },
     "execution_count": 13,
     "metadata": {},
     "output_type": "execute_result"
    },
    {
     "data": {
      "image/png": "[encoded data removed]",
      "text/plain": [
       "<Figure size 432x288 with 1 Axes>"
      ]
     },
     "metadata": {
      "needs_background": "light"
     },
     "output_type": "display_data"
    }
   ],
   "source": [
    "temp[temp.index <= 100].plot()  # wykres dla liczby rekordów do 100 węzłów"
   ]
  },
  {
   "cell_type": "code",
   "execution_count": 14,
   "metadata": {},
   "outputs": [
    {
     "data": {
      "text/plain": [
       "4789246    151230.746050\n",
       "3278193     97594.134850\n",
       "3518577     95780.454751\n",
       "1217863     87784.993750\n",
       "4634798     81330.268800\n",
       "               ...      \n",
       "3000080     11100.606950\n",
       "1733732     11099.611295\n",
       "1079710     11099.611295\n",
       "3826826     11094.068000\n",
       "4307215     11079.698850\n",
       "Name: building_area, Length: 1000, dtype: float64"
      ]
     },
     "execution_count": 14,
     "metadata": {},
     "output_type": "execute_result"
    }
   ],
   "source": [
    "df['building_area'].sort_values(ascending=False)[:1000]"
   ]
  },
  {
   "cell_type": "code",
   "execution_count": 15,
   "metadata": {},
   "outputs": [
    {
     "data": {
      "text/plain": [
       "<matplotlib.axes._subplots.AxesSubplot at 0x1f4825871f0>"
      ]
     },
     "execution_count": 15,
     "metadata": {},
     "output_type": "execute_result"
    },
    {
     "data": {
      "image/png": "[encoded data removed]",
      "text/plain": [
       "<Figure size 432x288 with 1 Axes>"
      ]
     },
     "metadata": {
      "needs_background": "light"
     },
     "output_type": "display_data"
    }
   ],
   "source": [
    "df['building_area'].plot(kind='hist', bins=10)"
   ]
  },
  {
   "cell_type": "code",
   "execution_count": 16,
   "metadata": {},
   "outputs": [
    {
     "data": {
      "text/plain": [
       "<matplotlib.axes._subplots.AxesSubplot at 0x1f4825b9280>"
      ]
     },
     "execution_count": 16,
     "metadata": {},
     "output_type": "execute_result"
    },
    {
     "data": {
      "image/png": "[encoded data removed]",
      "text/plain": [
       "<Figure size 432x288 with 1 Axes>"
      ]
     },
     "metadata": {
      "needs_background": "light"
     },
     "output_type": "display_data"
    }
   ],
   "source": [
    "df[df['building_area'] < 600]['building_area'].hist(bins=20)"
   ]
  },
  {
   "cell_type": "code",
   "execution_count": 17,
   "metadata": {},
   "outputs": [
    {
     "data": {
      "text/plain": [
       "1175"
      ]
     },
     "execution_count": 17,
     "metadata": {},
     "output_type": "execute_result"
    }
   ],
   "source": [
    "df[df['building_area'] >= 10000]['building_area'].count()"
   ]
  },
  {
   "cell_type": "code",
   "execution_count": 18,
   "metadata": {},
   "outputs": [
    {
     "data": {
      "text/plain": [
       "17294"
      ]
     },
     "execution_count": 18,
     "metadata": {},
     "output_type": "execute_result"
    }
   ],
   "source": [
    "df[df['przepustowosc'] > 2500]['przepustowosc'].count()"
   ]
  },
  {
   "cell_type": "code",
   "execution_count": 19,
   "metadata": {},
   "outputs": [
    {
     "data": {
      "image/png": "[encoded data removed]",
      "text/plain": [
       "<Figure size 1152x864 with 16 Axes>"
      ]
     },
     "metadata": {
      "needs_background": "light"
     },
     "output_type": "display_data"
    }
   ],
   "source": [
    "import matplotlib.pyplot as plt\n",
    "_ = df.hist(figsize=(16,12), bins=20)\n",
    "plt.show()"
   ]
  },
  {
   "cell_type": "markdown",
   "metadata": {},
   "source": [
    "Przepustowości zostaną podzielone na klasy, które będą przewidywane przez model. Wyróżnimy 5 klas:\n",
    "1 - 1-8 mbit/s  \n",
    "2 - 10-20 mbit/s  \n",
    "3 - 30-80 mbit/s  \n",
    "4 - 100-600 mbit/s  \n",
    "5 - >=1000 mbit/s  \n",
    "(klasy nie zazęiają się bo dane sprawozdawane do urzędu mają z góry określone wartości, tak więc nie ma możliwości przekazania przepustowości jak 90 mbit/s).\n",
    "\n",
    "Usuniemy rekordy dla powierzchni budynków powyżej 10000.\n",
    "\n",
    "Z liczbą węzłów ciężej ocenić, czy część z nich byłaby do usunięcia jako tzw. _outliery_, ponieważ jest bardo duży przedział wartości zawierających po kilka kilkadziesiąt rekordów. Pozostanie skalowanie dla zbioru."
   ]
  },
  {
   "cell_type": "code",
   "execution_count": 20,
   "metadata": {},
   "outputs": [],
   "source": [
    "#df = df[df['przepustowosc'] <= 2500]"
   ]
  },
  {
   "cell_type": "code",
   "execution_count": 21,
   "metadata": {},
   "outputs": [],
   "source": [
    "df = df[df['building_area'] <= 10000]"
   ]
  },
  {
   "cell_type": "code",
   "execution_count": 22,
   "metadata": {},
   "outputs": [],
   "source": [
    "classes = {\n",
    "    1: {'from': 0, 'to': 9, 'desc': '1-8 mbit/s'},\n",
    "    2: {'from': 10, 'to': 20, 'desc': '10-20 mbit/s'},\n",
    "    3: {'from': 30, 'to': 80, 'desc': '30-80 mbit/s'},\n",
    "    4: {'from': 100, 'to': 600, 'desc': '100-600 mbit/s'},\n",
    "    5: {'from': 601, 'to': 9999999, 'desc': '>=1000 mbit/s'},\n",
    "}\n",
    "labels = list(classes.keys())\n",
    "desc_labels = [x['desc'] for x in classes.values()]\n",
    "\n",
    "def classify(x):\n",
    "    for k, v in classes.items():\n",
    "        if v['from'] <= x <= v['to']:\n",
    "            return k\n",
    "\n",
    "df['class'] = df['przepustowosc'].apply(classify)\n",
    "df.drop(columns=['przepustowosc'], inplace=True)"
   ]
  },
  {
   "cell_type": "code",
   "execution_count": 23,
   "metadata": {},
   "outputs": [],
   "source": [
    "from numpy import log1p\n",
    "from sklearn.preprocessing import MinMaxScaler\n",
    "\n",
    "df['distance_copper_nonxdsl'] = df['distance_copper_nonxdsl'].apply(log1p)\n",
    "df['distance_copper_xdsl'] = df['distance_copper_xdsl'].apply(log1p)\n",
    "df['distance_fiber'] = df['distance_fiber'].apply(log1p)\n",
    "df['distance_radio'] = df['distance_radio'].apply(log1p)\n",
    "df['copper_nonxdsl_count'] = df['copper_nonxdsl_count'].apply(log1p)\n",
    "df['copper_xdsl_count'] = df['copper_xdsl_count'].apply(log1p)\n",
    "df['fiber_count'] = df['fiber_count'].apply(log1p)\n",
    "df['radio_count'] = df['radio_count'].apply(log1p)\n",
    "df['building_area'] = df['building_area'].apply(log1p)\n",
    "df['no_of_neighbours'] = df['no_of_neighbours'].apply(log1p)\n",
    "\n",
    "mms = MinMaxScaler()\n",
    "df[['delta_z','median_z']] = mms.fit_transform(df[['delta_z','median_z']])"
   ]
  },
  {
   "cell_type": "code",
   "execution_count": 24,
   "metadata": {},
   "outputs": [],
   "source": [
    "# change DataFrame column order\n",
    "cols = [\n",
    "    'class',\n",
    "    'building_area',\n",
    "    'no_of_neighbours',\n",
    "    'delta_z',\n",
    "    'median_z',\n",
    "    'distance_copper_nonxdsl',\n",
    "    'distance_copper_xdsl',\n",
    "    'distance_fiber',\n",
    "    'distance_radio',\n",
    "    'copper_nonxdsl_count',\n",
    "    'copper_xdsl_count',\n",
    "    'fiber_count',\n",
    "    'radio_count',\n",
    "]\n",
    "df = df[cols]"
   ]
  },
  {
   "cell_type": "code",
   "execution_count": 25,
   "metadata": {},
   "outputs": [
    {
     "data": {
      "image/png": "[encoded data removed]",
      "text/plain": [
       "<Figure size 1152x864 with 16 Axes>"
      ]
     },
     "metadata": {
      "needs_background": "light"
     },
     "output_type": "display_data"
    }
   ],
   "source": [
    "import matplotlib.pyplot as plt\n",
    "_ = df.hist(figsize=(16,12), bins=20)\n",
    "plt.show()"
   ]
  },
  {
   "cell_type": "markdown",
   "metadata": {},
   "source": [
    "Spójrzemy teraz jak wyglądają nasze dane, które wykorzystamy do modelu."
   ]
  },
  {
   "cell_type": "code",
   "execution_count": 26,
   "metadata": {},
   "outputs": [
    {
     "data": {
      "text/html": [
       "<div>\n",
       "<style scoped>\n",
       "    .dataframe tbody tr th:only-of-type {\n",
       "        vertical-align: middle;\n",
       "    }\n",
       "\n",
       "    .dataframe tbody tr th {\n",
       "        vertical-align: top;\n",
       "    }\n",
       "\n",
       "    .dataframe thead th {\n",
       "        text-align: right;\n",
       "    }\n",
       "</style>\n",
       "<table border=\"1\" class=\"dataframe\">\n",
       "  <thead>\n",
       "    <tr style=\"text-align: right;\">\n",
       "      <th></th>\n",
       "      <th>class</th>\n",
       "      <th>building_area</th>\n",
       "      <th>no_of_neighbours</th>\n",
       "      <th>delta_z</th>\n",
       "      <th>median_z</th>\n",
       "      <th>distance_copper_nonxdsl</th>\n",
       "      <th>distance_copper_xdsl</th>\n",
       "      <th>distance_fiber</th>\n",
       "      <th>distance_radio</th>\n",
       "      <th>copper_nonxdsl_count</th>\n",
       "      <th>copper_xdsl_count</th>\n",
       "      <th>fiber_count</th>\n",
       "      <th>radio_count</th>\n",
       "    </tr>\n",
       "  </thead>\n",
       "  <tbody>\n",
       "    <tr>\n",
       "      <th>0</th>\n",
       "      <td>3</td>\n",
       "      <td>4.895902</td>\n",
       "      <td>4.852030</td>\n",
       "      <td>0.081481</td>\n",
       "      <td>0.170570</td>\n",
       "      <td>7.819632</td>\n",
       "      <td>7.668706</td>\n",
       "      <td>7.668706</td>\n",
       "      <td>4.517650</td>\n",
       "      <td>6.131226</td>\n",
       "      <td>2.564949</td>\n",
       "      <td>4.882802</td>\n",
       "      <td>3.637586</td>\n",
       "    </tr>\n",
       "    <tr>\n",
       "      <th>1</th>\n",
       "      <td>1</td>\n",
       "      <td>4.982203</td>\n",
       "      <td>5.683580</td>\n",
       "      <td>0.016997</td>\n",
       "      <td>0.083743</td>\n",
       "      <td>6.425728</td>\n",
       "      <td>6.894133</td>\n",
       "      <td>6.633647</td>\n",
       "      <td>6.310954</td>\n",
       "      <td>5.023881</td>\n",
       "      <td>3.526361</td>\n",
       "      <td>4.219508</td>\n",
       "      <td>4.077537</td>\n",
       "    </tr>\n",
       "    <tr>\n",
       "      <th>2</th>\n",
       "      <td>3</td>\n",
       "      <td>4.485773</td>\n",
       "      <td>5.117994</td>\n",
       "      <td>0.087273</td>\n",
       "      <td>0.196575</td>\n",
       "      <td>8.030618</td>\n",
       "      <td>5.968017</td>\n",
       "      <td>5.968017</td>\n",
       "      <td>5.851973</td>\n",
       "      <td>1.098612</td>\n",
       "      <td>1.098612</td>\n",
       "      <td>1.098612</td>\n",
       "      <td>2.484907</td>\n",
       "    </tr>\n",
       "    <tr>\n",
       "      <th>3</th>\n",
       "      <td>3</td>\n",
       "      <td>4.751227</td>\n",
       "      <td>5.446737</td>\n",
       "      <td>0.146884</td>\n",
       "      <td>0.174091</td>\n",
       "      <td>6.238637</td>\n",
       "      <td>6.260709</td>\n",
       "      <td>6.279572</td>\n",
       "      <td>6.190110</td>\n",
       "      <td>3.931826</td>\n",
       "      <td>3.258097</td>\n",
       "      <td>2.302585</td>\n",
       "      <td>4.369448</td>\n",
       "    </tr>\n",
       "    <tr>\n",
       "      <th>4</th>\n",
       "      <td>3</td>\n",
       "      <td>6.495556</td>\n",
       "      <td>5.953243</td>\n",
       "      <td>0.289537</td>\n",
       "      <td>0.315122</td>\n",
       "      <td>4.843715</td>\n",
       "      <td>5.142131</td>\n",
       "      <td>4.631033</td>\n",
       "      <td>4.896944</td>\n",
       "      <td>5.356586</td>\n",
       "      <td>3.850148</td>\n",
       "      <td>5.683580</td>\n",
       "      <td>4.382027</td>\n",
       "    </tr>\n",
       "  </tbody>\n",
       "</table>\n",
       "</div>"
      ],
      "text/plain": [
       "   class  building_area  no_of_neighbours   delta_z  median_z  \\\n",
       "0      3       4.895902          4.852030  0.081481  0.170570   \n",
       "1      1       4.982203          5.683580  0.016997  0.083743   \n",
       "2      3       4.485773          5.117994  0.087273  0.196575   \n",
       "3      3       4.751227          5.446737  0.146884  0.174091   \n",
       "4      3       6.495556          5.953243  0.289537  0.315122   \n",
       "\n",
       "   distance_copper_nonxdsl  distance_copper_xdsl  distance_fiber  \\\n",
       "0                 7.819632              7.668706        7.668706   \n",
       "1                 6.425728              6.894133        6.633647   \n",
       "2                 8.030618              5.968017        5.968017   \n",
       "3                 6.238637              6.260709        6.279572   \n",
       "4                 4.843715              5.142131        4.631033   \n",
       "\n",
       "   distance_radio  copper_nonxdsl_count  copper_xdsl_count  fiber_count  \\\n",
       "0        4.517650              6.131226           2.564949     4.882802   \n",
       "1        6.310954              5.023881           3.526361     4.219508   \n",
       "2        5.851973              1.098612           1.098612     1.098612   \n",
       "3        6.190110              3.931826           3.258097     2.302585   \n",
       "4        4.896944              5.356586           3.850148     5.683580   \n",
       "\n",
       "   radio_count  \n",
       "0     3.637586  \n",
       "1     4.077537  \n",
       "2     2.484907  \n",
       "3     4.369448  \n",
       "4     4.382027  "
      ]
     },
     "execution_count": 26,
     "metadata": {},
     "output_type": "execute_result"
    }
   ],
   "source": [
    "df.head()"
   ]
  },
  {
   "cell_type": "code",
   "execution_count": 27,
   "metadata": {},
   "outputs": [
    {
     "data": {
      "text/plain": [
       "(5369004, 13)"
      ]
     },
     "execution_count": 27,
     "metadata": {},
     "output_type": "execute_result"
    }
   ],
   "source": [
    "df.shape"
   ]
  },
  {
   "cell_type": "code",
   "execution_count": 28,
   "metadata": {},
   "outputs": [
    {
     "data": {
      "text/html": [
       "<div>\n",
       "<style scoped>\n",
       "    .dataframe tbody tr th:only-of-type {\n",
       "        vertical-align: middle;\n",
       "    }\n",
       "\n",
       "    .dataframe tbody tr th {\n",
       "        vertical-align: top;\n",
       "    }\n",
       "\n",
       "    .dataframe thead th {\n",
       "        text-align: right;\n",
       "    }\n",
       "</style>\n",
       "<table border=\"1\" class=\"dataframe\">\n",
       "  <thead>\n",
       "    <tr style=\"text-align: right;\">\n",
       "      <th></th>\n",
       "      <th>class</th>\n",
       "      <th>building_area</th>\n",
       "      <th>no_of_neighbours</th>\n",
       "      <th>delta_z</th>\n",
       "      <th>median_z</th>\n",
       "      <th>distance_copper_nonxdsl</th>\n",
       "      <th>distance_copper_xdsl</th>\n",
       "      <th>distance_fiber</th>\n",
       "      <th>distance_radio</th>\n",
       "      <th>copper_nonxdsl_count</th>\n",
       "      <th>copper_xdsl_count</th>\n",
       "      <th>fiber_count</th>\n",
       "      <th>radio_count</th>\n",
       "    </tr>\n",
       "  </thead>\n",
       "  <tbody>\n",
       "    <tr>\n",
       "      <th>count</th>\n",
       "      <td>5369004.00</td>\n",
       "      <td>5369004.00</td>\n",
       "      <td>5369004.00</td>\n",
       "      <td>5369004.00</td>\n",
       "      <td>5369004.00</td>\n",
       "      <td>5369004.00</td>\n",
       "      <td>5369004.00</td>\n",
       "      <td>5369004.00</td>\n",
       "      <td>5369004.00</td>\n",
       "      <td>5369004.00</td>\n",
       "      <td>5369004.00</td>\n",
       "      <td>5369004.00</td>\n",
       "      <td>5369004.00</td>\n",
       "    </tr>\n",
       "    <tr>\n",
       "      <th>mean</th>\n",
       "      <td>2.90</td>\n",
       "      <td>4.82</td>\n",
       "      <td>4.89</td>\n",
       "      <td>0.09</td>\n",
       "      <td>0.15</td>\n",
       "      <td>6.61</td>\n",
       "      <td>6.50</td>\n",
       "      <td>6.53</td>\n",
       "      <td>5.99</td>\n",
       "      <td>3.29</td>\n",
       "      <td>2.44</td>\n",
       "      <td>3.10</td>\n",
       "      <td>3.61</td>\n",
       "    </tr>\n",
       "    <tr>\n",
       "      <th>std</th>\n",
       "      <td>1.33</td>\n",
       "      <td>0.59</td>\n",
       "      <td>1.11</td>\n",
       "      <td>0.11</td>\n",
       "      <td>0.10</td>\n",
       "      <td>1.67</td>\n",
       "      <td>1.05</td>\n",
       "      <td>1.53</td>\n",
       "      <td>1.14</td>\n",
       "      <td>2.35</td>\n",
       "      <td>1.12</td>\n",
       "      <td>2.05</td>\n",
       "      <td>1.21</td>\n",
       "    </tr>\n",
       "    <tr>\n",
       "      <th>min</th>\n",
       "      <td>1.00</td>\n",
       "      <td>1.85</td>\n",
       "      <td>0.00</td>\n",
       "      <td>0.00</td>\n",
       "      <td>0.00</td>\n",
       "      <td>0.00</td>\n",
       "      <td>0.00</td>\n",
       "      <td>0.00</td>\n",
       "      <td>0.00</td>\n",
       "      <td>0.00</td>\n",
       "      <td>0.00</td>\n",
       "      <td>0.00</td>\n",
       "      <td>0.00</td>\n",
       "    </tr>\n",
       "    <tr>\n",
       "      <th>25%</th>\n",
       "      <td>2.00</td>\n",
       "      <td>4.49</td>\n",
       "      <td>4.13</td>\n",
       "      <td>0.04</td>\n",
       "      <td>0.09</td>\n",
       "      <td>5.48</td>\n",
       "      <td>5.81</td>\n",
       "      <td>5.54</td>\n",
       "      <td>5.32</td>\n",
       "      <td>1.10</td>\n",
       "      <td>1.61</td>\n",
       "      <td>1.39</td>\n",
       "      <td>2.77</td>\n",
       "    </tr>\n",
       "    <tr>\n",
       "      <th>50%</th>\n",
       "      <td>3.00</td>\n",
       "      <td>4.72</td>\n",
       "      <td>5.05</td>\n",
       "      <td>0.06</td>\n",
       "      <td>0.14</td>\n",
       "      <td>6.66</td>\n",
       "      <td>6.51</td>\n",
       "      <td>6.57</td>\n",
       "      <td>5.99</td>\n",
       "      <td>3.18</td>\n",
       "      <td>2.30</td>\n",
       "      <td>2.89</td>\n",
       "      <td>3.58</td>\n",
       "    </tr>\n",
       "    <tr>\n",
       "      <th>75%</th>\n",
       "      <td>4.00</td>\n",
       "      <td>4.99</td>\n",
       "      <td>5.79</td>\n",
       "      <td>0.10</td>\n",
       "      <td>0.20</td>\n",
       "      <td>7.98</td>\n",
       "      <td>7.28</td>\n",
       "      <td>7.75</td>\n",
       "      <td>6.72</td>\n",
       "      <td>5.16</td>\n",
       "      <td>3.22</td>\n",
       "      <td>4.75</td>\n",
       "      <td>4.41</td>\n",
       "    </tr>\n",
       "    <tr>\n",
       "      <th>max</th>\n",
       "      <td>5.00</td>\n",
       "      <td>9.21</td>\n",
       "      <td>7.16</td>\n",
       "      <td>1.00</td>\n",
       "      <td>1.00</td>\n",
       "      <td>9.90</td>\n",
       "      <td>9.41</td>\n",
       "      <td>9.90</td>\n",
       "      <td>9.25</td>\n",
       "      <td>8.75</td>\n",
       "      <td>5.89</td>\n",
       "      <td>8.05</td>\n",
       "      <td>7.28</td>\n",
       "    </tr>\n",
       "  </tbody>\n",
       "</table>\n",
       "</div>"
      ],
      "text/plain": [
       "            class building_area no_of_neighbours     delta_z    median_z  \\\n",
       "count  5369004.00    5369004.00       5369004.00  5369004.00  5369004.00   \n",
       "mean         2.90          4.82             4.89        0.09        0.15   \n",
       "std          1.33          0.59             1.11        0.11        0.10   \n",
       "min          1.00          1.85             0.00        0.00        0.00   \n",
       "25%          2.00          4.49             4.13        0.04        0.09   \n",
       "50%          3.00          4.72             5.05        0.06        0.14   \n",
       "75%          4.00          4.99             5.79        0.10        0.20   \n",
       "max          5.00          9.21             7.16        1.00        1.00   \n",
       "\n",
       "      distance_copper_nonxdsl distance_copper_xdsl distance_fiber  \\\n",
       "count              5369004.00           5369004.00     5369004.00   \n",
       "mean                     6.61                 6.50           6.53   \n",
       "std                      1.67                 1.05           1.53   \n",
       "min                      0.00                 0.00           0.00   \n",
       "25%                      5.48                 5.81           5.54   \n",
       "50%                      6.66                 6.51           6.57   \n",
       "75%                      7.98                 7.28           7.75   \n",
       "max                      9.90                 9.41           9.90   \n",
       "\n",
       "      distance_radio copper_nonxdsl_count copper_xdsl_count fiber_count  \\\n",
       "count     5369004.00           5369004.00        5369004.00  5369004.00   \n",
       "mean            5.99                 3.29              2.44        3.10   \n",
       "std             1.14                 2.35              1.12        2.05   \n",
       "min             0.00                 0.00              0.00        0.00   \n",
       "25%             5.32                 1.10              1.61        1.39   \n",
       "50%             5.99                 3.18              2.30        2.89   \n",
       "75%             6.72                 5.16              3.22        4.75   \n",
       "max             9.25                 8.75              5.89        8.05   \n",
       "\n",
       "      radio_count  \n",
       "count  5369004.00  \n",
       "mean         3.61  \n",
       "std          1.21  \n",
       "min          0.00  \n",
       "25%          2.77  \n",
       "50%          3.58  \n",
       "75%          4.41  \n",
       "max          7.28  "
      ]
     },
     "execution_count": 28,
     "metadata": {},
     "output_type": "execute_result"
    }
   ],
   "source": [
    "df.describe().apply(lambda s: s.apply(lambda x: format(x, '.2f')))"
   ]
  },
  {
   "cell_type": "markdown",
   "metadata": {},
   "source": [
    "Liczebność klas"
   ]
  },
  {
   "cell_type": "code",
   "execution_count": 29,
   "metadata": {},
   "outputs": [
    {
     "data": {
      "text/plain": [
       "<matplotlib.axes._subplots.AxesSubplot at 0x1f48495c7f0>"
      ]
     },
     "execution_count": 29,
     "metadata": {},
     "output_type": "execute_result"
    },
    {
     "data": {
      "image/png": "[encoded data removed]",
      "text/plain": [
       "<Figure size 432x288 with 1 Axes>"
      ]
     },
     "metadata": {
      "needs_background": "light"
     },
     "output_type": "display_data"
    }
   ],
   "source": [
    "df['class'].groupby(df['class']).count().plot(kind='bar')"
   ]
  },
  {
   "cell_type": "markdown",
   "metadata": {},
   "source": [
    "Macierz korelacji."
   ]
  },
  {
   "cell_type": "code",
   "execution_count": 30,
   "metadata": {},
   "outputs": [
    {
     "data": {
      "text/html": [
       "<style  type=\"text/css\" >\n",
       "    #T_66a42c17_3c94_11ea_8202_d8d09023ef86row0_col0 {\n",
       "            background-color:  #b40426;\n",
       "            color:  #f1f1f1;\n",
       "        }    #T_66a42c17_3c94_11ea_8202_d8d09023ef86row0_col1 {\n",
       "            background-color:  #adc9fd;\n",
       "            color:  #000000;\n",
       "        }    #T_66a42c17_3c94_11ea_8202_d8d09023ef86row0_col2 {\n",
       "            background-color:  #ead5c9;\n",
       "            color:  #000000;\n",
       "        }    #T_66a42c17_3c94_11ea_8202_d8d09023ef86row0_col3 {\n",
       "            background-color:  #445acc;\n",
       "            color:  #f1f1f1;\n",
       "        }    #T_66a42c17_3c94_11ea_8202_d8d09023ef86row0_col4 {\n",
       "            background-color:  #6180e9;\n",
       "            color:  #000000;\n",
       "        }    #T_66a42c17_3c94_11ea_8202_d8d09023ef86row0_col5 {\n",
       "            background-color:  #98b9ff;\n",
       "            color:  #000000;\n",
       "        }    #T_66a42c17_3c94_11ea_8202_d8d09023ef86row0_col6 {\n",
       "            background-color:  #6e90f2;\n",
       "            color:  #000000;\n",
       "        }    #T_66a42c17_3c94_11ea_8202_d8d09023ef86row0_col7 {\n",
       "            background-color:  #7597f6;\n",
       "            color:  #000000;\n",
       "        }    #T_66a42c17_3c94_11ea_8202_d8d09023ef86row0_col8 {\n",
       "            background-color:  #7396f5;\n",
       "            color:  #000000;\n",
       "        }    #T_66a42c17_3c94_11ea_8202_d8d09023ef86row0_col9 {\n",
       "            background-color:  #e7d7ce;\n",
       "            color:  #000000;\n",
       "        }    #T_66a42c17_3c94_11ea_8202_d8d09023ef86row0_col10 {\n",
       "            background-color:  #dfdbd9;\n",
       "            color:  #000000;\n",
       "        }    #T_66a42c17_3c94_11ea_8202_d8d09023ef86row0_col11 {\n",
       "            background-color:  #e7d7ce;\n",
       "            color:  #000000;\n",
       "        }    #T_66a42c17_3c94_11ea_8202_d8d09023ef86row0_col12 {\n",
       "            background-color:  #e2dad5;\n",
       "            color:  #000000;\n",
       "        }    #T_66a42c17_3c94_11ea_8202_d8d09023ef86row1_col0 {\n",
       "            background-color:  #b6cefa;\n",
       "            color:  #000000;\n",
       "        }    #T_66a42c17_3c94_11ea_8202_d8d09023ef86row1_col1 {\n",
       "            background-color:  #b40426;\n",
       "            color:  #f1f1f1;\n",
       "        }    #T_66a42c17_3c94_11ea_8202_d8d09023ef86row1_col2 {\n",
       "            background-color:  #c7d7f0;\n",
       "            color:  #000000;\n",
       "        }    #T_66a42c17_3c94_11ea_8202_d8d09023ef86row1_col3 {\n",
       "            background-color:  #3f53c6;\n",
       "            color:  #f1f1f1;\n",
       "        }    #T_66a42c17_3c94_11ea_8202_d8d09023ef86row1_col4 {\n",
       "            background-color:  #3f53c6;\n",
       "            color:  #f1f1f1;\n",
       "        }    #T_66a42c17_3c94_11ea_8202_d8d09023ef86row1_col5 {\n",
       "            background-color:  #8fb1fe;\n",
       "            color:  #000000;\n",
       "        }    #T_66a42c17_3c94_11ea_8202_d8d09023ef86row1_col6 {\n",
       "            background-color:  #89acfd;\n",
       "            color:  #000000;\n",
       "        }    #T_66a42c17_3c94_11ea_8202_d8d09023ef86row1_col7 {\n",
       "            background-color:  #89acfd;\n",
       "            color:  #000000;\n",
       "        }    #T_66a42c17_3c94_11ea_8202_d8d09023ef86row1_col8 {\n",
       "            background-color:  #7da0f9;\n",
       "            color:  #000000;\n",
       "        }    #T_66a42c17_3c94_11ea_8202_d8d09023ef86row1_col9 {\n",
       "            background-color:  #e5d8d1;\n",
       "            color:  #000000;\n",
       "        }    #T_66a42c17_3c94_11ea_8202_d8d09023ef86row1_col10 {\n",
       "            background-color:  #dadce0;\n",
       "            color:  #000000;\n",
       "        }    #T_66a42c17_3c94_11ea_8202_d8d09023ef86row1_col11 {\n",
       "            background-color:  #dadce0;\n",
       "            color:  #000000;\n",
       "        }    #T_66a42c17_3c94_11ea_8202_d8d09023ef86row1_col12 {\n",
       "            background-color:  #dadce0;\n",
       "            color:  #000000;\n",
       "        }    #T_66a42c17_3c94_11ea_8202_d8d09023ef86row2_col0 {\n",
       "            background-color:  #d4dbe6;\n",
       "            color:  #000000;\n",
       "        }    #T_66a42c17_3c94_11ea_8202_d8d09023ef86row2_col1 {\n",
       "            background-color:  #98b9ff;\n",
       "            color:  #000000;\n",
       "        }    #T_66a42c17_3c94_11ea_8202_d8d09023ef86row2_col2 {\n",
       "            background-color:  #b40426;\n",
       "            color:  #f1f1f1;\n",
       "        }    #T_66a42c17_3c94_11ea_8202_d8d09023ef86row2_col3 {\n",
       "            background-color:  #3d50c3;\n",
       "            color:  #f1f1f1;\n",
       "        }    #T_66a42c17_3c94_11ea_8202_d8d09023ef86row2_col4 {\n",
       "            background-color:  #3f53c6;\n",
       "            color:  #f1f1f1;\n",
       "        }    #T_66a42c17_3c94_11ea_8202_d8d09023ef86row2_col5 {\n",
       "            background-color:  #5572df;\n",
       "            color:  #000000;\n",
       "        }    #T_66a42c17_3c94_11ea_8202_d8d09023ef86row2_col6 {\n",
       "            background-color:  #3b4cc0;\n",
       "            color:  #f1f1f1;\n",
       "        }    #T_66a42c17_3c94_11ea_8202_d8d09023ef86row2_col7 {\n",
       "            background-color:  #4055c8;\n",
       "            color:  #f1f1f1;\n",
       "        }    #T_66a42c17_3c94_11ea_8202_d8d09023ef86row2_col8 {\n",
       "            background-color:  #3b4cc0;\n",
       "            color:  #f1f1f1;\n",
       "        }    #T_66a42c17_3c94_11ea_8202_d8d09023ef86row2_col9 {\n",
       "            background-color:  #f39778;\n",
       "            color:  #000000;\n",
       "        }    #T_66a42c17_3c94_11ea_8202_d8d09023ef86row2_col10 {\n",
       "            background-color:  #f6a385;\n",
       "            color:  #000000;\n",
       "        }    #T_66a42c17_3c94_11ea_8202_d8d09023ef86row2_col11 {\n",
       "            background-color:  #f6a283;\n",
       "            color:  #000000;\n",
       "        }    #T_66a42c17_3c94_11ea_8202_d8d09023ef86row2_col12 {\n",
       "            background-color:  #f6a385;\n",
       "            color:  #000000;\n",
       "        }    #T_66a42c17_3c94_11ea_8202_d8d09023ef86row3_col0 {\n",
       "            background-color:  #90b2fe;\n",
       "            color:  #000000;\n",
       "        }    #T_66a42c17_3c94_11ea_8202_d8d09023ef86row3_col1 {\n",
       "            background-color:  #80a3fa;\n",
       "            color:  #000000;\n",
       "        }    #T_66a42c17_3c94_11ea_8202_d8d09023ef86row3_col2 {\n",
       "            background-color:  #b5cdfa;\n",
       "            color:  #000000;\n",
       "        }    #T_66a42c17_3c94_11ea_8202_d8d09023ef86row3_col3 {\n",
       "            background-color:  #b40426;\n",
       "            color:  #f1f1f1;\n",
       "        }    #T_66a42c17_3c94_11ea_8202_d8d09023ef86row3_col4 {\n",
       "            background-color:  #ec7f63;\n",
       "            color:  #000000;\n",
       "        }    #T_66a42c17_3c94_11ea_8202_d8d09023ef86row3_col5 {\n",
       "            background-color:  #cad8ef;\n",
       "            color:  #000000;\n",
       "        }    #T_66a42c17_3c94_11ea_8202_d8d09023ef86row3_col6 {\n",
       "            background-color:  #b2ccfb;\n",
       "            color:  #000000;\n",
       "        }    #T_66a42c17_3c94_11ea_8202_d8d09023ef86row3_col7 {\n",
       "            background-color:  #bfd3f6;\n",
       "            color:  #000000;\n",
       "        }    #T_66a42c17_3c94_11ea_8202_d8d09023ef86row3_col8 {\n",
       "            background-color:  #9ebeff;\n",
       "            color:  #000000;\n",
       "        }    #T_66a42c17_3c94_11ea_8202_d8d09023ef86row3_col9 {\n",
       "            background-color:  #c3d5f4;\n",
       "            color:  #000000;\n",
       "        }    #T_66a42c17_3c94_11ea_8202_d8d09023ef86row3_col10 {\n",
       "            background-color:  #c0d4f5;\n",
       "            color:  #000000;\n",
       "        }    #T_66a42c17_3c94_11ea_8202_d8d09023ef86row3_col11 {\n",
       "            background-color:  #c1d4f4;\n",
       "            color:  #000000;\n",
       "        }    #T_66a42c17_3c94_11ea_8202_d8d09023ef86row3_col12 {\n",
       "            background-color:  #ccd9ed;\n",
       "            color:  #000000;\n",
       "        }    #T_66a42c17_3c94_11ea_8202_d8d09023ef86row4_col0 {\n",
       "            background-color:  #9dbdff;\n",
       "            color:  #000000;\n",
       "        }    #T_66a42c17_3c94_11ea_8202_d8d09023ef86row4_col1 {\n",
       "            background-color:  #7295f4;\n",
       "            color:  #000000;\n",
       "        }    #T_66a42c17_3c94_11ea_8202_d8d09023ef86row4_col2 {\n",
       "            background-color:  #abc8fd;\n",
       "            color:  #000000;\n",
       "        }    #T_66a42c17_3c94_11ea_8202_d8d09023ef86row4_col3 {\n",
       "            background-color:  #ed8366;\n",
       "            color:  #000000;\n",
       "        }    #T_66a42c17_3c94_11ea_8202_d8d09023ef86row4_col4 {\n",
       "            background-color:  #b40426;\n",
       "            color:  #f1f1f1;\n",
       "        }    #T_66a42c17_3c94_11ea_8202_d8d09023ef86row4_col5 {\n",
       "            background-color:  #d6dce4;\n",
       "            color:  #000000;\n",
       "        }    #T_66a42c17_3c94_11ea_8202_d8d09023ef86row4_col6 {\n",
       "            background-color:  #bbd1f8;\n",
       "            color:  #000000;\n",
       "        }    #T_66a42c17_3c94_11ea_8202_d8d09023ef86row4_col7 {\n",
       "            background-color:  #c4d5f3;\n",
       "            color:  #000000;\n",
       "        }    #T_66a42c17_3c94_11ea_8202_d8d09023ef86row4_col8 {\n",
       "            background-color:  #a3c2fe;\n",
       "            color:  #000000;\n",
       "        }    #T_66a42c17_3c94_11ea_8202_d8d09023ef86row4_col9 {\n",
       "            background-color:  #b7cff9;\n",
       "            color:  #000000;\n",
       "        }    #T_66a42c17_3c94_11ea_8202_d8d09023ef86row4_col10 {\n",
       "            background-color:  #b7cff9;\n",
       "            color:  #000000;\n",
       "        }    #T_66a42c17_3c94_11ea_8202_d8d09023ef86row4_col11 {\n",
       "            background-color:  #bfd3f6;\n",
       "            color:  #000000;\n",
       "        }    #T_66a42c17_3c94_11ea_8202_d8d09023ef86row4_col12 {\n",
       "            background-color:  #c5d6f2;\n",
       "            color:  #000000;\n",
       "        }    #T_66a42c17_3c94_11ea_8202_d8d09023ef86row5_col0 {\n",
       "            background-color:  #536edd;\n",
       "            color:  #000000;\n",
       "        }    #T_66a42c17_3c94_11ea_8202_d8d09023ef86row5_col1 {\n",
       "            background-color:  #3b4cc0;\n",
       "            color:  #f1f1f1;\n",
       "        }    #T_66a42c17_3c94_11ea_8202_d8d09023ef86row5_col2 {\n",
       "            background-color:  #3f53c6;\n",
       "            color:  #f1f1f1;\n",
       "        }    #T_66a42c17_3c94_11ea_8202_d8d09023ef86row5_col3 {\n",
       "            background-color:  #485fd1;\n",
       "            color:  #f1f1f1;\n",
       "        }    #T_66a42c17_3c94_11ea_8202_d8d09023ef86row5_col4 {\n",
       "            background-color:  #6e90f2;\n",
       "            color:  #000000;\n",
       "        }    #T_66a42c17_3c94_11ea_8202_d8d09023ef86row5_col5 {\n",
       "            background-color:  #b40426;\n",
       "            color:  #f1f1f1;\n",
       "        }    #T_66a42c17_3c94_11ea_8202_d8d09023ef86row5_col6 {\n",
       "            background-color:  #f5c1a9;\n",
       "            color:  #000000;\n",
       "        }    #T_66a42c17_3c94_11ea_8202_d8d09023ef86row5_col7 {\n",
       "            background-color:  #f39778;\n",
       "            color:  #000000;\n",
       "        }    #T_66a42c17_3c94_11ea_8202_d8d09023ef86row5_col8 {\n",
       "            background-color:  #f7ba9f;\n",
       "            color:  #000000;\n",
       "        }    #T_66a42c17_3c94_11ea_8202_d8d09023ef86row5_col9 {\n",
       "            background-color:  #3b4cc0;\n",
       "            color:  #f1f1f1;\n",
       "        }    #T_66a42c17_3c94_11ea_8202_d8d09023ef86row5_col10 {\n",
       "            background-color:  #3b4cc0;\n",
       "            color:  #f1f1f1;\n",
       "        }    #T_66a42c17_3c94_11ea_8202_d8d09023ef86row5_col11 {\n",
       "            background-color:  #4358cb;\n",
       "            color:  #f1f1f1;\n",
       "        }    #T_66a42c17_3c94_11ea_8202_d8d09023ef86row5_col12 {\n",
       "            background-color:  #3b4cc0;\n",
       "            color:  #f1f1f1;\n",
       "        }    #T_66a42c17_3c94_11ea_8202_d8d09023ef86row6_col0 {\n",
       "            background-color:  #4257c9;\n",
       "            color:  #f1f1f1;\n",
       "        }    #T_66a42c17_3c94_11ea_8202_d8d09023ef86row6_col1 {\n",
       "            background-color:  #516ddb;\n",
       "            color:  #000000;\n",
       "        }    #T_66a42c17_3c94_11ea_8202_d8d09023ef86row6_col2 {\n",
       "            background-color:  #4257c9;\n",
       "            color:  #f1f1f1;\n",
       "        }    #T_66a42c17_3c94_11ea_8202_d8d09023ef86row6_col3 {\n",
       "            background-color:  #4257c9;\n",
       "            color:  #f1f1f1;\n",
       "        }    #T_66a42c17_3c94_11ea_8202_d8d09023ef86row6_col4 {\n",
       "            background-color:  #5d7ce6;\n",
       "            color:  #000000;\n",
       "        }    #T_66a42c17_3c94_11ea_8202_d8d09023ef86row6_col5 {\n",
       "            background-color:  #f7b89c;\n",
       "            color:  #000000;\n",
       "        }    #T_66a42c17_3c94_11ea_8202_d8d09023ef86row6_col6 {\n",
       "            background-color:  #b40426;\n",
       "            color:  #f1f1f1;\n",
       "        }    #T_66a42c17_3c94_11ea_8202_d8d09023ef86row6_col7 {\n",
       "            background-color:  #f7ad90;\n",
       "            color:  #000000;\n",
       "        }    #T_66a42c17_3c94_11ea_8202_d8d09023ef86row6_col8 {\n",
       "            background-color:  #ebd3c6;\n",
       "            color:  #000000;\n",
       "        }    #T_66a42c17_3c94_11ea_8202_d8d09023ef86row6_col9 {\n",
       "            background-color:  #84a7fc;\n",
       "            color:  #000000;\n",
       "        }    #T_66a42c17_3c94_11ea_8202_d8d09023ef86row6_col10 {\n",
       "            background-color:  #5b7ae5;\n",
       "            color:  #000000;\n",
       "        }    #T_66a42c17_3c94_11ea_8202_d8d09023ef86row6_col11 {\n",
       "            background-color:  #7a9df8;\n",
       "            color:  #000000;\n",
       "        }    #T_66a42c17_3c94_11ea_8202_d8d09023ef86row6_col12 {\n",
       "            background-color:  #799cf8;\n",
       "            color:  #000000;\n",
       "        }    #T_66a42c17_3c94_11ea_8202_d8d09023ef86row7_col0 {\n",
       "            background-color:  #3b4cc0;\n",
       "            color:  #f1f1f1;\n",
       "        }    #T_66a42c17_3c94_11ea_8202_d8d09023ef86row7_col1 {\n",
       "            background-color:  #445acc;\n",
       "            color:  #f1f1f1;\n",
       "        }    #T_66a42c17_3c94_11ea_8202_d8d09023ef86row7_col2 {\n",
       "            background-color:  #3b4cc0;\n",
       "            color:  #f1f1f1;\n",
       "        }    #T_66a42c17_3c94_11ea_8202_d8d09023ef86row7_col3 {\n",
       "            background-color:  #455cce;\n",
       "            color:  #f1f1f1;\n",
       "        }    #T_66a42c17_3c94_11ea_8202_d8d09023ef86row7_col4 {\n",
       "            background-color:  #5b7ae5;\n",
       "            color:  #000000;\n",
       "        }    #T_66a42c17_3c94_11ea_8202_d8d09023ef86row7_col5 {\n",
       "            background-color:  #f29072;\n",
       "            color:  #000000;\n",
       "        }    #T_66a42c17_3c94_11ea_8202_d8d09023ef86row7_col6 {\n",
       "            background-color:  #f7b194;\n",
       "            color:  #000000;\n",
       "        }    #T_66a42c17_3c94_11ea_8202_d8d09023ef86row7_col7 {\n",
       "            background-color:  #b40426;\n",
       "            color:  #f1f1f1;\n",
       "        }    #T_66a42c17_3c94_11ea_8202_d8d09023ef86row7_col8 {\n",
       "            background-color:  #f2cab5;\n",
       "            color:  #000000;\n",
       "        }    #T_66a42c17_3c94_11ea_8202_d8d09023ef86row7_col9 {\n",
       "            background-color:  #5e7de7;\n",
       "            color:  #000000;\n",
       "        }    #T_66a42c17_3c94_11ea_8202_d8d09023ef86row7_col10 {\n",
       "            background-color:  #4a63d3;\n",
       "            color:  #f1f1f1;\n",
       "        }    #T_66a42c17_3c94_11ea_8202_d8d09023ef86row7_col11 {\n",
       "            background-color:  #3b4cc0;\n",
       "            color:  #f1f1f1;\n",
       "        }    #T_66a42c17_3c94_11ea_8202_d8d09023ef86row7_col12 {\n",
       "            background-color:  #4e68d8;\n",
       "            color:  #000000;\n",
       "        }    #T_66a42c17_3c94_11ea_8202_d8d09023ef86row8_col0 {\n",
       "            background-color:  #5977e3;\n",
       "            color:  #000000;\n",
       "        }    #T_66a42c17_3c94_11ea_8202_d8d09023ef86row8_col1 {\n",
       "            background-color:  #5673e0;\n",
       "            color:  #000000;\n",
       "        }    #T_66a42c17_3c94_11ea_8202_d8d09023ef86row8_col2 {\n",
       "            background-color:  #5572df;\n",
       "            color:  #000000;\n",
       "        }    #T_66a42c17_3c94_11ea_8202_d8d09023ef86row8_col3 {\n",
       "            background-color:  #3b4cc0;\n",
       "            color:  #f1f1f1;\n",
       "        }    #T_66a42c17_3c94_11ea_8202_d8d09023ef86row8_col4 {\n",
       "            background-color:  #506bda;\n",
       "            color:  #000000;\n",
       "        }    #T_66a42c17_3c94_11ea_8202_d8d09023ef86row8_col5 {\n",
       "            background-color:  #f7a98b;\n",
       "            color:  #000000;\n",
       "        }    #T_66a42c17_3c94_11ea_8202_d8d09023ef86row8_col6 {\n",
       "            background-color:  #f0cdbb;\n",
       "            color:  #000000;\n",
       "        }    #T_66a42c17_3c94_11ea_8202_d8d09023ef86row8_col7 {\n",
       "            background-color:  #f6bea4;\n",
       "            color:  #000000;\n",
       "        }    #T_66a42c17_3c94_11ea_8202_d8d09023ef86row8_col8 {\n",
       "            background-color:  #b40426;\n",
       "            color:  #f1f1f1;\n",
       "        }    #T_66a42c17_3c94_11ea_8202_d8d09023ef86row8_col9 {\n",
       "            background-color:  #80a3fa;\n",
       "            color:  #000000;\n",
       "        }    #T_66a42c17_3c94_11ea_8202_d8d09023ef86row8_col10 {\n",
       "            background-color:  #7396f5;\n",
       "            color:  #000000;\n",
       "        }    #T_66a42c17_3c94_11ea_8202_d8d09023ef86row8_col11 {\n",
       "            background-color:  #779af7;\n",
       "            color:  #000000;\n",
       "        }    #T_66a42c17_3c94_11ea_8202_d8d09023ef86row8_col12 {\n",
       "            background-color:  #5a78e4;\n",
       "            color:  #000000;\n",
       "        }    #T_66a42c17_3c94_11ea_8202_d8d09023ef86row9_col0 {\n",
       "            background-color:  #c3d5f4;\n",
       "            color:  #000000;\n",
       "        }    #T_66a42c17_3c94_11ea_8202_d8d09023ef86row9_col1 {\n",
       "            background-color:  #b9d0f9;\n",
       "            color:  #000000;\n",
       "        }    #T_66a42c17_3c94_11ea_8202_d8d09023ef86row9_col2 {\n",
       "            background-color:  #f59f80;\n",
       "            color:  #000000;\n",
       "        }    #T_66a42c17_3c94_11ea_8202_d8d09023ef86row9_col3 {\n",
       "            background-color:  #3c4ec2;\n",
       "            color:  #f1f1f1;\n",
       "        }    #T_66a42c17_3c94_11ea_8202_d8d09023ef86row9_col4 {\n",
       "            background-color:  #3b4cc0;\n",
       "            color:  #f1f1f1;\n",
       "        }    #T_66a42c17_3c94_11ea_8202_d8d09023ef86row9_col5 {\n",
       "            background-color:  #3b4cc0;\n",
       "            color:  #f1f1f1;\n",
       "        }    #T_66a42c17_3c94_11ea_8202_d8d09023ef86row9_col6 {\n",
       "            background-color:  #6788ee;\n",
       "            color:  #000000;\n",
       "        }    #T_66a42c17_3c94_11ea_8202_d8d09023ef86row9_col7 {\n",
       "            background-color:  #4f69d9;\n",
       "            color:  #000000;\n",
       "        }    #T_66a42c17_3c94_11ea_8202_d8d09023ef86row9_col8 {\n",
       "            background-color:  #516ddb;\n",
       "            color:  #000000;\n",
       "        }    #T_66a42c17_3c94_11ea_8202_d8d09023ef86row9_col9 {\n",
       "            background-color:  #b40426;\n",
       "            color:  #f1f1f1;\n",
       "        }    #T_66a42c17_3c94_11ea_8202_d8d09023ef86row9_col10 {\n",
       "            background-color:  #d24b40;\n",
       "            color:  #f1f1f1;\n",
       "        }    #T_66a42c17_3c94_11ea_8202_d8d09023ef86row9_col11 {\n",
       "            background-color:  #d55042;\n",
       "            color:  #000000;\n",
       "        }    #T_66a42c17_3c94_11ea_8202_d8d09023ef86row9_col12 {\n",
       "            background-color:  #d1493f;\n",
       "            color:  #f1f1f1;\n",
       "        }    #T_66a42c17_3c94_11ea_8202_d8d09023ef86row10_col0 {\n",
       "            background-color:  #c6d6f1;\n",
       "            color:  #000000;\n",
       "        }    #T_66a42c17_3c94_11ea_8202_d8d09023ef86row10_col1 {\n",
       "            background-color:  #b7cff9;\n",
       "            color:  #000000;\n",
       "        }    #T_66a42c17_3c94_11ea_8202_d8d09023ef86row10_col2 {\n",
       "            background-color:  #f6a283;\n",
       "            color:  #000000;\n",
       "        }    #T_66a42c17_3c94_11ea_8202_d8d09023ef86row10_col3 {\n",
       "            background-color:  #506bda;\n",
       "            color:  #000000;\n",
       "        }    #T_66a42c17_3c94_11ea_8202_d8d09023ef86row10_col4 {\n",
       "            background-color:  #516ddb;\n",
       "            color:  #000000;\n",
       "        }    #T_66a42c17_3c94_11ea_8202_d8d09023ef86row10_col5 {\n",
       "            background-color:  #536edd;\n",
       "            color:  #000000;\n",
       "        }    #T_66a42c17_3c94_11ea_8202_d8d09023ef86row10_col6 {\n",
       "            background-color:  #5875e1;\n",
       "            color:  #000000;\n",
       "        }    #T_66a42c17_3c94_11ea_8202_d8d09023ef86row10_col7 {\n",
       "            background-color:  #5470de;\n",
       "            color:  #000000;\n",
       "        }    #T_66a42c17_3c94_11ea_8202_d8d09023ef86row10_col8 {\n",
       "            background-color:  #5b7ae5;\n",
       "            color:  #000000;\n",
       "        }    #T_66a42c17_3c94_11ea_8202_d8d09023ef86row10_col9 {\n",
       "            background-color:  #d0473d;\n",
       "            color:  #f1f1f1;\n",
       "        }    #T_66a42c17_3c94_11ea_8202_d8d09023ef86row10_col10 {\n",
       "            background-color:  #b40426;\n",
       "            color:  #f1f1f1;\n",
       "        }    #T_66a42c17_3c94_11ea_8202_d8d09023ef86row10_col11 {\n",
       "            background-color:  #d95847;\n",
       "            color:  #000000;\n",
       "        }    #T_66a42c17_3c94_11ea_8202_d8d09023ef86row10_col12 {\n",
       "            background-color:  #d44e41;\n",
       "            color:  #000000;\n",
       "        }    #T_66a42c17_3c94_11ea_8202_d8d09023ef86row11_col0 {\n",
       "            background-color:  #ccd9ed;\n",
       "            color:  #000000;\n",
       "        }    #T_66a42c17_3c94_11ea_8202_d8d09023ef86row11_col1 {\n",
       "            background-color:  #b1cbfc;\n",
       "            color:  #000000;\n",
       "        }    #T_66a42c17_3c94_11ea_8202_d8d09023ef86row11_col2 {\n",
       "            background-color:  #f6a586;\n",
       "            color:  #000000;\n",
       "        }    #T_66a42c17_3c94_11ea_8202_d8d09023ef86row11_col3 {\n",
       "            background-color:  #4961d2;\n",
       "            color:  #f1f1f1;\n",
       "        }    #T_66a42c17_3c94_11ea_8202_d8d09023ef86row11_col4 {\n",
       "            background-color:  #5572df;\n",
       "            color:  #000000;\n",
       "        }    #T_66a42c17_3c94_11ea_8202_d8d09023ef86row11_col5 {\n",
       "            background-color:  #516ddb;\n",
       "            color:  #000000;\n",
       "        }    #T_66a42c17_3c94_11ea_8202_d8d09023ef86row11_col6 {\n",
       "            background-color:  #6c8ff1;\n",
       "            color:  #000000;\n",
       "        }    #T_66a42c17_3c94_11ea_8202_d8d09023ef86row11_col7 {\n",
       "            background-color:  #3b4cc0;\n",
       "            color:  #f1f1f1;\n",
       "        }    #T_66a42c17_3c94_11ea_8202_d8d09023ef86row11_col8 {\n",
       "            background-color:  #5673e0;\n",
       "            color:  #000000;\n",
       "        }    #T_66a42c17_3c94_11ea_8202_d8d09023ef86row11_col9 {\n",
       "            background-color:  #d44e41;\n",
       "            color:  #000000;\n",
       "        }    #T_66a42c17_3c94_11ea_8202_d8d09023ef86row11_col10 {\n",
       "            background-color:  #d95847;\n",
       "            color:  #000000;\n",
       "        }    #T_66a42c17_3c94_11ea_8202_d8d09023ef86row11_col11 {\n",
       "            background-color:  #b40426;\n",
       "            color:  #f1f1f1;\n",
       "        }    #T_66a42c17_3c94_11ea_8202_d8d09023ef86row11_col12 {\n",
       "            background-color:  #d75445;\n",
       "            color:  #000000;\n",
       "        }    #T_66a42c17_3c94_11ea_8202_d8d09023ef86row12_col0 {\n",
       "            background-color:  #c6d6f1;\n",
       "            color:  #000000;\n",
       "        }    #T_66a42c17_3c94_11ea_8202_d8d09023ef86row12_col1 {\n",
       "            background-color:  #b2ccfb;\n",
       "            color:  #000000;\n",
       "        }    #T_66a42c17_3c94_11ea_8202_d8d09023ef86row12_col2 {\n",
       "            background-color:  #f6a586;\n",
       "            color:  #000000;\n",
       "        }    #T_66a42c17_3c94_11ea_8202_d8d09023ef86row12_col3 {\n",
       "            background-color:  #5e7de7;\n",
       "            color:  #000000;\n",
       "        }    #T_66a42c17_3c94_11ea_8202_d8d09023ef86row12_col4 {\n",
       "            background-color:  #6180e9;\n",
       "            color:  #000000;\n",
       "        }    #T_66a42c17_3c94_11ea_8202_d8d09023ef86row12_col5 {\n",
       "            background-color:  #4c66d6;\n",
       "            color:  #000000;\n",
       "        }    #T_66a42c17_3c94_11ea_8202_d8d09023ef86row12_col6 {\n",
       "            background-color:  #6e90f2;\n",
       "            color:  #000000;\n",
       "        }    #T_66a42c17_3c94_11ea_8202_d8d09023ef86row12_col7 {\n",
       "            background-color:  #516ddb;\n",
       "            color:  #000000;\n",
       "        }    #T_66a42c17_3c94_11ea_8202_d8d09023ef86row12_col8 {\n",
       "            background-color:  #3c4ec2;\n",
       "            color:  #f1f1f1;\n",
       "        }    #T_66a42c17_3c94_11ea_8202_d8d09023ef86row12_col9 {\n",
       "            background-color:  #d0473d;\n",
       "            color:  #f1f1f1;\n",
       "        }    #T_66a42c17_3c94_11ea_8202_d8d09023ef86row12_col10 {\n",
       "            background-color:  #d55042;\n",
       "            color:  #000000;\n",
       "        }    #T_66a42c17_3c94_11ea_8202_d8d09023ef86row12_col11 {\n",
       "            background-color:  #d75445;\n",
       "            color:  #000000;\n",
       "        }    #T_66a42c17_3c94_11ea_8202_d8d09023ef86row12_col12 {\n",
       "            background-color:  #b40426;\n",
       "            color:  #f1f1f1;\n",
       "        }</style><table id=\"T_66a42c17_3c94_11ea_8202_d8d09023ef86\" ><thead>    <tr>        <th class=\"blank level0\" ></th>        <th class=\"col_heading level0 col0\" >class</th>        <th class=\"col_heading level0 col1\" >building_area</th>        <th class=\"col_heading level0 col2\" >no_of_neighbours</th>        <th class=\"col_heading level0 col3\" >delta_z</th>        <th class=\"col_heading level0 col4\" >median_z</th>        <th class=\"col_heading level0 col5\" >distance_copper_nonxdsl</th>        <th class=\"col_heading level0 col6\" >distance_copper_xdsl</th>        <th class=\"col_heading level0 col7\" >distance_fiber</th>        <th class=\"col_heading level0 col8\" >distance_radio</th>        <th class=\"col_heading level0 col9\" >copper_nonxdsl_count</th>        <th class=\"col_heading level0 col10\" >copper_xdsl_count</th>        <th class=\"col_heading level0 col11\" >fiber_count</th>        <th class=\"col_heading level0 col12\" >radio_count</th>    </tr></thead><tbody>\n",
       "                <tr>\n",
       "                        <th id=\"T_66a42c17_3c94_11ea_8202_d8d09023ef86level0_row0\" class=\"row_heading level0 row0\" >class</th>\n",
       "                        <td id=\"T_66a42c17_3c94_11ea_8202_d8d09023ef86row0_col0\" class=\"data row0 col0\" >1</td>\n",
       "                        <td id=\"T_66a42c17_3c94_11ea_8202_d8d09023ef86row0_col1\" class=\"data row0 col1\" >0.15</td>\n",
       "                        <td id=\"T_66a42c17_3c94_11ea_8202_d8d09023ef86row0_col2\" class=\"data row0 col2\" >0.28</td>\n",
       "                        <td id=\"T_66a42c17_3c94_11ea_8202_d8d09023ef86row0_col3\" class=\"data row0 col3\" >0.0048</td>\n",
       "                        <td id=\"T_66a42c17_3c94_11ea_8202_d8d09023ef86row0_col4\" class=\"data row0 col4\" >0.054</td>\n",
       "                        <td id=\"T_66a42c17_3c94_11ea_8202_d8d09023ef86row0_col5\" class=\"data row0 col5\" >-0.24</td>\n",
       "                        <td id=\"T_66a42c17_3c94_11ea_8202_d8d09023ef86row0_col6\" class=\"data row0 col6\" >-0.31</td>\n",
       "                        <td id=\"T_66a42c17_3c94_11ea_8202_d8d09023ef86row0_col7\" class=\"data row0 col7\" >-0.34</td>\n",
       "                        <td id=\"T_66a42c17_3c94_11ea_8202_d8d09023ef86row0_col8\" class=\"data row0 col8\" >-0.21</td>\n",
       "                        <td id=\"T_66a42c17_3c94_11ea_8202_d8d09023ef86row0_col9\" class=\"data row0 col9\" >0.2</td>\n",
       "                        <td id=\"T_66a42c17_3c94_11ea_8202_d8d09023ef86row0_col10\" class=\"data row0 col10\" >0.22</td>\n",
       "                        <td id=\"T_66a42c17_3c94_11ea_8202_d8d09023ef86row0_col11\" class=\"data row0 col11\" >0.25</td>\n",
       "                        <td id=\"T_66a42c17_3c94_11ea_8202_d8d09023ef86row0_col12\" class=\"data row0 col12\" >0.22</td>\n",
       "            </tr>\n",
       "            <tr>\n",
       "                        <th id=\"T_66a42c17_3c94_11ea_8202_d8d09023ef86level0_row1\" class=\"row_heading level0 row1\" >building_area</th>\n",
       "                        <td id=\"T_66a42c17_3c94_11ea_8202_d8d09023ef86row1_col0\" class=\"data row1 col0\" >0.15</td>\n",
       "                        <td id=\"T_66a42c17_3c94_11ea_8202_d8d09023ef86row1_col1\" class=\"data row1 col1\" >1</td>\n",
       "                        <td id=\"T_66a42c17_3c94_11ea_8202_d8d09023ef86row1_col2\" class=\"data row1 col2\" >0.079</td>\n",
       "                        <td id=\"T_66a42c17_3c94_11ea_8202_d8d09023ef86row1_col3\" class=\"data row1 col3\" >-0.0093</td>\n",
       "                        <td id=\"T_66a42c17_3c94_11ea_8202_d8d09023ef86row1_col4\" class=\"data row1 col4\" >-0.061</td>\n",
       "                        <td id=\"T_66a42c17_3c94_11ea_8202_d8d09023ef86row1_col5\" class=\"data row1 col5\" >-0.29</td>\n",
       "                        <td id=\"T_66a42c17_3c94_11ea_8202_d8d09023ef86row1_col6\" class=\"data row1 col6\" >-0.19</td>\n",
       "                        <td id=\"T_66a42c17_3c94_11ea_8202_d8d09023ef86row1_col7\" class=\"data row1 col7\" >-0.24</td>\n",
       "                        <td id=\"T_66a42c17_3c94_11ea_8202_d8d09023ef86row1_col8\" class=\"data row1 col8\" >-0.17</td>\n",
       "                        <td id=\"T_66a42c17_3c94_11ea_8202_d8d09023ef86row1_col9\" class=\"data row1 col9\" >0.2</td>\n",
       "                        <td id=\"T_66a42c17_3c94_11ea_8202_d8d09023ef86row1_col10\" class=\"data row1 col10\" >0.19</td>\n",
       "                        <td id=\"T_66a42c17_3c94_11ea_8202_d8d09023ef86row1_col11\" class=\"data row1 col11\" >0.17</td>\n",
       "                        <td id=\"T_66a42c17_3c94_11ea_8202_d8d09023ef86row1_col12\" class=\"data row1 col12\" >0.17</td>\n",
       "            </tr>\n",
       "            <tr>\n",
       "                        <th id=\"T_66a42c17_3c94_11ea_8202_d8d09023ef86level0_row2\" class=\"row_heading level0 row2\" >no_of_neighbours</th>\n",
       "                        <td id=\"T_66a42c17_3c94_11ea_8202_d8d09023ef86row2_col0\" class=\"data row2 col0\" >0.28</td>\n",
       "                        <td id=\"T_66a42c17_3c94_11ea_8202_d8d09023ef86row2_col1\" class=\"data row2 col1\" >0.079</td>\n",
       "                        <td id=\"T_66a42c17_3c94_11ea_8202_d8d09023ef86row2_col2\" class=\"data row2 col2\" >1</td>\n",
       "                        <td id=\"T_66a42c17_3c94_11ea_8202_d8d09023ef86row2_col3\" class=\"data row2 col3\" >-0.017</td>\n",
       "                        <td id=\"T_66a42c17_3c94_11ea_8202_d8d09023ef86row2_col4\" class=\"data row2 col4\" >-0.064</td>\n",
       "                        <td id=\"T_66a42c17_3c94_11ea_8202_d8d09023ef86row2_col5\" class=\"data row2 col5\" >-0.58</td>\n",
       "                        <td id=\"T_66a42c17_3c94_11ea_8202_d8d09023ef86row2_col6\" class=\"data row2 col6\" >-0.56</td>\n",
       "                        <td id=\"T_66a42c17_3c94_11ea_8202_d8d09023ef86row2_col7\" class=\"data row2 col7\" >-0.6</td>\n",
       "                        <td id=\"T_66a42c17_3c94_11ea_8202_d8d09023ef86row2_col8\" class=\"data row2 col8\" >-0.46</td>\n",
       "                        <td id=\"T_66a42c17_3c94_11ea_8202_d8d09023ef86row2_col9\" class=\"data row2 col9\" >0.58</td>\n",
       "                        <td id=\"T_66a42c17_3c94_11ea_8202_d8d09023ef86row2_col10\" class=\"data row2 col10\" >0.56</td>\n",
       "                        <td id=\"T_66a42c17_3c94_11ea_8202_d8d09023ef86row2_col11\" class=\"data row2 col11\" >0.56</td>\n",
       "                        <td id=\"T_66a42c17_3c94_11ea_8202_d8d09023ef86row2_col12\" class=\"data row2 col12\" >0.55</td>\n",
       "            </tr>\n",
       "            <tr>\n",
       "                        <th id=\"T_66a42c17_3c94_11ea_8202_d8d09023ef86level0_row3\" class=\"row_heading level0 row3\" >delta_z</th>\n",
       "                        <td id=\"T_66a42c17_3c94_11ea_8202_d8d09023ef86row3_col0\" class=\"data row3 col0\" >0.0048</td>\n",
       "                        <td id=\"T_66a42c17_3c94_11ea_8202_d8d09023ef86row3_col1\" class=\"data row3 col1\" >-0.0093</td>\n",
       "                        <td id=\"T_66a42c17_3c94_11ea_8202_d8d09023ef86row3_col2\" class=\"data row3 col2\" >-0.017</td>\n",
       "                        <td id=\"T_66a42c17_3c94_11ea_8202_d8d09023ef86row3_col3\" class=\"data row3 col3\" >1</td>\n",
       "                        <td id=\"T_66a42c17_3c94_11ea_8202_d8d09023ef86row3_col4\" class=\"data row3 col4\" >0.8</td>\n",
       "                        <td id=\"T_66a42c17_3c94_11ea_8202_d8d09023ef86row3_col5\" class=\"data row3 col5\" >0.02</td>\n",
       "                        <td id=\"T_66a42c17_3c94_11ea_8202_d8d09023ef86row3_col6\" class=\"data row3 col6\" >-0.002</td>\n",
       "                        <td id=\"T_66a42c17_3c94_11ea_8202_d8d09023ef86row3_col7\" class=\"data row3 col7\" >0.01</td>\n",
       "                        <td id=\"T_66a42c17_3c94_11ea_8202_d8d09023ef86row3_col8\" class=\"data row3 col8\" >-0.028</td>\n",
       "                        <td id=\"T_66a42c17_3c94_11ea_8202_d8d09023ef86row3_col9\" class=\"data row3 col9\" >-0.022</td>\n",
       "                        <td id=\"T_66a42c17_3c94_11ea_8202_d8d09023ef86row3_col10\" class=\"data row3 col10\" >0.047</td>\n",
       "                        <td id=\"T_66a42c17_3c94_11ea_8202_d8d09023ef86row3_col11\" class=\"data row3 col11\" >0.022</td>\n",
       "                        <td id=\"T_66a42c17_3c94_11ea_8202_d8d09023ef86row3_col12\" class=\"data row3 col12\" >0.093</td>\n",
       "            </tr>\n",
       "            <tr>\n",
       "                        <th id=\"T_66a42c17_3c94_11ea_8202_d8d09023ef86level0_row4\" class=\"row_heading level0 row4\" >median_z</th>\n",
       "                        <td id=\"T_66a42c17_3c94_11ea_8202_d8d09023ef86row4_col0\" class=\"data row4 col0\" >0.054</td>\n",
       "                        <td id=\"T_66a42c17_3c94_11ea_8202_d8d09023ef86row4_col1\" class=\"data row4 col1\" >-0.061</td>\n",
       "                        <td id=\"T_66a42c17_3c94_11ea_8202_d8d09023ef86row4_col2\" class=\"data row4 col2\" >-0.064</td>\n",
       "                        <td id=\"T_66a42c17_3c94_11ea_8202_d8d09023ef86row4_col3\" class=\"data row4 col3\" >0.8</td>\n",
       "                        <td id=\"T_66a42c17_3c94_11ea_8202_d8d09023ef86row4_col4\" class=\"data row4 col4\" >1</td>\n",
       "                        <td id=\"T_66a42c17_3c94_11ea_8202_d8d09023ef86row4_col5\" class=\"data row4 col5\" >0.093</td>\n",
       "                        <td id=\"T_66a42c17_3c94_11ea_8202_d8d09023ef86row4_col6\" class=\"data row4 col6\" >0.04</td>\n",
       "                        <td id=\"T_66a42c17_3c94_11ea_8202_d8d09023ef86row4_col7\" class=\"data row4 col7\" >0.035</td>\n",
       "                        <td id=\"T_66a42c17_3c94_11ea_8202_d8d09023ef86row4_col8\" class=\"data row4 col8\" >-0.0021</td>\n",
       "                        <td id=\"T_66a42c17_3c94_11ea_8202_d8d09023ef86row4_col9\" class=\"data row4 col9\" >-0.081</td>\n",
       "                        <td id=\"T_66a42c17_3c94_11ea_8202_d8d09023ef86row4_col10\" class=\"data row4 col10\" >0.0036</td>\n",
       "                        <td id=\"T_66a42c17_3c94_11ea_8202_d8d09023ef86row4_col11\" class=\"data row4 col11\" >0.014</td>\n",
       "                        <td id=\"T_66a42c17_3c94_11ea_8202_d8d09023ef86row4_col12\" class=\"data row4 col12\" >0.054</td>\n",
       "            </tr>\n",
       "            <tr>\n",
       "                        <th id=\"T_66a42c17_3c94_11ea_8202_d8d09023ef86level0_row5\" class=\"row_heading level0 row5\" >distance_copper_nonxdsl</th>\n",
       "                        <td id=\"T_66a42c17_3c94_11ea_8202_d8d09023ef86row5_col0\" class=\"data row5 col0\" >-0.24</td>\n",
       "                        <td id=\"T_66a42c17_3c94_11ea_8202_d8d09023ef86row5_col1\" class=\"data row5 col1\" >-0.29</td>\n",
       "                        <td id=\"T_66a42c17_3c94_11ea_8202_d8d09023ef86row5_col2\" class=\"data row5 col2\" >-0.58</td>\n",
       "                        <td id=\"T_66a42c17_3c94_11ea_8202_d8d09023ef86row5_col3\" class=\"data row5 col3\" >0.02</td>\n",
       "                        <td id=\"T_66a42c17_3c94_11ea_8202_d8d09023ef86row5_col4\" class=\"data row5 col4\" >0.093</td>\n",
       "                        <td id=\"T_66a42c17_3c94_11ea_8202_d8d09023ef86row5_col5\" class=\"data row5 col5\" >1</td>\n",
       "                        <td id=\"T_66a42c17_3c94_11ea_8202_d8d09023ef86row5_col6\" class=\"data row5 col6\" >0.43</td>\n",
       "                        <td id=\"T_66a42c17_3c94_11ea_8202_d8d09023ef86row5_col7\" class=\"data row5 col7\" >0.6</td>\n",
       "                        <td id=\"T_66a42c17_3c94_11ea_8202_d8d09023ef86row5_col8\" class=\"data row5 col8\" >0.5</td>\n",
       "                        <td id=\"T_66a42c17_3c94_11ea_8202_d8d09023ef86row5_col9\" class=\"data row5 col9\" >-0.73</td>\n",
       "                        <td id=\"T_66a42c17_3c94_11ea_8202_d8d09023ef86row5_col10\" class=\"data row5 col10\" >-0.59</td>\n",
       "                        <td id=\"T_66a42c17_3c94_11ea_8202_d8d09023ef86row5_col11\" class=\"data row5 col11\" >-0.59</td>\n",
       "                        <td id=\"T_66a42c17_3c94_11ea_8202_d8d09023ef86row5_col12\" class=\"data row5 col12\" >-0.62</td>\n",
       "            </tr>\n",
       "            <tr>\n",
       "                        <th id=\"T_66a42c17_3c94_11ea_8202_d8d09023ef86level0_row6\" class=\"row_heading level0 row6\" >distance_copper_xdsl</th>\n",
       "                        <td id=\"T_66a42c17_3c94_11ea_8202_d8d09023ef86row6_col0\" class=\"data row6 col0\" >-0.31</td>\n",
       "                        <td id=\"T_66a42c17_3c94_11ea_8202_d8d09023ef86row6_col1\" class=\"data row6 col1\" >-0.19</td>\n",
       "                        <td id=\"T_66a42c17_3c94_11ea_8202_d8d09023ef86row6_col2\" class=\"data row6 col2\" >-0.56</td>\n",
       "                        <td id=\"T_66a42c17_3c94_11ea_8202_d8d09023ef86row6_col3\" class=\"data row6 col3\" >-0.002</td>\n",
       "                        <td id=\"T_66a42c17_3c94_11ea_8202_d8d09023ef86row6_col4\" class=\"data row6 col4\" >0.04</td>\n",
       "                        <td id=\"T_66a42c17_3c94_11ea_8202_d8d09023ef86row6_col5\" class=\"data row6 col5\" >0.43</td>\n",
       "                        <td id=\"T_66a42c17_3c94_11ea_8202_d8d09023ef86row6_col6\" class=\"data row6 col6\" >1</td>\n",
       "                        <td id=\"T_66a42c17_3c94_11ea_8202_d8d09023ef86row6_col7\" class=\"data row6 col7\" >0.51</td>\n",
       "                        <td id=\"T_66a42c17_3c94_11ea_8202_d8d09023ef86row6_col8\" class=\"data row6 col8\" >0.36</td>\n",
       "                        <td id=\"T_66a42c17_3c94_11ea_8202_d8d09023ef86row6_col9\" class=\"data row6 col9\" >-0.34</td>\n",
       "                        <td id=\"T_66a42c17_3c94_11ea_8202_d8d09023ef86row6_col10\" class=\"data row6 col10\" >-0.42</td>\n",
       "                        <td id=\"T_66a42c17_3c94_11ea_8202_d8d09023ef86row6_col11\" class=\"data row6 col11\" >-0.31</td>\n",
       "                        <td id=\"T_66a42c17_3c94_11ea_8202_d8d09023ef86row6_col12\" class=\"data row6 col12\" >-0.31</td>\n",
       "            </tr>\n",
       "            <tr>\n",
       "                        <th id=\"T_66a42c17_3c94_11ea_8202_d8d09023ef86level0_row7\" class=\"row_heading level0 row7\" >distance_fiber</th>\n",
       "                        <td id=\"T_66a42c17_3c94_11ea_8202_d8d09023ef86row7_col0\" class=\"data row7 col0\" >-0.34</td>\n",
       "                        <td id=\"T_66a42c17_3c94_11ea_8202_d8d09023ef86row7_col1\" class=\"data row7 col1\" >-0.24</td>\n",
       "                        <td id=\"T_66a42c17_3c94_11ea_8202_d8d09023ef86row7_col2\" class=\"data row7 col2\" >-0.6</td>\n",
       "                        <td id=\"T_66a42c17_3c94_11ea_8202_d8d09023ef86row7_col3\" class=\"data row7 col3\" >0.01</td>\n",
       "                        <td id=\"T_66a42c17_3c94_11ea_8202_d8d09023ef86row7_col4\" class=\"data row7 col4\" >0.035</td>\n",
       "                        <td id=\"T_66a42c17_3c94_11ea_8202_d8d09023ef86row7_col5\" class=\"data row7 col5\" >0.6</td>\n",
       "                        <td id=\"T_66a42c17_3c94_11ea_8202_d8d09023ef86row7_col6\" class=\"data row7 col6\" >0.51</td>\n",
       "                        <td id=\"T_66a42c17_3c94_11ea_8202_d8d09023ef86row7_col7\" class=\"data row7 col7\" >1</td>\n",
       "                        <td id=\"T_66a42c17_3c94_11ea_8202_d8d09023ef86row7_col8\" class=\"data row7 col8\" >0.42</td>\n",
       "                        <td id=\"T_66a42c17_3c94_11ea_8202_d8d09023ef86row7_col9\" class=\"data row7 col9\" >-0.53</td>\n",
       "                        <td id=\"T_66a42c17_3c94_11ea_8202_d8d09023ef86row7_col10\" class=\"data row7 col10\" >-0.5</td>\n",
       "                        <td id=\"T_66a42c17_3c94_11ea_8202_d8d09023ef86row7_col11\" class=\"data row7 col11\" >-0.64</td>\n",
       "                        <td id=\"T_66a42c17_3c94_11ea_8202_d8d09023ef86row7_col12\" class=\"data row7 col12\" >-0.52</td>\n",
       "            </tr>\n",
       "            <tr>\n",
       "                        <th id=\"T_66a42c17_3c94_11ea_8202_d8d09023ef86level0_row8\" class=\"row_heading level0 row8\" >distance_radio</th>\n",
       "                        <td id=\"T_66a42c17_3c94_11ea_8202_d8d09023ef86row8_col0\" class=\"data row8 col0\" >-0.21</td>\n",
       "                        <td id=\"T_66a42c17_3c94_11ea_8202_d8d09023ef86row8_col1\" class=\"data row8 col1\" >-0.17</td>\n",
       "                        <td id=\"T_66a42c17_3c94_11ea_8202_d8d09023ef86row8_col2\" class=\"data row8 col2\" >-0.46</td>\n",
       "                        <td id=\"T_66a42c17_3c94_11ea_8202_d8d09023ef86row8_col3\" class=\"data row8 col3\" >-0.028</td>\n",
       "                        <td id=\"T_66a42c17_3c94_11ea_8202_d8d09023ef86row8_col4\" class=\"data row8 col4\" >-0.0021</td>\n",
       "                        <td id=\"T_66a42c17_3c94_11ea_8202_d8d09023ef86row8_col5\" class=\"data row8 col5\" >0.5</td>\n",
       "                        <td id=\"T_66a42c17_3c94_11ea_8202_d8d09023ef86row8_col6\" class=\"data row8 col6\" >0.36</td>\n",
       "                        <td id=\"T_66a42c17_3c94_11ea_8202_d8d09023ef86row8_col7\" class=\"data row8 col7\" >0.42</td>\n",
       "                        <td id=\"T_66a42c17_3c94_11ea_8202_d8d09023ef86row8_col8\" class=\"data row8 col8\" >1</td>\n",
       "                        <td id=\"T_66a42c17_3c94_11ea_8202_d8d09023ef86row8_col9\" class=\"data row8 col9\" >-0.36</td>\n",
       "                        <td id=\"T_66a42c17_3c94_11ea_8202_d8d09023ef86row8_col10\" class=\"data row8 col10\" >-0.31</td>\n",
       "                        <td id=\"T_66a42c17_3c94_11ea_8202_d8d09023ef86row8_col11\" class=\"data row8 col11\" >-0.33</td>\n",
       "                        <td id=\"T_66a42c17_3c94_11ea_8202_d8d09023ef86row8_col12\" class=\"data row8 col12\" >-0.45</td>\n",
       "            </tr>\n",
       "            <tr>\n",
       "                        <th id=\"T_66a42c17_3c94_11ea_8202_d8d09023ef86level0_row9\" class=\"row_heading level0 row9\" >copper_nonxdsl_count</th>\n",
       "                        <td id=\"T_66a42c17_3c94_11ea_8202_d8d09023ef86row9_col0\" class=\"data row9 col0\" >0.2</td>\n",
       "                        <td id=\"T_66a42c17_3c94_11ea_8202_d8d09023ef86row9_col1\" class=\"data row9 col1\" >0.2</td>\n",
       "                        <td id=\"T_66a42c17_3c94_11ea_8202_d8d09023ef86row9_col2\" class=\"data row9 col2\" >0.58</td>\n",
       "                        <td id=\"T_66a42c17_3c94_11ea_8202_d8d09023ef86row9_col3\" class=\"data row9 col3\" >-0.022</td>\n",
       "                        <td id=\"T_66a42c17_3c94_11ea_8202_d8d09023ef86row9_col4\" class=\"data row9 col4\" >-0.081</td>\n",
       "                        <td id=\"T_66a42c17_3c94_11ea_8202_d8d09023ef86row9_col5\" class=\"data row9 col5\" >-0.73</td>\n",
       "                        <td id=\"T_66a42c17_3c94_11ea_8202_d8d09023ef86row9_col6\" class=\"data row9 col6\" >-0.34</td>\n",
       "                        <td id=\"T_66a42c17_3c94_11ea_8202_d8d09023ef86row9_col7\" class=\"data row9 col7\" >-0.53</td>\n",
       "                        <td id=\"T_66a42c17_3c94_11ea_8202_d8d09023ef86row9_col8\" class=\"data row9 col8\" >-0.36</td>\n",
       "                        <td id=\"T_66a42c17_3c94_11ea_8202_d8d09023ef86row9_col9\" class=\"data row9 col9\" >1</td>\n",
       "                        <td id=\"T_66a42c17_3c94_11ea_8202_d8d09023ef86row9_col10\" class=\"data row9 col10\" >0.86</td>\n",
       "                        <td id=\"T_66a42c17_3c94_11ea_8202_d8d09023ef86row9_col11\" class=\"data row9 col11\" >0.84</td>\n",
       "                        <td id=\"T_66a42c17_3c94_11ea_8202_d8d09023ef86row9_col12\" class=\"data row9 col12\" >0.86</td>\n",
       "            </tr>\n",
       "            <tr>\n",
       "                        <th id=\"T_66a42c17_3c94_11ea_8202_d8d09023ef86level0_row10\" class=\"row_heading level0 row10\" >copper_xdsl_count</th>\n",
       "                        <td id=\"T_66a42c17_3c94_11ea_8202_d8d09023ef86row10_col0\" class=\"data row10 col0\" >0.22</td>\n",
       "                        <td id=\"T_66a42c17_3c94_11ea_8202_d8d09023ef86row10_col1\" class=\"data row10 col1\" >0.19</td>\n",
       "                        <td id=\"T_66a42c17_3c94_11ea_8202_d8d09023ef86row10_col2\" class=\"data row10 col2\" >0.56</td>\n",
       "                        <td id=\"T_66a42c17_3c94_11ea_8202_d8d09023ef86row10_col3\" class=\"data row10 col3\" >0.047</td>\n",
       "                        <td id=\"T_66a42c17_3c94_11ea_8202_d8d09023ef86row10_col4\" class=\"data row10 col4\" >0.0036</td>\n",
       "                        <td id=\"T_66a42c17_3c94_11ea_8202_d8d09023ef86row10_col5\" class=\"data row10 col5\" >-0.59</td>\n",
       "                        <td id=\"T_66a42c17_3c94_11ea_8202_d8d09023ef86row10_col6\" class=\"data row10 col6\" >-0.42</td>\n",
       "                        <td id=\"T_66a42c17_3c94_11ea_8202_d8d09023ef86row10_col7\" class=\"data row10 col7\" >-0.5</td>\n",
       "                        <td id=\"T_66a42c17_3c94_11ea_8202_d8d09023ef86row10_col8\" class=\"data row10 col8\" >-0.31</td>\n",
       "                        <td id=\"T_66a42c17_3c94_11ea_8202_d8d09023ef86row10_col9\" class=\"data row10 col9\" >0.86</td>\n",
       "                        <td id=\"T_66a42c17_3c94_11ea_8202_d8d09023ef86row10_col10\" class=\"data row10 col10\" >1</td>\n",
       "                        <td id=\"T_66a42c17_3c94_11ea_8202_d8d09023ef86row10_col11\" class=\"data row10 col11\" >0.82</td>\n",
       "                        <td id=\"T_66a42c17_3c94_11ea_8202_d8d09023ef86row10_col12\" class=\"data row10 col12\" >0.85</td>\n",
       "            </tr>\n",
       "            <tr>\n",
       "                        <th id=\"T_66a42c17_3c94_11ea_8202_d8d09023ef86level0_row11\" class=\"row_heading level0 row11\" >fiber_count</th>\n",
       "                        <td id=\"T_66a42c17_3c94_11ea_8202_d8d09023ef86row11_col0\" class=\"data row11 col0\" >0.25</td>\n",
       "                        <td id=\"T_66a42c17_3c94_11ea_8202_d8d09023ef86row11_col1\" class=\"data row11 col1\" >0.17</td>\n",
       "                        <td id=\"T_66a42c17_3c94_11ea_8202_d8d09023ef86row11_col2\" class=\"data row11 col2\" >0.56</td>\n",
       "                        <td id=\"T_66a42c17_3c94_11ea_8202_d8d09023ef86row11_col3\" class=\"data row11 col3\" >0.022</td>\n",
       "                        <td id=\"T_66a42c17_3c94_11ea_8202_d8d09023ef86row11_col4\" class=\"data row11 col4\" >0.014</td>\n",
       "                        <td id=\"T_66a42c17_3c94_11ea_8202_d8d09023ef86row11_col5\" class=\"data row11 col5\" >-0.59</td>\n",
       "                        <td id=\"T_66a42c17_3c94_11ea_8202_d8d09023ef86row11_col6\" class=\"data row11 col6\" >-0.31</td>\n",
       "                        <td id=\"T_66a42c17_3c94_11ea_8202_d8d09023ef86row11_col7\" class=\"data row11 col7\" >-0.64</td>\n",
       "                        <td id=\"T_66a42c17_3c94_11ea_8202_d8d09023ef86row11_col8\" class=\"data row11 col8\" >-0.33</td>\n",
       "                        <td id=\"T_66a42c17_3c94_11ea_8202_d8d09023ef86row11_col9\" class=\"data row11 col9\" >0.84</td>\n",
       "                        <td id=\"T_66a42c17_3c94_11ea_8202_d8d09023ef86row11_col10\" class=\"data row11 col10\" >0.82</td>\n",
       "                        <td id=\"T_66a42c17_3c94_11ea_8202_d8d09023ef86row11_col11\" class=\"data row11 col11\" >1</td>\n",
       "                        <td id=\"T_66a42c17_3c94_11ea_8202_d8d09023ef86row11_col12\" class=\"data row11 col12\" >0.83</td>\n",
       "            </tr>\n",
       "            <tr>\n",
       "                        <th id=\"T_66a42c17_3c94_11ea_8202_d8d09023ef86level0_row12\" class=\"row_heading level0 row12\" >radio_count</th>\n",
       "                        <td id=\"T_66a42c17_3c94_11ea_8202_d8d09023ef86row12_col0\" class=\"data row12 col0\" >0.22</td>\n",
       "                        <td id=\"T_66a42c17_3c94_11ea_8202_d8d09023ef86row12_col1\" class=\"data row12 col1\" >0.17</td>\n",
       "                        <td id=\"T_66a42c17_3c94_11ea_8202_d8d09023ef86row12_col2\" class=\"data row12 col2\" >0.55</td>\n",
       "                        <td id=\"T_66a42c17_3c94_11ea_8202_d8d09023ef86row12_col3\" class=\"data row12 col3\" >0.093</td>\n",
       "                        <td id=\"T_66a42c17_3c94_11ea_8202_d8d09023ef86row12_col4\" class=\"data row12 col4\" >0.054</td>\n",
       "                        <td id=\"T_66a42c17_3c94_11ea_8202_d8d09023ef86row12_col5\" class=\"data row12 col5\" >-0.62</td>\n",
       "                        <td id=\"T_66a42c17_3c94_11ea_8202_d8d09023ef86row12_col6\" class=\"data row12 col6\" >-0.31</td>\n",
       "                        <td id=\"T_66a42c17_3c94_11ea_8202_d8d09023ef86row12_col7\" class=\"data row12 col7\" >-0.52</td>\n",
       "                        <td id=\"T_66a42c17_3c94_11ea_8202_d8d09023ef86row12_col8\" class=\"data row12 col8\" >-0.45</td>\n",
       "                        <td id=\"T_66a42c17_3c94_11ea_8202_d8d09023ef86row12_col9\" class=\"data row12 col9\" >0.86</td>\n",
       "                        <td id=\"T_66a42c17_3c94_11ea_8202_d8d09023ef86row12_col10\" class=\"data row12 col10\" >0.85</td>\n",
       "                        <td id=\"T_66a42c17_3c94_11ea_8202_d8d09023ef86row12_col11\" class=\"data row12 col11\" >0.83</td>\n",
       "                        <td id=\"T_66a42c17_3c94_11ea_8202_d8d09023ef86row12_col12\" class=\"data row12 col12\" >1</td>\n",
       "            </tr>\n",
       "    </tbody></table>"
      ],
      "text/plain": [
       "<pandas.io.formats.style.Styler at 0x1f482c42250>"
      ]
     },
     "execution_count": 30,
     "metadata": {},
     "output_type": "execute_result"
    }
   ],
   "source": [
    "corr = df.corr()\n",
    "corr.style.background_gradient(cmap='coolwarm').set_precision(2)"
   ]
  },
  {
   "cell_type": "markdown",
   "metadata": {},
   "source": [
    "Jak widać najbardziej skorelowanymi zmiennymi są odległości od węzła telekomunikacyjnego (odwrotna korelacja) w technologii światłowodowej i xDSL. Zmienne na temat ukształtowania terenu: zmiana wysokości i mediana wysokości nie wykazują prawie żadnej korelacji.\n",
    "\n",
    "Ostatnia rzecz to podzielenie danych na zbiór treningowy i testowy. Jako, że mamy dużo obserwacji zastosujemy podział 90% zbioru na trenowanie i 10% na testowanie."
   ]
  },
  {
   "cell_type": "code",
   "execution_count": 31,
   "metadata": {},
   "outputs": [],
   "source": [
    "from sklearn.model_selection import train_test_split\n",
    "\n",
    "x = df[[x for x in df.columns if x != 'class']]\n",
    "y = df['class']\n",
    "\n",
    "train_x, test_x, train_y, test_y = train_test_split(x, y, train_size=0.9, test_size=0.1)"
   ]
  },
  {
   "cell_type": "markdown",
   "metadata": {},
   "source": [
    "## Model uczenia maszynowego\n",
    "\n",
    "..."
   ]
  },
  {
   "cell_type": "markdown",
   "metadata": {},
   "source": [
    "Do oceny modeli użyjemy wskaźników accuracy score oraz balanced accuracy score, a także [confusion matrix](https://pl.wikipedia.org/wiki/Tablica_pomy%C5%82ek)."
   ]
  },
  {
   "cell_type": "code",
   "execution_count": 32,
   "metadata": {},
   "outputs": [],
   "source": [
    "from sklearn.metrics import confusion_matrix, balanced_accuracy_score, plot_confusion_matrix, accuracy_score, classification_report"
   ]
  },
  {
   "cell_type": "markdown",
   "metadata": {},
   "source": [
    "Sprawdzimy jak radzą sobie podstawowe algorytmy."
   ]
  },
  {
   "cell_type": "code",
   "execution_count": 33,
   "metadata": {},
   "outputs": [],
   "source": [
    "from sklearn.tree import DecisionTreeClassifier\n",
    "from sklearn.neighbors import KNeighborsClassifier\n",
    "from sklearn.experimental import enable_hist_gradient_boosting\n",
    "from sklearn.ensemble import RandomForestClassifier, HistGradientBoostingClassifier\n",
    "\n",
    "models = {\n",
    "    'dt': DecisionTreeClassifier(),\n",
    "    'knn': KNeighborsClassifier(n_jobs=-1),\n",
    "    'rf': RandomForestClassifier(n_jobs=-1),\n",
    "    'xgb': HistGradientBoostingClassifier()  \n",
    "}\n",
    "predictions = {}"
   ]
  },
  {
   "cell_type": "markdown",
   "metadata": {},
   "source": [
    "Trenujemy modele na naszych danych.\n",
    "\n",
    "komenda _%%time_ pokaże jak długo kod z danej komórki się wykonywał"
   ]
  },
  {
   "cell_type": "code",
   "execution_count": 34,
   "metadata": {},
   "outputs": [
    {
     "name": "stdout",
     "output_type": "stream",
     "text": [
      "Wall time: 5min 46s\n"
     ]
    }
   ],
   "source": [
    "%%time\n",
    "models['dt'].fit(train_x, train_y)\n",
    "predictions['dt'] = models['dt'].predict(test_x)"
   ]
  },
  {
   "cell_type": "code",
   "execution_count": 35,
   "metadata": {},
   "outputs": [
    {
     "name": "stdout",
     "output_type": "stream",
     "text": [
      "Wall time: 6min 39s\n"
     ]
    }
   ],
   "source": [
    "%%time\n",
    "models['knn'].fit(train_x, train_y)\n",
    "predictions['knn'] = models['knn'].predict(test_x)"
   ]
  },
  {
   "cell_type": "code",
   "execution_count": 36,
   "metadata": {},
   "outputs": [
    {
     "name": "stdout",
     "output_type": "stream",
     "text": [
      "Wall time: 3min 14s\n"
     ]
    }
   ],
   "source": [
    "%%time\n",
    "models['xgb'].fit(train_x, train_y)\n",
    "predictions['xgb'] = models['xgb'].predict(test_x)"
   ]
  },
  {
   "cell_type": "code",
   "execution_count": 47,
   "metadata": {},
   "outputs": [
    {
     "name": "stdout",
     "output_type": "stream",
     "text": [
      "Wall time: 12min\n"
     ]
    }
   ],
   "source": [
    "%%time\n",
    "models['rf'].fit(train_x, train_y)\n",
    "predictions['rf'] = models['rf'].predict(test_x)"
   ]
  },
  {
   "cell_type": "code",
   "execution_count": 37,
   "metadata": {},
   "outputs": [
    {
     "name": "stdout",
     "output_type": "stream",
     "text": [
      "model: Decision Tree\n",
      "balanced_accuracy_score: 0.7558776924836274\n",
      "accuracy_score: 0.7500395789912851\n",
      "classification_report:\n",
      "              precision    recall  f1-score   support\n",
      "\n",
      "           1       0.74      0.74      0.74     93901\n",
      "           2       0.69      0.69      0.69    127691\n",
      "           3       0.75      0.75      0.75    142055\n",
      "           4       0.78      0.78      0.78     82134\n",
      "           5       0.83      0.82      0.82     91120\n",
      "\n",
      "    accuracy                           0.75    536901\n",
      "   macro avg       0.76      0.76      0.76    536901\n",
      "weighted avg       0.75      0.75      0.75    536901\n",
      "\n"
     ]
    }
   ],
   "source": [
    "print('model: Decision Tree')\n",
    "print('balanced_accuracy_score:', balanced_accuracy_score(test_y, predictions['dt']))\n",
    "print('accuracy_score:', accuracy_score(test_y, predictions['dt']))\n",
    "print('classification_report:')\n",
    "print(classification_report(test_y, predictions['dt'], labels=labels))"
   ]
  },
  {
   "cell_type": "code",
   "execution_count": 38,
   "metadata": {},
   "outputs": [
    {
     "data": {
      "text/plain": [
       "array([[ 69570,  12599,   6851,   2322,   2559],\n",
       "       [ 12807,  87642,  16714,   5914,   4614],\n",
       "       [  6583,  16623, 106424,   6858,   5567],\n",
       "       [  2335,   5774,   6850,  63994,   3181],\n",
       "       [  2561,   4621,   5660,   3211,  75067]], dtype=int64)"
      ]
     },
     "execution_count": 38,
     "metadata": {},
     "output_type": "execute_result"
    }
   ],
   "source": [
    "confusion_matrix(test_y, predictions['dt'], labels=labels)"
   ]
  },
  {
   "cell_type": "code",
   "execution_count": 39,
   "metadata": {},
   "outputs": [
    {
     "data": {
      "image/png": "[encoded data removed]",
      "text/plain": [
       "<Figure size 720x720 with 2 Axes>"
      ]
     },
     "metadata": {
      "needs_background": "light"
     },
     "output_type": "display_data"
    }
   ],
   "source": [
    "import matplotlib.pyplot as plt\n",
    "fig, ax = plt.subplots()\n",
    "fig.set_size_inches(10,10)\n",
    "_ = plot_confusion_matrix(models['dt'], test_x, test_y, labels, display_labels=desc_labels, normalize='pred', ax=ax)\n",
    "plt.show()"
   ]
  },
  {
   "cell_type": "code",
   "execution_count": 40,
   "metadata": {},
   "outputs": [
    {
     "name": "stdout",
     "output_type": "stream",
     "text": [
      "model: KNN\n",
      "balanced_accuracy_score: 0.7761879731390179\n",
      "accuracy_score: 0.7693187384638881\n",
      "classification_report:\n",
      "              precision    recall  f1-score   support\n",
      "\n",
      "           1       0.74      0.81      0.77     93901\n",
      "           2       0.72      0.70      0.71    127691\n",
      "           3       0.78      0.76      0.77    142055\n",
      "           4       0.78      0.79      0.79     82134\n",
      "           5       0.84      0.82      0.83     91120\n",
      "\n",
      "    accuracy                           0.77    536901\n",
      "   macro avg       0.77      0.78      0.77    536901\n",
      "weighted avg       0.77      0.77      0.77    536901\n",
      "\n"
     ]
    }
   ],
   "source": [
    "print('model: KNN')\n",
    "print('balanced_accuracy_score:', balanced_accuracy_score(test_y, predictions['knn']))\n",
    "print('accuracy_score:', accuracy_score(test_y, predictions['knn']))\n",
    "print('classification_report:')\n",
    "print(classification_report(test_y, predictions['knn'], labels=labels))"
   ]
  },
  {
   "cell_type": "code",
   "execution_count": 41,
   "metadata": {},
   "outputs": [
    {
     "data": {
      "text/plain": [
       "array([[ 75649,   9550,   4198,   2234,   2270],\n",
       "       [ 13912,  89621,  14502,   5560,   4096],\n",
       "       [  7559,  15244, 107778,   6462,   5012],\n",
       "       [  2340,   5212,   6621,  65225,   2736],\n",
       "       [  2692,   4445,   5569,   3639,  74775]], dtype=int64)"
      ]
     },
     "execution_count": 41,
     "metadata": {},
     "output_type": "execute_result"
    }
   ],
   "source": [
    "confusion_matrix(test_y, predictions['knn'], labels=labels)"
   ]
  },
  {
   "cell_type": "code",
   "execution_count": 42,
   "metadata": {},
   "outputs": [
    {
     "data": {
      "image/png": "[encoded data removed]",
      "text/plain": [
       "<Figure size 720x720 with 2 Axes>"
      ]
     },
     "metadata": {
      "needs_background": "light"
     },
     "output_type": "display_data"
    }
   ],
   "source": [
    "import matplotlib.pyplot as plt\n",
    "fig, ax = plt.subplots()\n",
    "fig.set_size_inches(10,10)\n",
    "_ = plot_confusion_matrix(models['knn'], test_x, test_y, labels, display_labels=desc_labels, normalize='pred', ax=ax)\n",
    "plt.show()"
   ]
  },
  {
   "cell_type": "code",
   "execution_count": 46,
   "metadata": {},
   "outputs": [
    {
     "name": "stdout",
     "output_type": "stream",
     "text": [
      "model: HistGradientBoosting\n",
      "balanced_accuracy_score: 0.5672331028087197\n",
      "accuracy_score: 0.5754040316557428\n",
      "classification_report:\n",
      "              precision    recall  f1-score   support\n",
      "\n",
      "           1       0.58      0.66      0.62     93901\n",
      "           2       0.51      0.52      0.51    127691\n",
      "           3       0.58      0.66      0.62    142055\n",
      "           4       0.65      0.45      0.53     82134\n",
      "           5       0.62      0.54      0.58     91120\n",
      "\n",
      "    accuracy                           0.58    536901\n",
      "   macro avg       0.59      0.57      0.57    536901\n",
      "weighted avg       0.58      0.58      0.57    536901\n",
      "\n"
     ]
    }
   ],
   "source": [
    "print('model: HistGradientBoosting')\n",
    "print('balanced_accuracy_score:', balanced_accuracy_score(test_y, predictions['xgb']))\n",
    "print('accuracy_score:', accuracy_score(test_y, predictions['xgb']))\n",
    "print('classification_report:')\n",
    "print(classification_report(test_y, predictions['xgb'], labels=labels))"
   ]
  },
  {
   "cell_type": "code",
   "execution_count": 44,
   "metadata": {},
   "outputs": [
    {
     "data": {
      "text/plain": [
       "array([[62139, 18971,  6332,  1796,  4663],\n",
       "       [19209, 65912, 28280,  5934,  8356],\n",
       "       [10766, 20637, 94449,  6958,  9245],\n",
       "       [ 7049, 12338, 17404, 37288,  8055],\n",
       "       [ 8801, 12235, 15362,  5575, 49147]], dtype=int64)"
      ]
     },
     "execution_count": 44,
     "metadata": {},
     "output_type": "execute_result"
    }
   ],
   "source": [
    "confusion_matrix(test_y, predictions['xgb'], labels=labels)"
   ]
  },
  {
   "cell_type": "code",
   "execution_count": 45,
   "metadata": {},
   "outputs": [
    {
     "data": {
      "image/png": "[encoded data removed]",
      "text/plain": [
       "<Figure size 720x720 with 2 Axes>"
      ]
     },
     "metadata": {
      "needs_background": "light"
     },
     "output_type": "display_data"
    }
   ],
   "source": [
    "import matplotlib.pyplot as plt\n",
    "fig, ax = plt.subplots()\n",
    "fig.set_size_inches(10,10)\n",
    "_ = plot_confusion_matrix(models['xgb'], test_x, test_y, labels, display_labels=desc_labels, normalize='pred', ax=ax)\n",
    "plt.show()"
   ]
  },
  {
   "cell_type": "code",
   "execution_count": 48,
   "metadata": {},
   "outputs": [
    {
     "name": "stdout",
     "output_type": "stream",
     "text": [
      "model: Random Forest\n",
      "balanced_accuracy_score: 0.82536873633716\n",
      "accuracy_score: 0.8183557117606411\n",
      "classification_report:\n",
      "              precision    recall  f1-score   support\n",
      "\n",
      "           1       0.80      0.83      0.81     93901\n",
      "           2       0.78      0.75      0.77    127691\n",
      "           3       0.82      0.81      0.81    142055\n",
      "           4       0.83      0.85      0.84     82134\n",
      "           5       0.87      0.88      0.88     91120\n",
      "\n",
      "    accuracy                           0.82    536901\n",
      "   macro avg       0.82      0.83      0.82    536901\n",
      "weighted avg       0.82      0.82      0.82    536901\n",
      "\n"
     ]
    }
   ],
   "source": [
    "print('model: Random Forest')\n",
    "print('balanced_accuracy_score:', balanced_accuracy_score(test_y, predictions['rf']))\n",
    "print('accuracy_score:', accuracy_score(test_y, predictions['rf']))\n",
    "print('classification_report:')\n",
    "print(classification_report(test_y, predictions['rf'], labels=labels))"
   ]
  },
  {
   "cell_type": "code",
   "execution_count": 49,
   "metadata": {},
   "outputs": [
    {
     "data": {
      "text/plain": [
       "array([[ 77917,   8379,   3956,   1825,   1824],\n",
       "       [ 10841,  96230,  12357,   4792,   3471],\n",
       "       [  5957,  11740, 114753,   5400,   4205],\n",
       "       [  1556,   3605,   4743,  70158,   2072],\n",
       "       [  1713,   2981,   3814,   2294,  80318]], dtype=int64)"
      ]
     },
     "execution_count": 49,
     "metadata": {},
     "output_type": "execute_result"
    }
   ],
   "source": [
    "confusion_matrix(test_y, predictions['rf'], labels=labels)"
   ]
  },
  {
   "cell_type": "code",
   "execution_count": 50,
   "metadata": {},
   "outputs": [
    {
     "data": {
      "image/png": "[encoded data removed]",
      "text/plain": [
       "<Figure size 720x720 with 2 Axes>"
      ]
     },
     "metadata": {
      "needs_background": "light"
     },
     "output_type": "display_data"
    }
   ],
   "source": [
    "import matplotlib.pyplot as plt\n",
    "fig, ax = plt.subplots()\n",
    "fig.set_size_inches(10,10)\n",
    "_ = plot_confusion_matrix(models['rf'], test_x, test_y, labels, display_labels=desc_labels, normalize='pred', ax=ax)\n",
    "plt.show()"
   ]
  },
  {
   "cell_type": "markdown",
   "metadata": {},
   "source": [
    "...\n",
    "\n",
    "## Podsumowanie\n",
    "\n",
    "W ramach tego projektu przygotowano zbiór danych w oparciu o otwarte źródła danych. W sumie pobrano i przetworzono kilkadziesiąt gigabajtów danych. Przetworzono je do wspólnego formatu, wyfiltrowano potrzebne informacje i połączono między sobą na podstawie atrybutów zarówno opisowych (adres) jak i przestrzennych (położenie). Niestety część źródeł, które chciałem wykorzystać była płatna jak np. dane z rejestru NOBC prowadzonego przez GUS, które wyceniono na 2500 zł brutto (na cele naukowe), a o część źródeł nie zdążyłem wystąpić jak np. zagregowane dane z rejestru PESEL.\n",
    "\n",
    "Jak pokazały wyniki ... .\n",
    "\n",
    "Ćwiczenie mogłoby zostać powtórzone z dodaniem nowych zbiorów danych, które mogły by rozszerzyć obecny o informacje takie jak liczba lokali w budynku/sąsiedztwie, czy dane demograficzne. Dodatkowo można by przeprowadzić głębszą analizę poprawności danych o infrastrukturze i zastosować dodatkowe kroki przetwarzania ze względu na to że występują spore różnice między tym jak poszczególni przedsiębiorcy się sprawozdają, alternatywnie przyjąć inne założenia co do wykorzystania danych o infrastrukturze, ponieważ tutaj dane podzieliliśmy tylko na 4 kategorie technologii podczas gdy technologii jest więcej."
   ]
  },
  {
   "cell_type": "markdown",
   "metadata": {},
   "source": [
    "---\n",
    "---\n",
    "Wytrenowane modele można zapisać na dysku:"
   ]
  },
  {
   "cell_type": "code",
   "execution_count": 51,
   "metadata": {},
   "outputs": [],
   "source": [
    "from joblib import dump, load\n",
    "\n",
    "for k, v in models.items():\n",
    "    dump(v, k+'.joblib')"
   ]
  },
  {
   "cell_type": "code",
   "execution_count": 52,
   "metadata": {},
   "outputs": [],
   "source": [
    "df.to_csv('df.zip', index=False, sep=';')"
   ]
  }
 ],
 "metadata": {
  "kernelspec": {
   "display_name": "Python 3",
   "language": "python",
   "name": "python3"
  },
  "language_info": {
   "codemirror_mode": {
    "name": "ipython",
    "version": 3
   },
   "file_extension": ".py",
   "mimetype": "text/x-python",
   "name": "python",
   "nbconvert_exporter": "python",
   "pygments_lexer": "ipython3",
   "version": "3.8.1"
  }
 },
 "nbformat": 4,
 "nbformat_minor": 4
}
